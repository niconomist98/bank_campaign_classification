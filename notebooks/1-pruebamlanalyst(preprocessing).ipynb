{
 "cells": [
  {
   "cell_type": "markdown",
   "metadata": {
    "id": "5vQzpXg3PCaF"
   },
   "source": [
    "\n",
    "# **Prueba  ML Analyst - Notebook de preprocesamiento** \n"
   ]
  },
  {
   "cell_type": "markdown",
   "metadata": {
    "id": "IBMyro6KYT-r"
   },
   "source": [
    "\n",
    "# Contenido \n",
    "1.   Definicion del problema a resolver\n",
    "2.   Limpieza y calidad de datos general\n",
    "3.   Revisando el balance de los datos\n",
    "4.   Perfilado de datos\n",
    "5.   Observaciones sobre el perfilado\n",
    "6.   Revisando las variables  **emp.var.rate, euribor3m y nr.employed**\n",
    "7.   Limpieza de otras variables\n",
    "8.   Explorando columnas categoricas\n",
    "9.   Explorando valores faltantes en cada columna\n",
    "10.  Eliminando duplicados.\n",
    "\n"
   ]
  },
  {
   "cell_type": "markdown",
   "metadata": {
    "collapsed": false
   },
   "source": [
    "\n",
    "#  <center>**Campaña Bancaria - Preprocesamiento de datos**</center>\n",
    "## Definición del problema a resolver:\n",
    "\n",
    "El conjunto de datos contiene información sobre campañas de marketing que se realizaron a través de llamadas telefónicas de una institución bancaria a sus clientes. El objetivo de estas campañas es incitar a sus clientes a suscribirse a un producto financiero específico del banco (depósito a plazo). Después de realizar cada llamada, el cliente debía informar a la institución sobre su decisión de suscribirse al producto(indicando una campaña exitosa) o no (campaña no exitosa).\n",
    "El resultado final de esta encuesta será un resultado binario que indicará si el cliente se suscribió al producto o no.\n",
    "\n",
    "El conjunto de datos tiene 41188 filas (instancias de llamadas a clientes) y 21 columnas (variables) que describen ciertos aspectos de la llamada. Tenga en cuenta que hay casos en los que el mismo cliente fue contactado varias veces.\n",
    "\n",
    "\n",
    "**Dadas las caracteristicas del problema en cuestion, estamos frente a un problema de aprendizaje supervisado con variable objetivo categorica binaria. El modelo desarrollado será un modelo de clasificación.**\n"
   ]
  },
  {
   "cell_type": "markdown",
   "metadata": {
    "id": "ArYT6Z1UVbZR"
   },
   "source": [
    "Feature name |Type| Number of Non null|Description and values\n",
    "---:|:----------:|:---:|:---\n",
    "suscribed (Target) |Object |41185| Indica si el cliente se sucribió al producto o no\n",
    "job| object | 41188|tipo de trabajo (por ejemplo: administrador, técnico, desempleado, etc.)\n",
    "marital| Object |41188|estado civil (&#39;casado&#39;, &#39;soltero&#39;,&#39;divorciado&#39;, &#39;desconocido&#39;)\n",
    "education| object| 41188|nivel de educación (&#39;básico.4 años&#39;, &#39;bachillerato&#39;, &#39;básico.6 años&#39;, &#39;básico.9 años&#39;, &#39;curso.profesional&#39;, &#39;desconocido&#39;,&#39;título universitario&#39;, &#39;analfabeto&#39;)\n",
    "default| object| 41188 |default: si el cliente tiene crédito en default (&#39;no&#39;, &#39;desconocido&#39;, &#39;si&#39;)\n",
    "housing| Object | 41188 |si el cliente tiene un préstamo de vivienda (&#39;no&#39;, &#39;desconocido&#39;, &#39;sí&#39;)|\n",
    "loan| Object | 41188 |préstamo: si el cliente tiene un préstamo personal? (&#39;no&#39;, &#39;desconocido&#39;, &#39;sí&#39;)|\n",
    "contact| Object | 41188 |tipo de comunicación (&#39;teléfono&#39;,&#39;celular&#39;)|\n",
    "month | Object | 41188 |mes del último contacto|\n",
    "day_of_week| Object | 41188 |dia del ultimo contacto|\n",
    "duration| float64 | 41188 |duracion de la llamada en segundos|\n",
    "campaign| float64 | 41188|número de contactos realizados durante esta campaña y para este cliente|\n",
    "pdays| float64 | 41188 |número de días transcurridos desde la última vez que se contactó al cliente de una campaña anterior|\n",
    "previous| float64| 41188 |número de contactos realizados antes de esta campaña y para este cliente|\n",
    "poutcome | Object | 41188 |resultado de la campaña de marketing anterior (&#39;inexistente&#39;, &#39;fracaso&#39;, &#39;éxito&#39;)|\n",
    "emp.var.rate| Object | 41188 |tasa de variación del empleo - indicador trimestral|\n",
    "cons.price.idx| float64 |41188|Indice de precios al consumidor indicador mensual|\n",
    "cons.conf.idx| float64 |41188 |índice de confianza del consumidor - indicador mensual|\n",
    "euribor3m | Object | 41188 |tasa euribor 3 meses - indicador diario|\n",
    "nr.employed| Object | 41188 |número de empleados - indicador trimestral|\n"
   ]
  },
  {
   "cell_type": "markdown",
   "metadata": {
    "id": "-x5Xpni4PHWu"
   },
   "source": [
    "Importando las librerías necesarias\n"
   ]
  },
  {
   "cell_type": "code",
   "execution_count": null,
   "metadata": {
    "colab": {
     "base_uri": "https://localhost:8080/"
    },
    "id": "6fy6b9wIP1Qk",
    "outputId": "5841ada6-2b78-4c1c-da68-cdd390f64dec"
   },
   "outputs": [],
   "source": [
    "#Importando las librerias necesarias\n",
    "import matplotlib.pyplot as plt\n",
    "import plotly.express as px\n",
    "import seaborn as sb\n",
    "from sklearn import metrics\n",
    "import seaborn as sns\n",
    "import numpy as np\n",
    "from matplotlib import cm\n",
    "import pandas as pd\n",
    "import numpy as np\n",
    "from pandas_profiling import ProfileReport\n",
    "from sklearn.impute import SimpleImputer\n"
   ]
  },
  {
   "cell_type": "markdown",
   "metadata": {
    "id": "XySqt7ViXmQi"
   },
   "source": [
    "# Cargando los datos"
   ]
  },
  {
   "cell_type": "code",
   "execution_count": 2,
   "metadata": {
    "id": "ScNPU7wZPHBv"
   },
   "outputs": [],
   "source": [
    "#Leyendo el dataset,\n",
    "#nota: poner Bank_Campaign.xlsx en el directorio data/raw\n",
    "df=pd.read_excel(\"../data/raw/Bank_Campaign.xlsx\")"
   ]
  },
  {
   "cell_type": "code",
   "execution_count": 3,
   "metadata": {
    "colab": {
     "base_uri": "https://localhost:8080/",
     "height": 386
    },
    "id": "x7OvxlTaO5Xg",
    "outputId": "0b343a75-7304-4d2a-b579-d4c33684f438"
   },
   "outputs": [
    {
     "data": {
      "text/html": [
       "<div>\n",
       "<style scoped>\n",
       "    .dataframe tbody tr th:only-of-type {\n",
       "        vertical-align: middle;\n",
       "    }\n",
       "\n",
       "    .dataframe tbody tr th {\n",
       "        vertical-align: top;\n",
       "    }\n",
       "\n",
       "    .dataframe thead th {\n",
       "        text-align: right;\n",
       "    }\n",
       "</style>\n",
       "<table border=\"1\" class=\"dataframe\">\n",
       "  <thead>\n",
       "    <tr style=\"text-align: right;\">\n",
       "      <th></th>\n",
       "      <th>age</th>\n",
       "      <th>job</th>\n",
       "      <th>marital</th>\n",
       "      <th>education</th>\n",
       "      <th>default</th>\n",
       "      <th>housing</th>\n",
       "      <th>loan</th>\n",
       "      <th>contact</th>\n",
       "      <th>month</th>\n",
       "      <th>day_of_week</th>\n",
       "      <th>...</th>\n",
       "      <th>campaign</th>\n",
       "      <th>pdays</th>\n",
       "      <th>previous</th>\n",
       "      <th>poutcome</th>\n",
       "      <th>emp.var.rate</th>\n",
       "      <th>cons.price.idx</th>\n",
       "      <th>cons.conf.idx</th>\n",
       "      <th>euribor3m</th>\n",
       "      <th>nr.employed</th>\n",
       "      <th>subscribed</th>\n",
       "    </tr>\n",
       "  </thead>\n",
       "  <tbody>\n",
       "    <tr>\n",
       "      <th>0</th>\n",
       "      <td>56</td>\n",
       "      <td>housemaid</td>\n",
       "      <td>married</td>\n",
       "      <td>basic.4y</td>\n",
       "      <td>no</td>\n",
       "      <td>no</td>\n",
       "      <td>no</td>\n",
       "      <td>telephone</td>\n",
       "      <td>may</td>\n",
       "      <td>mon</td>\n",
       "      <td>...</td>\n",
       "      <td>1</td>\n",
       "      <td>999</td>\n",
       "      <td>0</td>\n",
       "      <td>nonexistent</td>\n",
       "      <td>2022-01-01 00:00:00</td>\n",
       "      <td>93994.0</td>\n",
       "      <td>-36.4</td>\n",
       "      <td>4857</td>\n",
       "      <td>5191</td>\n",
       "      <td>no</td>\n",
       "    </tr>\n",
       "    <tr>\n",
       "      <th>1</th>\n",
       "      <td>57</td>\n",
       "      <td>services</td>\n",
       "      <td>married</td>\n",
       "      <td>high.school</td>\n",
       "      <td>unknown</td>\n",
       "      <td>no</td>\n",
       "      <td>no</td>\n",
       "      <td>telephone</td>\n",
       "      <td>may</td>\n",
       "      <td>mon</td>\n",
       "      <td>...</td>\n",
       "      <td>1</td>\n",
       "      <td>999</td>\n",
       "      <td>0</td>\n",
       "      <td>nonexistent</td>\n",
       "      <td>2022-01-01 00:00:00</td>\n",
       "      <td>93994.0</td>\n",
       "      <td>-36.4</td>\n",
       "      <td>4857</td>\n",
       "      <td>5191</td>\n",
       "      <td>no</td>\n",
       "    </tr>\n",
       "    <tr>\n",
       "      <th>2</th>\n",
       "      <td>37</td>\n",
       "      <td>services</td>\n",
       "      <td>married</td>\n",
       "      <td>high.school</td>\n",
       "      <td>no</td>\n",
       "      <td>yes</td>\n",
       "      <td>no</td>\n",
       "      <td>telephone</td>\n",
       "      <td>may</td>\n",
       "      <td>mon</td>\n",
       "      <td>...</td>\n",
       "      <td>1</td>\n",
       "      <td>999</td>\n",
       "      <td>0</td>\n",
       "      <td>nonexistent</td>\n",
       "      <td>2022-01-01 00:00:00</td>\n",
       "      <td>93994.0</td>\n",
       "      <td>-36.4</td>\n",
       "      <td>4857</td>\n",
       "      <td>5191</td>\n",
       "      <td>no</td>\n",
       "    </tr>\n",
       "    <tr>\n",
       "      <th>3</th>\n",
       "      <td>40</td>\n",
       "      <td>admin.</td>\n",
       "      <td>married</td>\n",
       "      <td>basic.6y</td>\n",
       "      <td>no</td>\n",
       "      <td>no</td>\n",
       "      <td>no</td>\n",
       "      <td>telephone</td>\n",
       "      <td>may</td>\n",
       "      <td>mon</td>\n",
       "      <td>...</td>\n",
       "      <td>1</td>\n",
       "      <td>999</td>\n",
       "      <td>0</td>\n",
       "      <td>nonexistent</td>\n",
       "      <td>2022-01-01 00:00:00</td>\n",
       "      <td>93994.0</td>\n",
       "      <td>-36.4</td>\n",
       "      <td>4857</td>\n",
       "      <td>5191</td>\n",
       "      <td>no</td>\n",
       "    </tr>\n",
       "    <tr>\n",
       "      <th>4</th>\n",
       "      <td>56</td>\n",
       "      <td>services</td>\n",
       "      <td>married</td>\n",
       "      <td>high.school</td>\n",
       "      <td>no</td>\n",
       "      <td>no</td>\n",
       "      <td>yes</td>\n",
       "      <td>telephone</td>\n",
       "      <td>may</td>\n",
       "      <td>mon</td>\n",
       "      <td>...</td>\n",
       "      <td>1</td>\n",
       "      <td>999</td>\n",
       "      <td>0</td>\n",
       "      <td>nonexistent</td>\n",
       "      <td>2022-01-01 00:00:00</td>\n",
       "      <td>93994.0</td>\n",
       "      <td>-36.4</td>\n",
       "      <td>4857</td>\n",
       "      <td>5191</td>\n",
       "      <td>no</td>\n",
       "    </tr>\n",
       "  </tbody>\n",
       "</table>\n",
       "<p>5 rows × 21 columns</p>\n",
       "</div>"
      ],
      "text/plain": [
       "   age        job  marital    education  default housing loan    contact  \\\n",
       "0   56  housemaid  married     basic.4y       no      no   no  telephone   \n",
       "1   57   services  married  high.school  unknown      no   no  telephone   \n",
       "2   37   services  married  high.school       no     yes   no  telephone   \n",
       "3   40     admin.  married     basic.6y       no      no   no  telephone   \n",
       "4   56   services  married  high.school       no      no  yes  telephone   \n",
       "\n",
       "  month day_of_week  ...  campaign  pdays  previous     poutcome  \\\n",
       "0   may         mon  ...         1    999         0  nonexistent   \n",
       "1   may         mon  ...         1    999         0  nonexistent   \n",
       "2   may         mon  ...         1    999         0  nonexistent   \n",
       "3   may         mon  ...         1    999         0  nonexistent   \n",
       "4   may         mon  ...         1    999         0  nonexistent   \n",
       "\n",
       "          emp.var.rate cons.price.idx  cons.conf.idx  euribor3m nr.employed  \\\n",
       "0  2022-01-01 00:00:00        93994.0          -36.4       4857        5191   \n",
       "1  2022-01-01 00:00:00        93994.0          -36.4       4857        5191   \n",
       "2  2022-01-01 00:00:00        93994.0          -36.4       4857        5191   \n",
       "3  2022-01-01 00:00:00        93994.0          -36.4       4857        5191   \n",
       "4  2022-01-01 00:00:00        93994.0          -36.4       4857        5191   \n",
       "\n",
       "  subscribed  \n",
       "0         no  \n",
       "1         no  \n",
       "2         no  \n",
       "3         no  \n",
       "4         no  \n",
       "\n",
       "[5 rows x 21 columns]"
      ]
     },
     "execution_count": 3,
     "metadata": {},
     "output_type": "execute_result"
    }
   ],
   "source": [
    "df.head()"
   ]
  },
  {
   "cell_type": "code",
   "execution_count": 4,
   "metadata": {
    "colab": {
     "base_uri": "https://localhost:8080/"
    },
    "id": "2xGhQccAQSJf",
    "outputId": "7c69f1b0-0956-4f79-9965-c9dafa6643c8"
   },
   "outputs": [
    {
     "name": "stdout",
     "output_type": "stream",
     "text": [
      "<class 'pandas.core.frame.DataFrame'>\n",
      "RangeIndex: 41188 entries, 0 to 41187\n",
      "Data columns (total 21 columns):\n",
      " #   Column          Non-Null Count  Dtype  \n",
      "---  ------          --------------  -----  \n",
      " 0   age             41188 non-null  int64  \n",
      " 1   job             41188 non-null  object \n",
      " 2   marital         41188 non-null  object \n",
      " 3   education       41188 non-null  object \n",
      " 4   default         41188 non-null  object \n",
      " 5   housing         41188 non-null  object \n",
      " 6   loan            41188 non-null  object \n",
      " 7   contact         41188 non-null  object \n",
      " 8   month           41188 non-null  object \n",
      " 9   day_of_week     41188 non-null  object \n",
      " 10  duration        41188 non-null  int64  \n",
      " 11  campaign        41188 non-null  int64  \n",
      " 12  pdays           41188 non-null  int64  \n",
      " 13  previous        41188 non-null  int64  \n",
      " 14  poutcome        41188 non-null  object \n",
      " 15  emp.var.rate    41188 non-null  object \n",
      " 16  cons.price.idx  41188 non-null  float64\n",
      " 17  cons.conf.idx   41188 non-null  float64\n",
      " 18  euribor3m       41188 non-null  object \n",
      " 19  nr.employed     41188 non-null  object \n",
      " 20  subscribed      41185 non-null  object \n",
      "dtypes: float64(2), int64(5), object(14)\n",
      "memory usage: 6.6+ MB\n"
     ]
    }
   ],
   "source": [
    "##Explorando las columnas\n",
    "df.info()"
   ]
  },
  {
   "cell_type": "markdown",
   "metadata": {
    "id": "sU7A4hNaRm3N"
   },
   "source": [
    "Observamos que la base de datos tiene 21 columnas todas ellas en principio con 41188 registros excepto la variable objetivo (suscribed) la cual contiene 41185 registros teniendo 3 ejemplos sin etiquetar los cuales seran el objetivo del proyecto. Se diseñaran varios modelos para cumplir con la tarea de asignar la categoria correspondiente a los ejemplos no etiquetados para determinar si los clientes se suscriben o no a la campaña del banco."
   ]
  },
  {
   "cell_type": "markdown",
   "metadata": {
    "id": "rOoW1V2qhtLd"
   },
   "source": [
    "## Limpieza y calidad de datos general\n"
   ]
  },
  {
   "cell_type": "code",
   "execution_count": 5,
   "metadata": {
    "colab": {
     "base_uri": "https://localhost:8080/"
    },
    "id": "tbcjOYOrhurA",
    "outputId": "2f80f959-b34e-482f-f899-e1cc7725a887"
   },
   "outputs": [
    {
     "data": {
      "text/plain": [
       "age               0\n",
       "job               0\n",
       "marital           0\n",
       "education         0\n",
       "default           0\n",
       "housing           0\n",
       "loan              0\n",
       "contact           0\n",
       "month             0\n",
       "day_of_week       0\n",
       "duration          0\n",
       "campaign          0\n",
       "pdays             0\n",
       "previous          0\n",
       "poutcome          0\n",
       "emp.var.rate      0\n",
       "cons.price.idx    0\n",
       "cons.conf.idx     0\n",
       "euribor3m         0\n",
       "nr.employed       0\n",
       "subscribed        3\n",
       "dtype: int64"
      ]
     },
     "execution_count": 5,
     "metadata": {},
     "output_type": "execute_result"
    }
   ],
   "source": [
    "\"\"\"\n",
    "Revisando cantidad de datos nulos por \n",
    "columna observamos que en principio solo hay 3 nulos\n",
    "en la columna suscribed\n",
    "\"\"\" \n",
    "df.isnull().sum() \n"
   ]
  },
  {
   "cell_type": "code",
   "execution_count": 6,
   "metadata": {
    "colab": {
     "base_uri": "https://localhost:8080/"
    },
    "id": "BdMSf1Eghzz1",
    "outputId": "a80ebfea-c5be-4501-978d-8c36b6c2bc66"
   },
   "outputs": [
    {
     "data": {
      "text/plain": [
       "False    41176\n",
       "True        12\n",
       "dtype: int64"
      ]
     },
     "execution_count": 6,
     "metadata": {},
     "output_type": "execute_result"
    }
   ],
   "source": [
    "\"\"\"Revisando duplicados observamos que hay 12 filas duplicadas, \n",
    "revisaremos su contenido mas adelante\"\"\"\n",
    "df.duplicated().value_counts() \n"
   ]
  },
  {
   "cell_type": "code",
   "execution_count": 7,
   "metadata": {
    "colab": {
     "base_uri": "https://localhost:8080/",
     "height": 727
    },
    "id": "H9zw_S8SiB0V",
    "outputId": "8e069dc4-2826-4c14-cfce-e2d2f5d64746"
   },
   "outputs": [
    {
     "data": {
      "text/html": [
       "<div>\n",
       "<style scoped>\n",
       "    .dataframe tbody tr th:only-of-type {\n",
       "        vertical-align: middle;\n",
       "    }\n",
       "\n",
       "    .dataframe tbody tr th {\n",
       "        vertical-align: top;\n",
       "    }\n",
       "\n",
       "    .dataframe thead th {\n",
       "        text-align: right;\n",
       "    }\n",
       "</style>\n",
       "<table border=\"1\" class=\"dataframe\">\n",
       "  <thead>\n",
       "    <tr style=\"text-align: right;\">\n",
       "      <th></th>\n",
       "      <th>age</th>\n",
       "      <th>job</th>\n",
       "      <th>marital</th>\n",
       "      <th>education</th>\n",
       "      <th>default</th>\n",
       "      <th>housing</th>\n",
       "      <th>loan</th>\n",
       "      <th>contact</th>\n",
       "      <th>month</th>\n",
       "      <th>day_of_week</th>\n",
       "      <th>...</th>\n",
       "      <th>campaign</th>\n",
       "      <th>pdays</th>\n",
       "      <th>previous</th>\n",
       "      <th>poutcome</th>\n",
       "      <th>emp.var.rate</th>\n",
       "      <th>cons.price.idx</th>\n",
       "      <th>cons.conf.idx</th>\n",
       "      <th>euribor3m</th>\n",
       "      <th>nr.employed</th>\n",
       "      <th>subscribed</th>\n",
       "    </tr>\n",
       "  </thead>\n",
       "  <tbody>\n",
       "    <tr>\n",
       "      <th>1266</th>\n",
       "      <td>39</td>\n",
       "      <td>blue-collar</td>\n",
       "      <td>married</td>\n",
       "      <td>basic.6y</td>\n",
       "      <td>no</td>\n",
       "      <td>no</td>\n",
       "      <td>no</td>\n",
       "      <td>telephone</td>\n",
       "      <td>may</td>\n",
       "      <td>thu</td>\n",
       "      <td>...</td>\n",
       "      <td>1</td>\n",
       "      <td>999</td>\n",
       "      <td>0</td>\n",
       "      <td>nonexistent</td>\n",
       "      <td>2022-01-01 00:00:00</td>\n",
       "      <td>93994.0</td>\n",
       "      <td>-36.4</td>\n",
       "      <td>4855</td>\n",
       "      <td>5191</td>\n",
       "      <td>no</td>\n",
       "    </tr>\n",
       "    <tr>\n",
       "      <th>12261</th>\n",
       "      <td>36</td>\n",
       "      <td>retired</td>\n",
       "      <td>married</td>\n",
       "      <td>unknown</td>\n",
       "      <td>no</td>\n",
       "      <td>no</td>\n",
       "      <td>no</td>\n",
       "      <td>telephone</td>\n",
       "      <td>jul</td>\n",
       "      <td>thu</td>\n",
       "      <td>...</td>\n",
       "      <td>1</td>\n",
       "      <td>999</td>\n",
       "      <td>0</td>\n",
       "      <td>nonexistent</td>\n",
       "      <td>2022-04-01 00:00:00</td>\n",
       "      <td>93918.0</td>\n",
       "      <td>-42.7</td>\n",
       "      <td>4966</td>\n",
       "      <td>5228-01-01 00:00:00</td>\n",
       "      <td>no</td>\n",
       "    </tr>\n",
       "    <tr>\n",
       "      <th>14234</th>\n",
       "      <td>27</td>\n",
       "      <td>technician</td>\n",
       "      <td>single</td>\n",
       "      <td>professional.course</td>\n",
       "      <td>no</td>\n",
       "      <td>no</td>\n",
       "      <td>no</td>\n",
       "      <td>cellular</td>\n",
       "      <td>jul</td>\n",
       "      <td>mon</td>\n",
       "      <td>...</td>\n",
       "      <td>2</td>\n",
       "      <td>999</td>\n",
       "      <td>0</td>\n",
       "      <td>nonexistent</td>\n",
       "      <td>2022-04-01 00:00:00</td>\n",
       "      <td>93918.0</td>\n",
       "      <td>-42.7</td>\n",
       "      <td>4962</td>\n",
       "      <td>5228-01-01 00:00:00</td>\n",
       "      <td>no</td>\n",
       "    </tr>\n",
       "    <tr>\n",
       "      <th>16956</th>\n",
       "      <td>47</td>\n",
       "      <td>technician</td>\n",
       "      <td>divorced</td>\n",
       "      <td>high.school</td>\n",
       "      <td>no</td>\n",
       "      <td>yes</td>\n",
       "      <td>no</td>\n",
       "      <td>cellular</td>\n",
       "      <td>jul</td>\n",
       "      <td>thu</td>\n",
       "      <td>...</td>\n",
       "      <td>3</td>\n",
       "      <td>999</td>\n",
       "      <td>0</td>\n",
       "      <td>nonexistent</td>\n",
       "      <td>2022-04-01 00:00:00</td>\n",
       "      <td>93918.0</td>\n",
       "      <td>-42.7</td>\n",
       "      <td>4962</td>\n",
       "      <td>5228-01-01 00:00:00</td>\n",
       "      <td>no</td>\n",
       "    </tr>\n",
       "    <tr>\n",
       "      <th>18465</th>\n",
       "      <td>32</td>\n",
       "      <td>technician</td>\n",
       "      <td>single</td>\n",
       "      <td>professional.course</td>\n",
       "      <td>no</td>\n",
       "      <td>yes</td>\n",
       "      <td>no</td>\n",
       "      <td>cellular</td>\n",
       "      <td>jul</td>\n",
       "      <td>thu</td>\n",
       "      <td>...</td>\n",
       "      <td>1</td>\n",
       "      <td>999</td>\n",
       "      <td>0</td>\n",
       "      <td>nonexistent</td>\n",
       "      <td>2022-04-01 00:00:00</td>\n",
       "      <td>93918.0</td>\n",
       "      <td>-42.7</td>\n",
       "      <td>4968</td>\n",
       "      <td>5228-01-01 00:00:00</td>\n",
       "      <td>no</td>\n",
       "    </tr>\n",
       "    <tr>\n",
       "      <th>20216</th>\n",
       "      <td>55</td>\n",
       "      <td>services</td>\n",
       "      <td>married</td>\n",
       "      <td>high.school</td>\n",
       "      <td>unknown</td>\n",
       "      <td>no</td>\n",
       "      <td>no</td>\n",
       "      <td>cellular</td>\n",
       "      <td>aug</td>\n",
       "      <td>mon</td>\n",
       "      <td>...</td>\n",
       "      <td>1</td>\n",
       "      <td>999</td>\n",
       "      <td>0</td>\n",
       "      <td>nonexistent</td>\n",
       "      <td>2022-04-01 00:00:00</td>\n",
       "      <td>93444.0</td>\n",
       "      <td>-36.1</td>\n",
       "      <td>4965</td>\n",
       "      <td>5228-01-01 00:00:00</td>\n",
       "      <td>no</td>\n",
       "    </tr>\n",
       "    <tr>\n",
       "      <th>20534</th>\n",
       "      <td>41</td>\n",
       "      <td>technician</td>\n",
       "      <td>married</td>\n",
       "      <td>professional.course</td>\n",
       "      <td>no</td>\n",
       "      <td>yes</td>\n",
       "      <td>no</td>\n",
       "      <td>cellular</td>\n",
       "      <td>aug</td>\n",
       "      <td>tue</td>\n",
       "      <td>...</td>\n",
       "      <td>1</td>\n",
       "      <td>999</td>\n",
       "      <td>0</td>\n",
       "      <td>nonexistent</td>\n",
       "      <td>2022-04-01 00:00:00</td>\n",
       "      <td>93444.0</td>\n",
       "      <td>-36.1</td>\n",
       "      <td>4966</td>\n",
       "      <td>5228-01-01 00:00:00</td>\n",
       "      <td>no</td>\n",
       "    </tr>\n",
       "    <tr>\n",
       "      <th>25217</th>\n",
       "      <td>39</td>\n",
       "      <td>admin.</td>\n",
       "      <td>married</td>\n",
       "      <td>university.degree</td>\n",
       "      <td>no</td>\n",
       "      <td>no</td>\n",
       "      <td>no</td>\n",
       "      <td>cellular</td>\n",
       "      <td>nov</td>\n",
       "      <td>tue</td>\n",
       "      <td>...</td>\n",
       "      <td>2</td>\n",
       "      <td>999</td>\n",
       "      <td>0</td>\n",
       "      <td>nonexistent</td>\n",
       "      <td>-0.1</td>\n",
       "      <td>93.2</td>\n",
       "      <td>-42.0</td>\n",
       "      <td>4153</td>\n",
       "      <td>5195-08-01 00:00:00</td>\n",
       "      <td>no</td>\n",
       "    </tr>\n",
       "    <tr>\n",
       "      <th>28477</th>\n",
       "      <td>24</td>\n",
       "      <td>services</td>\n",
       "      <td>single</td>\n",
       "      <td>high.school</td>\n",
       "      <td>no</td>\n",
       "      <td>yes</td>\n",
       "      <td>no</td>\n",
       "      <td>cellular</td>\n",
       "      <td>apr</td>\n",
       "      <td>tue</td>\n",
       "      <td>...</td>\n",
       "      <td>1</td>\n",
       "      <td>999</td>\n",
       "      <td>0</td>\n",
       "      <td>nonexistent</td>\n",
       "      <td>-1.8</td>\n",
       "      <td>93075.0</td>\n",
       "      <td>-47.1</td>\n",
       "      <td>1423</td>\n",
       "      <td>5099-01-01 00:00:00</td>\n",
       "      <td>no</td>\n",
       "    </tr>\n",
       "    <tr>\n",
       "      <th>32516</th>\n",
       "      <td>35</td>\n",
       "      <td>admin.</td>\n",
       "      <td>married</td>\n",
       "      <td>university.degree</td>\n",
       "      <td>no</td>\n",
       "      <td>yes</td>\n",
       "      <td>no</td>\n",
       "      <td>cellular</td>\n",
       "      <td>may</td>\n",
       "      <td>fri</td>\n",
       "      <td>...</td>\n",
       "      <td>4</td>\n",
       "      <td>999</td>\n",
       "      <td>0</td>\n",
       "      <td>nonexistent</td>\n",
       "      <td>-1.8</td>\n",
       "      <td>92893.0</td>\n",
       "      <td>-46.2</td>\n",
       "      <td>1313</td>\n",
       "      <td>5099-01-01 00:00:00</td>\n",
       "      <td>no</td>\n",
       "    </tr>\n",
       "    <tr>\n",
       "      <th>36951</th>\n",
       "      <td>45</td>\n",
       "      <td>admin.</td>\n",
       "      <td>married</td>\n",
       "      <td>university.degree</td>\n",
       "      <td>no</td>\n",
       "      <td>no</td>\n",
       "      <td>no</td>\n",
       "      <td>cellular</td>\n",
       "      <td>jul</td>\n",
       "      <td>thu</td>\n",
       "      <td>...</td>\n",
       "      <td>1</td>\n",
       "      <td>999</td>\n",
       "      <td>0</td>\n",
       "      <td>nonexistent</td>\n",
       "      <td>-2.9</td>\n",
       "      <td>92469.0</td>\n",
       "      <td>-33.6</td>\n",
       "      <td>1072</td>\n",
       "      <td>5076-02-01 00:00:00</td>\n",
       "      <td>yes</td>\n",
       "    </tr>\n",
       "    <tr>\n",
       "      <th>38281</th>\n",
       "      <td>71</td>\n",
       "      <td>retired</td>\n",
       "      <td>single</td>\n",
       "      <td>university.degree</td>\n",
       "      <td>no</td>\n",
       "      <td>no</td>\n",
       "      <td>no</td>\n",
       "      <td>telephone</td>\n",
       "      <td>oct</td>\n",
       "      <td>tue</td>\n",
       "      <td>...</td>\n",
       "      <td>1</td>\n",
       "      <td>999</td>\n",
       "      <td>0</td>\n",
       "      <td>nonexistent</td>\n",
       "      <td>-3.4</td>\n",
       "      <td>92431.0</td>\n",
       "      <td>-26.9</td>\n",
       "      <td>742</td>\n",
       "      <td>5017-05-01 00:00:00</td>\n",
       "      <td>no</td>\n",
       "    </tr>\n",
       "  </tbody>\n",
       "</table>\n",
       "<p>12 rows × 21 columns</p>\n",
       "</div>"
      ],
      "text/plain": [
       "       age          job   marital            education  default housing loan  \\\n",
       "1266    39  blue-collar   married             basic.6y       no      no   no   \n",
       "12261   36      retired   married              unknown       no      no   no   \n",
       "14234   27   technician    single  professional.course       no      no   no   \n",
       "16956   47   technician  divorced          high.school       no     yes   no   \n",
       "18465   32   technician    single  professional.course       no     yes   no   \n",
       "20216   55     services   married          high.school  unknown      no   no   \n",
       "20534   41   technician   married  professional.course       no     yes   no   \n",
       "25217   39       admin.   married    university.degree       no      no   no   \n",
       "28477   24     services    single          high.school       no     yes   no   \n",
       "32516   35       admin.   married    university.degree       no     yes   no   \n",
       "36951   45       admin.   married    university.degree       no      no   no   \n",
       "38281   71      retired    single    university.degree       no      no   no   \n",
       "\n",
       "         contact month day_of_week  ...  campaign  pdays  previous  \\\n",
       "1266   telephone   may         thu  ...         1    999         0   \n",
       "12261  telephone   jul         thu  ...         1    999         0   \n",
       "14234   cellular   jul         mon  ...         2    999         0   \n",
       "16956   cellular   jul         thu  ...         3    999         0   \n",
       "18465   cellular   jul         thu  ...         1    999         0   \n",
       "20216   cellular   aug         mon  ...         1    999         0   \n",
       "20534   cellular   aug         tue  ...         1    999         0   \n",
       "25217   cellular   nov         tue  ...         2    999         0   \n",
       "28477   cellular   apr         tue  ...         1    999         0   \n",
       "32516   cellular   may         fri  ...         4    999         0   \n",
       "36951   cellular   jul         thu  ...         1    999         0   \n",
       "38281  telephone   oct         tue  ...         1    999         0   \n",
       "\n",
       "          poutcome         emp.var.rate cons.price.idx  cons.conf.idx  \\\n",
       "1266   nonexistent  2022-01-01 00:00:00        93994.0          -36.4   \n",
       "12261  nonexistent  2022-04-01 00:00:00        93918.0          -42.7   \n",
       "14234  nonexistent  2022-04-01 00:00:00        93918.0          -42.7   \n",
       "16956  nonexistent  2022-04-01 00:00:00        93918.0          -42.7   \n",
       "18465  nonexistent  2022-04-01 00:00:00        93918.0          -42.7   \n",
       "20216  nonexistent  2022-04-01 00:00:00        93444.0          -36.1   \n",
       "20534  nonexistent  2022-04-01 00:00:00        93444.0          -36.1   \n",
       "25217  nonexistent                 -0.1           93.2          -42.0   \n",
       "28477  nonexistent                 -1.8        93075.0          -47.1   \n",
       "32516  nonexistent                 -1.8        92893.0          -46.2   \n",
       "36951  nonexistent                 -2.9        92469.0          -33.6   \n",
       "38281  nonexistent                 -3.4        92431.0          -26.9   \n",
       "\n",
       "       euribor3m          nr.employed subscribed  \n",
       "1266        4855                 5191         no  \n",
       "12261       4966  5228-01-01 00:00:00         no  \n",
       "14234       4962  5228-01-01 00:00:00         no  \n",
       "16956       4962  5228-01-01 00:00:00         no  \n",
       "18465       4968  5228-01-01 00:00:00         no  \n",
       "20216       4965  5228-01-01 00:00:00         no  \n",
       "20534       4966  5228-01-01 00:00:00         no  \n",
       "25217       4153  5195-08-01 00:00:00         no  \n",
       "28477       1423  5099-01-01 00:00:00         no  \n",
       "32516       1313  5099-01-01 00:00:00         no  \n",
       "36951       1072  5076-02-01 00:00:00        yes  \n",
       "38281        742  5017-05-01 00:00:00         no  \n",
       "\n",
       "[12 rows x 21 columns]"
      ]
     },
     "execution_count": 7,
     "metadata": {},
     "output_type": "execute_result"
    }
   ],
   "source": [
    "\"\"\"\n",
    "Revisando las filas duplicadas observamos que tenemos 12 filas duplicadas en principio.\n",
    "Dado que es un porcentaje muy bajo de los datos podemos optar por eliminarlas\n",
    "\n",
    "\"\"\"\n",
    "df[df.duplicated()]"
   ]
  },
  {
   "cell_type": "markdown",
   "metadata": {
    "id": "8Ccrx3tA1pez"
   },
   "source": [
    "## Revisando balance de los datos\n"
   ]
  },
  {
   "cell_type": "code",
   "execution_count": 8,
   "metadata": {
    "colab": {
     "base_uri": "https://localhost:8080/"
    },
    "id": "1UpVHtpX1op1",
    "outputId": "6064e60d-0050-4c30-af89-f66fdd91999f"
   },
   "outputs": [
    {
     "data": {
      "text/plain": [
       "no     88.73619\n",
       "yes    11.26381\n",
       "Name: subscribed, dtype: float64"
      ]
     },
     "execution_count": 8,
     "metadata": {},
     "output_type": "execute_result"
    }
   ],
   "source": [
    "\"\"\"Se observa que el dataset esta desbalanceado contando con un 88.7% de las instancias\n",
    "clasificadas como \"no\" y tan solo un 11.26 % de las instancias clasificadas como \"si\" \n",
    "con referencia a si el cliente se suscribió o no al producto de la campaña\n",
    "\"\"\"\n",
    "\n",
    "df['subscribed'].value_counts()/df['subscribed'].value_counts().sum()*100"
   ]
  },
  {
   "cell_type": "markdown",
   "metadata": {
    "id": "SWcaQeFxrnjl"
   },
   "source": [
    "## Perfilado de datos\n",
    "Se usa la herramienta pandas profiling para hacer un primer perfilado de datos, observar sus distribuciones, etc..."
   ]
  },
  {
   "cell_type": "code",
   "execution_count": 9,
   "metadata": {
    "colab": {
     "base_uri": "https://localhost:8080/",
     "height": 35
    },
    "id": "UzyCdL5aqclN",
    "outputId": "a525bd05-6560-47a7-afc3-135750a5ca36"
   },
   "outputs": [
    {
     "data": {
      "text/plain": [
       "'\\nRealizando perfilado de datos con pandas profiling\\n'"
      ]
     },
     "execution_count": 9,
     "metadata": {},
     "output_type": "execute_result"
    }
   ],
   "source": [
    "\"\"\"\n",
    "Realizando perfilado de datos con pandas profiling\n",
    "\"\"\"\n",
    "\n",
    "#profile = ProfileReport(df, title='Bank_campaign', html={'style':{'full_width':True}})\n",
    "#profile.to_notebook_iframe()"
   ]
  },
  {
   "cell_type": "markdown",
   "metadata": {
    "id": "9zcck1yEzzRH"
   },
   "source": [
    "## Observaciones sobre el perfilado:\n",
    "1.**Observamos que las columnas emp.var.rate , euribor3m y nr.employed** tienen problemas en la definicion de los tipos de dato y en su contenido, deberemos revisar mas a fondo estas 3 variables mas adelante.\n",
    "\n",
    "2. **Observamos que el dataset esta desbalanceado con respecto a la columna objetivo que es suscribed**  debido a que el 88.7% de los ejemplos estan clasificados como \" no \" lo que indica que  estos clientes no se suscribieron al producto y tan solo el 11.3% de las observaciones estan clasificadas como \"si\" indicando que si se suscribieron al pŕoducto. Esto sera relevante a la hora de elegir un modelo ya que es importante elegir un algoritmo que sea adecuado para este tipo de dataset desbalanceados.\n",
    "\n",
    "3. **Observamos que la variable cons.price.idx contiene algunos valores valores de 93.2 y la mayoria de valores de 90000 en adelante.** Esto lleva a pensar que tal vez no se reconocen la coma en los valores superiores a 90000 ya que en realidad no es un 90000 sino un 90.00.\n",
    " Un motivo para esto es que esta variable es un indice de precios al consumo y estos indices solo tienen sentido en un rango de 0-100 aproximadamente pudiendo ser en ocasiones algo mayor pero sin exceder los 200 o 300 tal y como lo indica el  el dane :\n",
    "https://www.dane.gov.co/index.php/estadisticas-por-tema/precios-y-costos/indice-de-precios-al-consumidor-ipc\n",
    "\n",
    "\n",
    "Al observar los datos del dane del indice de precios al consumidor, nos damos cuenta de que estos valores deben ir entre 0-100 o un poco mas dado que el indice en el año base sobre el que se calculan los cambios en los precios corresponde a 100 y con referencia a ese 100 se calcula el crecimiento de los precios por lo cual nunca se aleja mucho de 100 y jamas sube a rangos de miles, en situaciones economicas  que no sean hiperinflacionarias, como es el caso de la mayoria de paises del mundo salvo unos pocos.\n",
    "\n",
    "**Para solucionar este problema se optara por dividir entre 1000 los valores que esten expresados en decenas de miles para que asi el indice de precios al consumo quede expresado en las unidades en las que tiene sentido.**"
   ]
  },
  {
   "cell_type": "markdown",
   "metadata": {
    "id": "GgS5Q_gt7y_1"
   },
   "source": [
    "## Revisando las variables  **emp.var.rate, euribor3m y nr.employed**\n",
    "\n"
   ]
  },
  {
   "cell_type": "code",
   "execution_count": 10,
   "metadata": {
    "colab": {
     "base_uri": "https://localhost:8080/"
    },
    "id": "o5FUueaLyjOK",
    "outputId": "15570622-640e-4f52-a53e-2723cb093af4"
   },
   "outputs": [
    {
     "data": {
      "text/plain": [
       "2022-04-01 00:00:00    16234\n",
       "-1.8                    9184\n",
       "2022-01-01 00:00:00     7763\n",
       "-0.1                    3683\n",
       "-2.9                    1663\n",
       "-3.4                    1071\n",
       "-1.7                     773\n",
       "-1.1                     635\n",
       "-3                       172\n",
       "-0.2                      10\n",
       "Name: emp.var.rate, dtype: int64"
      ]
     },
     "execution_count": 10,
     "metadata": {},
     "output_type": "execute_result"
    }
   ],
   "source": [
    "\"\"\"Observamos que la variable emp.var.rate contiene datos tipo datetime \n",
    "combinados con datos tipo flotante lo\n",
    "cual es un problema ya que en esta columna deberia ir exclusivamente una tasa\n",
    "de variacion del empleo trimestral, se corregirá este error \n",
    "\"\"\"\n",
    "\n",
    "df['emp.var.rate'].value_counts()"
   ]
  },
  {
   "cell_type": "markdown",
   "metadata": {
    "collapsed": false
   },
   "source": [
    "## Analisis de la variable euribor3m\n",
    "Euribor es un acrónimo para Euro Interbank Offered Rate o “tipo europeo de oferta interbancaria” Y representa el tipo medio de interés al que se prestan euros entre sí un gran número de bancos europeos. Para la determinación de los tipos Euribor se elimina el 15% más alto y el 15% más bajo de los tipos de interés recolectados. Todos los días laborales a las 11:00 CET se determinan los tipos de interés del Euribor y se transmiten a todos los interesados y a la prensa.\n",
    "De esta manera , observando la gráfica del indicador diario euribor3m observamos que los valores diarios son expresados en porcentajes que están alrededor del 0% (incluyendo valores negativos) y a dia de hoy (22 de noviembre de 2022) se observan valores en un rango de al rededor del 1,7%.\n",
    "Podemos concluir entonces que los valores válidos para la tasa euribor3m deben oscilar entre -1% y 2% aproximadamente o tal vez mas  pero de cualquier forma nunca llegando a valores porcentuales mucho más altos.\n",
    "\n",
    "\n",
    "Podrían existir varias aproximaciones y supuestos que se podrían hacer para solucionar los problemas de esta columna en la que hay varios tipos de datos mezclados, y datos en rangos que carecen de sentido. Para este ejercicio, sin embargo, se opta por eliminar esta columna y asumir que esta variable no se conoce. Esta alternativa podría no ser la mejor dado que es posible que esta variable sea importante, sin embargo por motivos de agilidad en este caso se  toma la decision de eliminarla.\n",
    "\n",
    "Fuente : https://www.euribor-rates.eu/es/tipos-euribor-actualmente/2/euribor-valor-3-meses/\n"
   ]
  },
  {
   "cell_type": "code",
   "execution_count": 11,
   "metadata": {
    "colab": {
     "base_uri": "https://localhost:8080/"
    },
    "id": "DbzPA7UR5a7f",
    "outputId": "a75d1f1e-a7de-4e04-8a05-3a9a4eae5d10"
   },
   "outputs": [
    {
     "data": {
      "text/plain": [
       "array([4857, 4856, 4855, 4859, '4.86', 4858, 4864, 4865, 4866, 4967, 4961,\n",
       "       4959, 4958, '4.96', 4962, 4955, 4947, 4956, 4966, 4963, 4957, 4968,\n",
       "       '4.97', 4965, 4964, 5045, 5, 4936, 4921, 4918, 4912, 4827, 4794,\n",
       "       '4.76', 4733, datetime.datetime(2022, 7, 4, 0, 0), 4663, 4592,\n",
       "       4474, 4406, 4343, 4286, 4245, 4223, 4191, 4153,\n",
       "       datetime.datetime(2022, 12, 4, 0, 0), 4076, 4021, 3901, 3879, 3853,\n",
       "       3816, 3743, 3669, 3563, 3488, 3428, 3329, 3282, 3053, 1811, 1799,\n",
       "       1778, 1757, 1726, 1703, 1687, 1663, '1.65', '1.64', 1629, 1614,\n",
       "       1602, 1584, 1574, '1.56', 1556, 1548, 1538, 1531, '1.52', '1.51',\n",
       "       1498, 1483, 1479, 1466, 1453, 1445, 1435, 1423, 1415, '1.41', 1405,\n",
       "       1406, datetime.datetime(2022, 4, 1, 0, 0), 1392, 1384, 1372, 1365,\n",
       "       1354, 1344, 1334, 1327, 1313, 1299, 1291, 1281, 1266, '1.25', 1244,\n",
       "       1259, 1264, '1.27', 1262, '1.26', 1268, 1286, 1252, 1235, 1224,\n",
       "       1215, 1206, 1099, 1085, 1072, 1059, 1048, 1044, 1029, 1018, 1007,\n",
       "       996, 979, 969, 944, 937, 933, 927, 921, 914, 908, 903, 899, 884,\n",
       "       883, 881, 879, 873, 869, 861, 859, 854, 851, 849, 843, 838, 834,\n",
       "       829, 825, 821, 819, 813, 809, 803, 797, 788, 781, 778, 773, 771,\n",
       "       '0.77', 768, 766, 762, 755, 749, 743, 741, 739, '0.75', 753, 754,\n",
       "       752, 744, '0.74', 742, 737, 735, 733, '0.73', 731, 728, 724, 722,\n",
       "       '0.72', 719, 716, 715, 714, 718, 721, 717, 712, '0.71', 709, 708,\n",
       "       706, 707, '0.7', 655, 654, 653, 652, 651, '0.65', 649, 646, 644,\n",
       "       643, 639, 637, 635, 636, 634, 638, '0.64', 642, 645, 659, 663, 668,\n",
       "       672, 677, 682, 683, 684, 685, 688, '0.69', 692, 695, 697, 699, 701,\n",
       "       702, 704, 711, 713, 723, 727, 729, 732, 748, 761, 767, 782, '0.79',\n",
       "       793, 802, '0.81', 822, 827, 835, '0.84', 846, '0.87', 876, 885,\n",
       "       889, 893, 896, 898, '0.9', 904, 905, 895, 894, 891, '0.89', 888,\n",
       "       886, 882, '0.88', 878, 877, 942, 953, 956, 959, 965, 972, 977, 982,\n",
       "       985, 987, 993, 1, 1008, 1016, 1025, 1032, 1037, 1043, 1045, 1047,\n",
       "       datetime.datetime(2022, 5, 1, 0, 0), 1049, 1046, 1041, 1039, 1035,\n",
       "       datetime.datetime(2022, 3, 1, 0, 0), 1031, 1028], dtype=object)"
      ]
     },
     "execution_count": 11,
     "metadata": {},
     "output_type": "execute_result"
    }
   ],
   "source": [
    "\"\"\"\n",
    "Observamos que la variable euribor3m contiene datos tipo datetime \n",
    "combinados con datos tipo flotante lo\n",
    "cual es un problema ya que en esta columna debería ir exclusivamente la tasa\n",
    "euribor a 3 meses, se corregirá este error\n",
    "\"\"\"\n",
    "df['euribor3m'].unique()\n"
   ]
  },
  {
   "cell_type": "code",
   "execution_count": 12,
   "metadata": {
    "colab": {
     "base_uri": "https://localhost:8080/"
    },
    "id": "CePY_Mi-5fT6",
    "outputId": "24d81797-ae34-452e-87e3-33a48d5c4464"
   },
   "outputs": [
    {
     "data": {
      "text/plain": [
       "5228-01-01 00:00:00    16234\n",
       "5099-01-01 00:00:00     8534\n",
       "5191                    7763\n",
       "5195-08-01 00:00:00     3683\n",
       "5076-02-01 00:00:00     1663\n",
       "5017-05-01 00:00:00     1071\n",
       "4991-06-01 00:00:00      773\n",
       "5008-07-01 00:00:00      650\n",
       "4963-06-01 00:00:00      635\n",
       "5023-05-01 00:00:00      172\n",
       "5176-03-01 00:00:00       10\n",
       "Name: nr.employed, dtype: int64"
      ]
     },
     "execution_count": 12,
     "metadata": {},
     "output_type": "execute_result"
    }
   ],
   "source": [
    "\"\"\"\n",
    "Observamos que la variable nr.employed contiene datos tipo datetime \n",
    "combinados con datos tipo flotante lo\n",
    "cual es un problema ya que en esta columna debería ir exclusivamente el\n",
    "indicador trimestral del numero de empleados, se corregirá este error\n",
    "\"\"\"\n",
    "\n",
    "df['nr.employed'].value_counts()"
   ]
  },
  {
   "cell_type": "markdown",
   "metadata": {
    "id": "vCSoPpsaMY83"
   },
   "source": [
    " Una vez encontrados los problemas de calidad de datos, se opta en este caso por arreglar en excel los errores en las columnas emp.var.rate ,nr.employed y euribor3m debido a que se puede hacer de una manera ágil y efectiva con las herramientas que excel proporciona para manipular las fechas y asi proseguir el análisis con los datos en el formato adecuado que requieren los modelos.\n",
    "\n",
    "**En los archivos adjuntos se encontrará el archivo Bank_Campaign_2.xlsx en el cual se han corregido los errores en las 2 columnas anteriormente mencionadas, el resto de preprocesamiento se hará directamente en python**\n",
    "\n",
    "\n"
   ]
  },
  {
   "cell_type": "code",
   "execution_count": 13,
   "metadata": {
    "id": "qYPCCRZqGyGy"
   },
   "outputs": [],
   "source": [
    "\"\"\"Cargando Bank_campaign_2, que es un dataset con las variables emp.var.rate y \n",
    "nr-employed ajustadas a los tipos de datos\n",
    "que se requieren, y   solucionados los errores que las mostraban como fechas.\n",
    "NOTA: Se asume que  al mostrar 2022/04/01 como 1.4, el ultimo digito de la fecha es la parte\n",
    "entera y el segundo la parte decimal, de tal manera que 2022-01-01 correspondería a \n",
    "1.1 y asi sucesivamente...\n",
    "\"\"\"\n",
    "df=pd.read_excel(\"../data/raw/Bank_Campaign_2.xlsx\")"
   ]
  },
  {
   "cell_type": "code",
   "execution_count": 14,
   "metadata": {
    "colab": {
     "base_uri": "https://localhost:8080/"
    },
    "id": "EMJ-e-MMKmBs",
    "outputId": "bc2e10fd-faf4-4361-9c3f-6de6187843b6"
   },
   "outputs": [
    {
     "name": "stdout",
     "output_type": "stream",
     "text": [
      "<class 'pandas.core.frame.DataFrame'>\n",
      "RangeIndex: 41188 entries, 0 to 41187\n",
      "Data columns (total 20 columns):\n",
      " #   Column          Non-Null Count  Dtype  \n",
      "---  ------          --------------  -----  \n",
      " 0   age             41188 non-null  int64  \n",
      " 1   job             41188 non-null  object \n",
      " 2   marital         41188 non-null  object \n",
      " 3   education       41188 non-null  object \n",
      " 4   default         41188 non-null  object \n",
      " 5   housing         41188 non-null  object \n",
      " 6   loan            41188 non-null  object \n",
      " 7   contact         41188 non-null  object \n",
      " 8   month           41188 non-null  object \n",
      " 9   day_of_week     41188 non-null  object \n",
      " 10  duration        41188 non-null  int64  \n",
      " 11  campaign        41188 non-null  int64  \n",
      " 12  pdays           41188 non-null  int64  \n",
      " 13  previous        41188 non-null  int64  \n",
      " 14  poutcome        41188 non-null  object \n",
      " 15  emp.var.rate    41188 non-null  float64\n",
      " 16  cons.price.idx  41188 non-null  float64\n",
      " 17  cons.conf.idx   41188 non-null  float64\n",
      " 18  nr.employed     41188 non-null  int64  \n",
      " 19  subscribed      41185 non-null  object \n",
      "dtypes: float64(3), int64(6), object(11)\n",
      "memory usage: 6.3+ MB\n"
     ]
    }
   ],
   "source": [
    "df.info()"
   ]
  },
  {
   "cell_type": "code",
   "execution_count": 15,
   "metadata": {
    "colab": {
     "base_uri": "https://localhost:8080/",
     "height": 364
    },
    "id": "IC-BJCTGTQHv",
    "outputId": "80722fc3-cdb9-483d-8c1d-d6aa78983bf5"
   },
   "outputs": [
    {
     "data": {
      "text/html": [
       "<div>\n",
       "<style scoped>\n",
       "    .dataframe tbody tr th:only-of-type {\n",
       "        vertical-align: middle;\n",
       "    }\n",
       "\n",
       "    .dataframe tbody tr th {\n",
       "        vertical-align: top;\n",
       "    }\n",
       "\n",
       "    .dataframe thead th {\n",
       "        text-align: right;\n",
       "    }\n",
       "</style>\n",
       "<table border=\"1\" class=\"dataframe\">\n",
       "  <thead>\n",
       "    <tr style=\"text-align: right;\">\n",
       "      <th></th>\n",
       "      <th>age</th>\n",
       "      <th>duration</th>\n",
       "      <th>campaign</th>\n",
       "      <th>pdays</th>\n",
       "      <th>previous</th>\n",
       "      <th>emp.var.rate</th>\n",
       "      <th>cons.price.idx</th>\n",
       "      <th>cons.conf.idx</th>\n",
       "      <th>nr.employed</th>\n",
       "    </tr>\n",
       "  </thead>\n",
       "  <tbody>\n",
       "    <tr>\n",
       "      <th>count</th>\n",
       "      <td>41188.00000</td>\n",
       "      <td>41188.000000</td>\n",
       "      <td>41188.000000</td>\n",
       "      <td>41188.000000</td>\n",
       "      <td>41188.000000</td>\n",
       "      <td>41188.000000</td>\n",
       "      <td>41188.000000</td>\n",
       "      <td>41188.000000</td>\n",
       "      <td>41188.000000</td>\n",
       "    </tr>\n",
       "    <tr>\n",
       "      <th>mean</th>\n",
       "      <td>40.02406</td>\n",
       "      <td>258.285010</td>\n",
       "      <td>2.567593</td>\n",
       "      <td>962.475454</td>\n",
       "      <td>0.172963</td>\n",
       "      <td>0.081886</td>\n",
       "      <td>85401.579955</td>\n",
       "      <td>-40.502600</td>\n",
       "      <td>5166.849446</td>\n",
       "    </tr>\n",
       "    <tr>\n",
       "      <th>std</th>\n",
       "      <td>10.42125</td>\n",
       "      <td>259.279249</td>\n",
       "      <td>2.770014</td>\n",
       "      <td>186.910907</td>\n",
       "      <td>0.494901</td>\n",
       "      <td>1.570960</td>\n",
       "      <td>26471.506796</td>\n",
       "      <td>4.628198</td>\n",
       "      <td>72.328375</td>\n",
       "    </tr>\n",
       "    <tr>\n",
       "      <th>min</th>\n",
       "      <td>17.00000</td>\n",
       "      <td>0.000000</td>\n",
       "      <td>1.000000</td>\n",
       "      <td>0.000000</td>\n",
       "      <td>0.000000</td>\n",
       "      <td>-3.400000</td>\n",
       "      <td>93.200000</td>\n",
       "      <td>-50.800000</td>\n",
       "      <td>4963.000000</td>\n",
       "    </tr>\n",
       "    <tr>\n",
       "      <th>25%</th>\n",
       "      <td>32.00000</td>\n",
       "      <td>102.000000</td>\n",
       "      <td>1.000000</td>\n",
       "      <td>999.000000</td>\n",
       "      <td>0.000000</td>\n",
       "      <td>-1.800000</td>\n",
       "      <td>92893.000000</td>\n",
       "      <td>-42.700000</td>\n",
       "      <td>5099.000000</td>\n",
       "    </tr>\n",
       "    <tr>\n",
       "      <th>50%</th>\n",
       "      <td>38.00000</td>\n",
       "      <td>180.000000</td>\n",
       "      <td>2.000000</td>\n",
       "      <td>999.000000</td>\n",
       "      <td>0.000000</td>\n",
       "      <td>1.100000</td>\n",
       "      <td>93749.000000</td>\n",
       "      <td>-41.800000</td>\n",
       "      <td>5191.000000</td>\n",
       "    </tr>\n",
       "    <tr>\n",
       "      <th>75%</th>\n",
       "      <td>47.00000</td>\n",
       "      <td>319.000000</td>\n",
       "      <td>3.000000</td>\n",
       "      <td>999.000000</td>\n",
       "      <td>0.000000</td>\n",
       "      <td>1.400000</td>\n",
       "      <td>93994.000000</td>\n",
       "      <td>-36.400000</td>\n",
       "      <td>5228.000000</td>\n",
       "    </tr>\n",
       "    <tr>\n",
       "      <th>max</th>\n",
       "      <td>98.00000</td>\n",
       "      <td>4918.000000</td>\n",
       "      <td>56.000000</td>\n",
       "      <td>999.000000</td>\n",
       "      <td>7.000000</td>\n",
       "      <td>1.400000</td>\n",
       "      <td>94767.000000</td>\n",
       "      <td>-26.900000</td>\n",
       "      <td>5228.000000</td>\n",
       "    </tr>\n",
       "  </tbody>\n",
       "</table>\n",
       "</div>"
      ],
      "text/plain": [
       "               age      duration      campaign         pdays      previous  \\\n",
       "count  41188.00000  41188.000000  41188.000000  41188.000000  41188.000000   \n",
       "mean      40.02406    258.285010      2.567593    962.475454      0.172963   \n",
       "std       10.42125    259.279249      2.770014    186.910907      0.494901   \n",
       "min       17.00000      0.000000      1.000000      0.000000      0.000000   \n",
       "25%       32.00000    102.000000      1.000000    999.000000      0.000000   \n",
       "50%       38.00000    180.000000      2.000000    999.000000      0.000000   \n",
       "75%       47.00000    319.000000      3.000000    999.000000      0.000000   \n",
       "max       98.00000   4918.000000     56.000000    999.000000      7.000000   \n",
       "\n",
       "       emp.var.rate  cons.price.idx  cons.conf.idx   nr.employed  \n",
       "count  41188.000000    41188.000000   41188.000000  41188.000000  \n",
       "mean       0.081886    85401.579955     -40.502600   5166.849446  \n",
       "std        1.570960    26471.506796       4.628198     72.328375  \n",
       "min       -3.400000       93.200000     -50.800000   4963.000000  \n",
       "25%       -1.800000    92893.000000     -42.700000   5099.000000  \n",
       "50%        1.100000    93749.000000     -41.800000   5191.000000  \n",
       "75%        1.400000    93994.000000     -36.400000   5228.000000  \n",
       "max        1.400000    94767.000000     -26.900000   5228.000000  "
      ]
     },
     "execution_count": 15,
     "metadata": {},
     "output_type": "execute_result"
    }
   ],
   "source": [
    "df.describe()"
   ]
  },
  {
   "cell_type": "markdown",
   "metadata": {
    "id": "jcg9up3GXDEx"
   },
   "source": [
    "## Limpieza de otras variables "
   ]
  },
  {
   "cell_type": "code",
   "execution_count": 16,
   "metadata": {
    "colab": {
     "base_uri": "https://localhost:8080/"
    },
    "id": "M-BcHcL7XKWC",
    "outputId": "c8139336-4cfb-4ae9-d58c-b64ac980c1aa"
   },
   "outputs": [
    {
     "data": {
      "text/plain": [
       "93994.0    7763\n",
       "93918.0    6685\n",
       "92893.0    5794\n",
       "93444.0    5175\n",
       "94465.0    4374\n",
       "93.2       3616\n",
       "93075.0    2458\n",
       "92201.0     770\n",
       "92963.0     715\n",
       "92431.0     447\n",
       "92649.0     357\n",
       "94215.0     311\n",
       "94199.0     303\n",
       "92843.0     282\n",
       "92379.0     267\n",
       "93369.0     264\n",
       "94027.0     233\n",
       "94055.0     229\n",
       "93876.0     212\n",
       "94601.0     204\n",
       "92469.0     178\n",
       "93749.0     174\n",
       "92713.0     172\n",
       "94767.0     128\n",
       "93798.0      67\n",
       "92756.0      10\n",
       "Name: cons.price.idx, dtype: int64"
      ]
     },
     "execution_count": 16,
     "metadata": {},
     "output_type": "execute_result"
    }
   ],
   "source": [
    "\"\"\"Realizando transformacion necesaria a la columna cons.price.idx \n",
    "para que el indice de precios al consumidor quede expresado en unidades\n",
    "que tienen sentido segun las estadisticas oficiales del DANE\n",
    "\"\"\"\n",
    "\n",
    "df['cons.price.idx'].value_counts()\n"
   ]
  },
  {
   "cell_type": "code",
   "execution_count": 17,
   "metadata": {
    "id": "QamK6TiaV4WN"
   },
   "outputs": [],
   "source": [
    "\"\"\"Dividiendo los valores mayores a 90000 entre 1000 para que quede en una escala en la que tiene sentido\n",
    "el valor del indice de precios al consumidor el cual debe oscilar entre 0-100 o un poco mas\n",
    "sin exceder nunca las centenas segun indica el metodo\n",
    "de calculo que emplea el Departamento administrativo nacional de estadistica.\"\"\"\n",
    "df[\"cons.price.idx\"].where(df[\"cons.price.idx\"]<100,df[\"cons.price.idx\"]/1000,inplace=True) "
   ]
  },
  {
   "cell_type": "code",
   "execution_count": 18,
   "metadata": {
    "colab": {
     "base_uri": "https://localhost:8080/"
    },
    "id": "tQylOxlubs_b",
    "outputId": "5b8aaf97-79bb-4000-821e-6591b5d2dc6e"
   },
   "outputs": [
    {
     "data": {
      "text/plain": [
       "0        93.994\n",
       "1        93.994\n",
       "2        93.994\n",
       "3        93.994\n",
       "4        93.994\n",
       "          ...  \n",
       "41183    94.767\n",
       "41184    94.767\n",
       "41185    94.767\n",
       "41186    94.767\n",
       "41187    94.767\n",
       "Name: cons.price.idx, Length: 41188, dtype: float64"
      ]
     },
     "execution_count": 18,
     "metadata": {},
     "output_type": "execute_result"
    }
   ],
   "source": [
    "df['cons.price.idx']\n"
   ]
  },
  {
   "cell_type": "code",
   "execution_count": 19,
   "metadata": {
    "colab": {
     "base_uri": "https://localhost:8080/",
     "height": 364
    },
    "id": "IvWlPBWgeIBA",
    "outputId": "55a14492-d49e-4ef1-aab2-8b4788999d1d"
   },
   "outputs": [
    {
     "data": {
      "text/html": [
       "<div>\n",
       "<style scoped>\n",
       "    .dataframe tbody tr th:only-of-type {\n",
       "        vertical-align: middle;\n",
       "    }\n",
       "\n",
       "    .dataframe tbody tr th {\n",
       "        vertical-align: top;\n",
       "    }\n",
       "\n",
       "    .dataframe thead th {\n",
       "        text-align: right;\n",
       "    }\n",
       "</style>\n",
       "<table border=\"1\" class=\"dataframe\">\n",
       "  <thead>\n",
       "    <tr style=\"text-align: right;\">\n",
       "      <th></th>\n",
       "      <th>age</th>\n",
       "      <th>duration</th>\n",
       "      <th>campaign</th>\n",
       "      <th>pdays</th>\n",
       "      <th>previous</th>\n",
       "      <th>emp.var.rate</th>\n",
       "      <th>cons.price.idx</th>\n",
       "      <th>cons.conf.idx</th>\n",
       "      <th>nr.employed</th>\n",
       "    </tr>\n",
       "  </thead>\n",
       "  <tbody>\n",
       "    <tr>\n",
       "      <th>count</th>\n",
       "      <td>41188.00000</td>\n",
       "      <td>41188.000000</td>\n",
       "      <td>41188.000000</td>\n",
       "      <td>41188.000000</td>\n",
       "      <td>41188.000000</td>\n",
       "      <td>41188.000000</td>\n",
       "      <td>41188.000000</td>\n",
       "      <td>41188.000000</td>\n",
       "      <td>41188.000000</td>\n",
       "    </tr>\n",
       "    <tr>\n",
       "      <th>mean</th>\n",
       "      <td>40.02406</td>\n",
       "      <td>258.285010</td>\n",
       "      <td>2.567593</td>\n",
       "      <td>962.475454</td>\n",
       "      <td>0.172963</td>\n",
       "      <td>0.081886</td>\n",
       "      <td>93.575664</td>\n",
       "      <td>-40.502600</td>\n",
       "      <td>5166.849446</td>\n",
       "    </tr>\n",
       "    <tr>\n",
       "      <th>std</th>\n",
       "      <td>10.42125</td>\n",
       "      <td>259.279249</td>\n",
       "      <td>2.770014</td>\n",
       "      <td>186.910907</td>\n",
       "      <td>0.494901</td>\n",
       "      <td>1.570960</td>\n",
       "      <td>0.578840</td>\n",
       "      <td>4.628198</td>\n",
       "      <td>72.328375</td>\n",
       "    </tr>\n",
       "    <tr>\n",
       "      <th>min</th>\n",
       "      <td>17.00000</td>\n",
       "      <td>0.000000</td>\n",
       "      <td>1.000000</td>\n",
       "      <td>0.000000</td>\n",
       "      <td>0.000000</td>\n",
       "      <td>-3.400000</td>\n",
       "      <td>92.201000</td>\n",
       "      <td>-50.800000</td>\n",
       "      <td>4963.000000</td>\n",
       "    </tr>\n",
       "    <tr>\n",
       "      <th>25%</th>\n",
       "      <td>32.00000</td>\n",
       "      <td>102.000000</td>\n",
       "      <td>1.000000</td>\n",
       "      <td>999.000000</td>\n",
       "      <td>0.000000</td>\n",
       "      <td>-1.800000</td>\n",
       "      <td>93.075000</td>\n",
       "      <td>-42.700000</td>\n",
       "      <td>5099.000000</td>\n",
       "    </tr>\n",
       "    <tr>\n",
       "      <th>50%</th>\n",
       "      <td>38.00000</td>\n",
       "      <td>180.000000</td>\n",
       "      <td>2.000000</td>\n",
       "      <td>999.000000</td>\n",
       "      <td>0.000000</td>\n",
       "      <td>1.100000</td>\n",
       "      <td>93.749000</td>\n",
       "      <td>-41.800000</td>\n",
       "      <td>5191.000000</td>\n",
       "    </tr>\n",
       "    <tr>\n",
       "      <th>75%</th>\n",
       "      <td>47.00000</td>\n",
       "      <td>319.000000</td>\n",
       "      <td>3.000000</td>\n",
       "      <td>999.000000</td>\n",
       "      <td>0.000000</td>\n",
       "      <td>1.400000</td>\n",
       "      <td>93.994000</td>\n",
       "      <td>-36.400000</td>\n",
       "      <td>5228.000000</td>\n",
       "    </tr>\n",
       "    <tr>\n",
       "      <th>max</th>\n",
       "      <td>98.00000</td>\n",
       "      <td>4918.000000</td>\n",
       "      <td>56.000000</td>\n",
       "      <td>999.000000</td>\n",
       "      <td>7.000000</td>\n",
       "      <td>1.400000</td>\n",
       "      <td>94.767000</td>\n",
       "      <td>-26.900000</td>\n",
       "      <td>5228.000000</td>\n",
       "    </tr>\n",
       "  </tbody>\n",
       "</table>\n",
       "</div>"
      ],
      "text/plain": [
       "               age      duration      campaign         pdays      previous  \\\n",
       "count  41188.00000  41188.000000  41188.000000  41188.000000  41188.000000   \n",
       "mean      40.02406    258.285010      2.567593    962.475454      0.172963   \n",
       "std       10.42125    259.279249      2.770014    186.910907      0.494901   \n",
       "min       17.00000      0.000000      1.000000      0.000000      0.000000   \n",
       "25%       32.00000    102.000000      1.000000    999.000000      0.000000   \n",
       "50%       38.00000    180.000000      2.000000    999.000000      0.000000   \n",
       "75%       47.00000    319.000000      3.000000    999.000000      0.000000   \n",
       "max       98.00000   4918.000000     56.000000    999.000000      7.000000   \n",
       "\n",
       "       emp.var.rate  cons.price.idx  cons.conf.idx   nr.employed  \n",
       "count  41188.000000    41188.000000   41188.000000  41188.000000  \n",
       "mean       0.081886       93.575664     -40.502600   5166.849446  \n",
       "std        1.570960        0.578840       4.628198     72.328375  \n",
       "min       -3.400000       92.201000     -50.800000   4963.000000  \n",
       "25%       -1.800000       93.075000     -42.700000   5099.000000  \n",
       "50%        1.100000       93.749000     -41.800000   5191.000000  \n",
       "75%        1.400000       93.994000     -36.400000   5228.000000  \n",
       "max        1.400000       94.767000     -26.900000   5228.000000  "
      ]
     },
     "execution_count": 19,
     "metadata": {},
     "output_type": "execute_result"
    }
   ],
   "source": [
    "\"\"\"Observamos que  los valores de \n",
    "cons.price.idx ahora se encuentran en un rango que tiene sentido para \n",
    "un indice de precios al consumidor\"\"\"\n",
    "df.describe() \n"
   ]
  },
  {
   "cell_type": "code",
   "execution_count": 20,
   "metadata": {
    "colab": {
     "base_uri": "https://localhost:8080/",
     "height": 35
    },
    "id": "mYrHXmYWiIEo",
    "outputId": "c67b80fa-7177-4249-d3f4-bf2fd8c3e73a"
   },
   "outputs": [
    {
     "data": {
      "text/plain": [
       "'\\nRealizando perfilado de datos con pandas profiling\\n'"
      ]
     },
     "execution_count": 20,
     "metadata": {},
     "output_type": "execute_result"
    }
   ],
   "source": [
    "\"\"\"\n",
    "Realizando perfilado de datos con pandas profiling\n",
    "\"\"\"\n",
    "\n",
    "#profile = ProfileReport(df, title='Bank_campaign', html={'style':{'full_width':True}})\n",
    "#profile.to_notebook_iframe()"
   ]
  },
  {
   "cell_type": "markdown",
   "metadata": {
    "id": "rToLrK2gi7Jd"
   },
   "source": [
    "## Explorando columnas categoricas"
   ]
  },
  {
   "cell_type": "code",
   "execution_count": 21,
   "metadata": {
    "colab": {
     "base_uri": "https://localhost:8080/"
    },
    "id": "Rhwmat2MjRJs",
    "outputId": "47732927-9a33-4c54-edc5-b922a98977f9"
   },
   "outputs": [
    {
     "name": "stdout",
     "output_type": "stream",
     "text": [
      "<class 'pandas.core.frame.DataFrame'>\n",
      "RangeIndex: 41188 entries, 0 to 41187\n",
      "Data columns (total 20 columns):\n",
      " #   Column          Non-Null Count  Dtype  \n",
      "---  ------          --------------  -----  \n",
      " 0   age             41188 non-null  int64  \n",
      " 1   job             41188 non-null  object \n",
      " 2   marital         41188 non-null  object \n",
      " 3   education       41188 non-null  object \n",
      " 4   default         41188 non-null  object \n",
      " 5   housing         41188 non-null  object \n",
      " 6   loan            41188 non-null  object \n",
      " 7   contact         41188 non-null  object \n",
      " 8   month           41188 non-null  object \n",
      " 9   day_of_week     41188 non-null  object \n",
      " 10  duration        41188 non-null  int64  \n",
      " 11  campaign        41188 non-null  int64  \n",
      " 12  pdays           41188 non-null  int64  \n",
      " 13  previous        41188 non-null  int64  \n",
      " 14  poutcome        41188 non-null  object \n",
      " 15  emp.var.rate    41188 non-null  float64\n",
      " 16  cons.price.idx  41188 non-null  float64\n",
      " 17  cons.conf.idx   41188 non-null  float64\n",
      " 18  nr.employed     41188 non-null  int64  \n",
      " 19  subscribed      41185 non-null  object \n",
      "dtypes: float64(3), int64(6), object(11)\n",
      "memory usage: 6.3+ MB\n"
     ]
    }
   ],
   "source": [
    "df.info()"
   ]
  },
  {
   "cell_type": "code",
   "execution_count": 22,
   "metadata": {
    "colab": {
     "base_uri": "https://localhost:8080/"
    },
    "id": "o8swhVvZi4S0",
    "outputId": "35ae27f7-1fae-43e2-b2f3-e1db74fc2e42"
   },
   "outputs": [
    {
     "data": {
      "text/plain": [
       "Index(['age', 'job', 'marital', 'education', 'default', 'housing', 'loan',\n",
       "       'contact', 'month', 'day_of_week', 'duration', 'campaign', 'pdays',\n",
       "       'previous', 'poutcome', 'emp.var.rate', 'cons.price.idx',\n",
       "       'cons.conf.idx', 'nr.employed', 'subscribed'],\n",
       "      dtype='object')"
      ]
     },
     "execution_count": 22,
     "metadata": {},
     "output_type": "execute_result"
    }
   ],
   "source": [
    "df.columns"
   ]
  },
  {
   "cell_type": "code",
   "execution_count": 23,
   "metadata": {
    "id": "fWiYRj7liUcB"
   },
   "outputs": [],
   "source": [
    "categorical_cols=df[['job','marital','education','default','housing','loan','contact','month','day_of_week','subscribed','poutcome']]\n",
    "numerical_cols=df[['duration','campaign','pdays','previous','emp.var.rate','cons.price.idx','cons.conf.idx','nr.employed','age']]"
   ]
  },
  {
   "cell_type": "markdown",
   "metadata": {
    "id": "Pc1g-UtC6iWk"
   },
   "source": [
    "## Explorando valores faltantes en cada columna"
   ]
  },
  {
   "cell_type": "code",
   "execution_count": 24,
   "metadata": {
    "colab": {
     "base_uri": "https://localhost:8080/"
    },
    "id": "v_-CiqcY4726",
    "outputId": "7ea2c718-8707-4624-b677-2acdd663dccf"
   },
   "outputs": [
    {
     "data": {
      "text/plain": [
       "31    1947\n",
       "32    1846\n",
       "33    1833\n",
       "36    1780\n",
       "35    1759\n",
       "      ... \n",
       "89       2\n",
       "91       2\n",
       "94       1\n",
       "87       1\n",
       "95       1\n",
       "Name: age, Length: 78, dtype: int64"
      ]
     },
     "execution_count": 24,
     "metadata": {},
     "output_type": "execute_result"
    }
   ],
   "source": [
    "df['age'].value_counts(dropna=False)"
   ]
  },
  {
   "cell_type": "code",
   "execution_count": 25,
   "metadata": {
    "colab": {
     "base_uri": "https://localhost:8080/"
    },
    "id": "UN3IMC3GjmhC",
    "outputId": "bcbc6b01-54f2-4556-bd36-27913aada3c6"
   },
   "outputs": [
    {
     "data": {
      "text/plain": [
       "admin.           10422\n",
       "blue-collar       9254\n",
       "technician        6743\n",
       "services          3969\n",
       "management        2924\n",
       "retired           1720\n",
       "entrepreneur      1456\n",
       "self-employed     1421\n",
       "housemaid         1060\n",
       "unemployed        1014\n",
       "student            875\n",
       "unknown            330\n",
       "Name: job, dtype: int64"
      ]
     },
     "execution_count": 25,
     "metadata": {},
     "output_type": "execute_result"
    }
   ],
   "source": [
    "df['job'].value_counts(dropna=False)"
   ]
  },
  {
   "cell_type": "code",
   "execution_count": 26,
   "metadata": {
    "colab": {
     "base_uri": "https://localhost:8080/"
    },
    "id": "ORT2ZmjEjvtF",
    "outputId": "cec4886e-7c0a-42b4-c7ea-29d702f47ca0"
   },
   "outputs": [
    {
     "data": {
      "text/plain": [
       "married     24928\n",
       "single      11568\n",
       "divorced     4612\n",
       "unknown        80\n",
       "Name: marital, dtype: int64"
      ]
     },
     "execution_count": 26,
     "metadata": {},
     "output_type": "execute_result"
    }
   ],
   "source": [
    "df['marital'].value_counts(dropna=False)"
   ]
  },
  {
   "cell_type": "code",
   "execution_count": 27,
   "metadata": {
    "colab": {
     "base_uri": "https://localhost:8080/"
    },
    "id": "tXWFeaobj-Yz",
    "outputId": "f507e326-589a-4a24-bf75-a9706289a033"
   },
   "outputs": [
    {
     "data": {
      "text/plain": [
       "university.degree      12168\n",
       "high.school             9515\n",
       "basic.9y                6045\n",
       "professional.course     5243\n",
       "basic.4y                4176\n",
       "basic.6y                2292\n",
       "unknown                 1731\n",
       "illiterate                18\n",
       "Name: education, dtype: int64"
      ]
     },
     "execution_count": 27,
     "metadata": {},
     "output_type": "execute_result"
    }
   ],
   "source": [
    "df['education'].value_counts(dropna=False)"
   ]
  },
  {
   "cell_type": "code",
   "execution_count": 28,
   "metadata": {
    "colab": {
     "base_uri": "https://localhost:8080/"
    },
    "id": "-p-FfCInkBNA",
    "outputId": "98dd1924-0cf7-4e90-faac-9d14ee106f56"
   },
   "outputs": [
    {
     "data": {
      "text/plain": [
       "no         32588\n",
       "unknown     8597\n",
       "yes            3\n",
       "Name: default, dtype: int64"
      ]
     },
     "execution_count": 28,
     "metadata": {},
     "output_type": "execute_result"
    }
   ],
   "source": [
    "df['default'].value_counts(dropna=False)"
   ]
  },
  {
   "cell_type": "code",
   "execution_count": 29,
   "metadata": {
    "colab": {
     "base_uri": "https://localhost:8080/"
    },
    "id": "zcjy_-a2kEEz",
    "outputId": "e6a9032c-f49f-443a-a44c-a1674a83723d"
   },
   "outputs": [
    {
     "data": {
      "text/plain": [
       "yes        21576\n",
       "no         18622\n",
       "unknown      990\n",
       "Name: housing, dtype: int64"
      ]
     },
     "execution_count": 29,
     "metadata": {},
     "output_type": "execute_result"
    }
   ],
   "source": [
    "df['housing'].value_counts(dropna=False)"
   ]
  },
  {
   "cell_type": "code",
   "execution_count": 30,
   "metadata": {
    "colab": {
     "base_uri": "https://localhost:8080/"
    },
    "id": "q2bmaOsPkG7D",
    "outputId": "8e9526d6-2d16-4690-fcd3-d8b4a28f84b1"
   },
   "outputs": [
    {
     "data": {
      "text/plain": [
       "no         33950\n",
       "yes         6248\n",
       "unknown      990\n",
       "Name: loan, dtype: int64"
      ]
     },
     "execution_count": 30,
     "metadata": {},
     "output_type": "execute_result"
    }
   ],
   "source": [
    "df['loan'].value_counts(dropna=False)"
   ]
  },
  {
   "cell_type": "code",
   "execution_count": 31,
   "metadata": {
    "colab": {
     "base_uri": "https://localhost:8080/"
    },
    "id": "igI0aYMjkKEg",
    "outputId": "e244d003-0f05-4a7e-846a-3c1a03d8a5c2"
   },
   "outputs": [
    {
     "data": {
      "text/plain": [
       "cellular     26144\n",
       "telephone    15044\n",
       "Name: contact, dtype: int64"
      ]
     },
     "execution_count": 31,
     "metadata": {},
     "output_type": "execute_result"
    }
   ],
   "source": [
    "df['contact'].value_counts(dropna=False)"
   ]
  },
  {
   "cell_type": "code",
   "execution_count": 32,
   "metadata": {
    "colab": {
     "base_uri": "https://localhost:8080/"
    },
    "id": "6cbPztIUkMRk",
    "outputId": "947ebfe3-8b21-4eaf-8668-5d0159e0db5c"
   },
   "outputs": [
    {
     "data": {
      "text/plain": [
       "may    13769\n",
       "jul     7174\n",
       "aug     6178\n",
       "jun     5318\n",
       "nov     4101\n",
       "apr     2632\n",
       "oct      718\n",
       "sep      570\n",
       "mar      546\n",
       "dec      182\n",
       "Name: month, dtype: int64"
      ]
     },
     "execution_count": 32,
     "metadata": {},
     "output_type": "execute_result"
    }
   ],
   "source": [
    "df['month'].value_counts(dropna=False)"
   ]
  },
  {
   "cell_type": "code",
   "execution_count": 33,
   "metadata": {
    "colab": {
     "base_uri": "https://localhost:8080/"
    },
    "id": "G05wRvf5kOeD",
    "outputId": "ab0fbd1b-50c7-447c-c055-d2f50f96bea6"
   },
   "outputs": [
    {
     "data": {
      "text/plain": [
       "thu    8623\n",
       "mon    8514\n",
       "wed    8134\n",
       "tue    8090\n",
       "fri    7827\n",
       "Name: day_of_week, dtype: int64"
      ]
     },
     "execution_count": 33,
     "metadata": {},
     "output_type": "execute_result"
    }
   ],
   "source": [
    "df['day_of_week'].value_counts(dropna=False)"
   ]
  },
  {
   "cell_type": "code",
   "execution_count": 34,
   "metadata": {
    "colab": {
     "base_uri": "https://localhost:8080/"
    },
    "id": "t-T_ZDQGkR0o",
    "outputId": "899a44d8-4cc4-41e2-c4be-54132a7d2bb1"
   },
   "outputs": [
    {
     "data": {
      "text/plain": [
       "no     36546\n",
       "yes     4639\n",
       "NaN        3\n",
       "Name: subscribed, dtype: int64"
      ]
     },
     "execution_count": 34,
     "metadata": {},
     "output_type": "execute_result"
    }
   ],
   "source": [
    "df['subscribed'].value_counts(dropna=False)"
   ]
  },
  {
   "cell_type": "code",
   "execution_count": 35,
   "metadata": {
    "colab": {
     "base_uri": "https://localhost:8080/"
    },
    "id": "bTN0iftS2gi1",
    "outputId": "7c432409-7a77-465e-b2f3-85637be599ba"
   },
   "outputs": [
    {
     "data": {
      "text/plain": [
       "nonexistent    35563\n",
       "failure         4252\n",
       "success         1373\n",
       "Name: poutcome, dtype: int64"
      ]
     },
     "execution_count": 35,
     "metadata": {},
     "output_type": "execute_result"
    }
   ],
   "source": [
    "df['poutcome'].value_counts(dropna=False)"
   ]
  },
  {
   "cell_type": "code",
   "execution_count": 36,
   "metadata": {
    "colab": {
     "base_uri": "https://localhost:8080/"
    },
    "id": "8eXTObNu6Ewx",
    "outputId": "11b4768a-a935-4fda-98b2-825ede415fca"
   },
   "outputs": [
    {
     "data": {
      "text/plain": [
       "0    35563\n",
       "1     4561\n",
       "2      754\n",
       "3      216\n",
       "4       70\n",
       "5       18\n",
       "6        5\n",
       "7        1\n",
       "Name: previous, dtype: int64"
      ]
     },
     "execution_count": 36,
     "metadata": {},
     "output_type": "execute_result"
    }
   ],
   "source": [
    "df['previous'].value_counts(dropna=False)"
   ]
  },
  {
   "cell_type": "code",
   "execution_count": 37,
   "metadata": {
    "colab": {
     "base_uri": "https://localhost:8080/"
    },
    "id": "2GQQ29N5q-kz",
    "outputId": "1f7847f7-891a-44f4-cb03-1f194aa06f20"
   },
   "outputs": [
    {
     "data": {
      "text/plain": [
       "no         33950\n",
       "yes         6248\n",
       "unknown      990\n",
       "Name: loan, dtype: int64"
      ]
     },
     "execution_count": 37,
     "metadata": {},
     "output_type": "execute_result"
    }
   ],
   "source": [
    "df['loan'].value_counts(dropna=False)"
   ]
  },
  {
   "cell_type": "code",
   "execution_count": 38,
   "metadata": {
    "colab": {
     "base_uri": "https://localhost:8080/"
    },
    "id": "rZCQNo4h6OWE",
    "outputId": "53f26e84-cc4e-4be4-bf58-53c1c5152f62"
   },
   "outputs": [
    {
     "data": {
      "text/plain": [
       " 1.4    16234\n",
       "-1.8     9184\n",
       " 1.1     7763\n",
       "-0.1     3683\n",
       "-2.9     1663\n",
       "-3.4     1071\n",
       "-1.7      773\n",
       "-1.1      635\n",
       "-3.0      172\n",
       "-0.2       10\n",
       "Name: emp.var.rate, dtype: int64"
      ]
     },
     "execution_count": 38,
     "metadata": {},
     "output_type": "execute_result"
    }
   ],
   "source": [
    "df['emp.var.rate'].value_counts(dropna=False)"
   ]
  },
  {
   "cell_type": "code",
   "execution_count": 39,
   "metadata": {
    "colab": {
     "base_uri": "https://localhost:8080/"
    },
    "id": "b-0fjFxr6Q5K",
    "outputId": "aede6a8b-aee8-483a-8617-04b443f72b3a"
   },
   "outputs": [
    {
     "data": {
      "text/plain": [
       "93.994    7763\n",
       "93.918    6685\n",
       "92.893    5794\n",
       "93.444    5175\n",
       "94.465    4374\n",
       "93.200    3616\n",
       "93.075    2458\n",
       "92.201     770\n",
       "92.963     715\n",
       "92.431     447\n",
       "92.649     357\n",
       "94.215     311\n",
       "94.199     303\n",
       "92.843     282\n",
       "92.379     267\n",
       "93.369     264\n",
       "94.027     233\n",
       "94.055     229\n",
       "93.876     212\n",
       "94.601     204\n",
       "92.469     178\n",
       "93.749     174\n",
       "92.713     172\n",
       "94.767     128\n",
       "93.798      67\n",
       "92.756      10\n",
       "Name: cons.price.idx, dtype: int64"
      ]
     },
     "execution_count": 39,
     "metadata": {},
     "output_type": "execute_result"
    }
   ],
   "source": [
    "df['cons.price.idx'].value_counts(dropna=False)"
   ]
  },
  {
   "cell_type": "code",
   "execution_count": 40,
   "metadata": {
    "colab": {
     "base_uri": "https://localhost:8080/"
    },
    "id": "OxK2UXBY6XZp",
    "outputId": "21971966-03e6-4ae1-ea39-48795c1bb182"
   },
   "outputs": [
    {
     "data": {
      "text/plain": [
       "-36.4    7763\n",
       "-42.7    6685\n",
       "-46.2    5794\n",
       "-36.1    5175\n",
       "-41.8    4374\n",
       "-42.0    3616\n",
       "-47.1    2458\n",
       "-31.4     770\n",
       "-40.8     715\n",
       "-26.9     447\n",
       "-30.1     357\n",
       "-40.3     311\n",
       "-37.5     303\n",
       "-50.0     282\n",
       "-29.8     267\n",
       "-34.8     264\n",
       "-38.3     233\n",
       "-39.8     229\n",
       "-40.0     212\n",
       "-49.5     204\n",
       "-33.6     178\n",
       "-34.6     174\n",
       "-33.0     172\n",
       "-50.8     128\n",
       "-40.4      67\n",
       "-45.9      10\n",
       "Name: cons.conf.idx, dtype: int64"
      ]
     },
     "execution_count": 40,
     "metadata": {},
     "output_type": "execute_result"
    }
   ],
   "source": [
    "df['cons.conf.idx'].value_counts(dropna=False)"
   ]
  },
  {
   "cell_type": "code",
   "execution_count": 41,
   "metadata": {
    "colab": {
     "base_uri": "https://localhost:8080/"
    },
    "id": "FjicXNYZ6dQe",
    "outputId": "7277f548-cb37-4dcc-f692-d99f5c789368"
   },
   "outputs": [
    {
     "data": {
      "text/plain": [
       "5228    16234\n",
       "5099     8534\n",
       "5191     7763\n",
       "5195     3683\n",
       "5076     1663\n",
       "5017     1071\n",
       "4991      773\n",
       "5008      650\n",
       "4963      635\n",
       "5023      172\n",
       "5176       10\n",
       "Name: nr.employed, dtype: int64"
      ]
     },
     "execution_count": 41,
     "metadata": {},
     "output_type": "execute_result"
    }
   ],
   "source": [
    "df['nr.employed'].value_counts(dropna=False)"
   ]
  },
  {
   "cell_type": "code",
   "execution_count": 42,
   "metadata": {
    "colab": {
     "base_uri": "https://localhost:8080/"
    },
    "id": "8At16Tnq6wOo",
    "outputId": "b0c323b4-657f-4214-a5e0-265cb0ba7790"
   },
   "outputs": [
    {
     "data": {
      "text/plain": [
       "999    39673\n",
       "3        439\n",
       "6        412\n",
       "4        118\n",
       "9         64\n",
       "2         61\n",
       "7         60\n",
       "12        58\n",
       "10        52\n",
       "5         46\n",
       "13        36\n",
       "11        28\n",
       "1         26\n",
       "15        24\n",
       "14        20\n",
       "8         18\n",
       "0         15\n",
       "16        11\n",
       "17         8\n",
       "18         7\n",
       "22         3\n",
       "19         3\n",
       "21         2\n",
       "25         1\n",
       "26         1\n",
       "27         1\n",
       "20         1\n",
       "Name: pdays, dtype: int64"
      ]
     },
     "execution_count": 42,
     "metadata": {},
     "output_type": "execute_result"
    }
   ],
   "source": [
    "df['pdays'].value_counts(dropna=False)"
   ]
  },
  {
   "cell_type": "code",
   "execution_count": 43,
   "metadata": {
    "colab": {
     "base_uri": "https://localhost:8080/"
    },
    "id": "92aa0Oq47BEk",
    "outputId": "5a46d7a1-3a77-4d63-f60a-f71a9f6dc5f4"
   },
   "outputs": [
    {
     "data": {
      "text/plain": [
       "cellular     26144\n",
       "telephone    15044\n",
       "Name: contact, dtype: int64"
      ]
     },
     "execution_count": 43,
     "metadata": {},
     "output_type": "execute_result"
    }
   ],
   "source": [
    "df['contact'].value_counts(dropna=False)"
   ]
  },
  {
   "cell_type": "markdown",
   "metadata": {
    "id": "gyuNwNvBodHF"
   },
   "source": [
    "Se observa que varias variables tienen valores como **unknown y nonexistent** lo cual se podria considerar como un NA o un dato que es desconocido o faltante, hay que explorar estos datos faltantes en profundidad para ver que se puede hacer con ellos si eliminarlos o usar alguna tecnica de imputación."
   ]
  },
  {
   "cell_type": "code",
   "execution_count": 44,
   "metadata": {
    "id": "czttv5_AkXtE"
   },
   "outputs": [],
   "source": [
    "## Reemplazando los unknown por NA para poder usar metodos de NA que vienen con pandas.\n",
    "df.replace(\"unknown\",np.nan,inplace=True)"
   ]
  },
  {
   "cell_type": "code",
   "execution_count": 45,
   "metadata": {
    "colab": {
     "base_uri": "https://localhost:8080/"
    },
    "id": "xEobrmC7rChC",
    "outputId": "14e312d8-21a1-4f11-c89f-77ccf1af6af5"
   },
   "outputs": [
    {
     "data": {
      "text/plain": [
       "age                  0\n",
       "job                330\n",
       "marital             80\n",
       "education         1731\n",
       "default           8597\n",
       "housing            990\n",
       "loan               990\n",
       "contact              0\n",
       "month                0\n",
       "day_of_week          0\n",
       "duration             0\n",
       "campaign             0\n",
       "pdays                0\n",
       "previous             0\n",
       "poutcome             0\n",
       "emp.var.rate         0\n",
       "cons.price.idx       0\n",
       "cons.conf.idx        0\n",
       "nr.employed          0\n",
       "subscribed           3\n",
       "dtype: int64"
      ]
     },
     "execution_count": 45,
     "metadata": {},
     "output_type": "execute_result"
    }
   ],
   "source": [
    "df.isna().sum()"
   ]
  },
  {
   "cell_type": "code",
   "execution_count": 46,
   "metadata": {
    "colab": {
     "base_uri": "https://localhost:8080/"
    },
    "id": "g28nk9RirbcE",
    "outputId": "2a4f4b4f-4803-4acc-fed7-6dc4aef28b21"
   },
   "outputs": [
    {
     "name": "stdout",
     "output_type": "stream",
     "text": [
      "age                0.000000\n",
      "cons.conf.idx      0.000000\n",
      "cons.price.idx     0.000000\n",
      "emp.var.rate       0.000000\n",
      "poutcome           0.000000\n",
      "previous           0.000000\n",
      "pdays              0.000000\n",
      "campaign           0.000000\n",
      "duration           0.000000\n",
      "day_of_week        0.000000\n",
      "month              0.000000\n",
      "contact            0.000000\n",
      "nr.employed        0.000000\n",
      "subscribed         0.007284\n",
      "marital            0.194231\n",
      "job                0.801204\n",
      "loan               2.403613\n",
      "housing            2.403613\n",
      "education          4.202680\n",
      "default           20.872584\n",
      "dtype: float64\n"
     ]
    }
   ],
   "source": [
    "print((df.isnull().sum()/len(df)*100).sort_values()) ##Porcentaje de na por cada columna"
   ]
  },
  {
   "cell_type": "markdown",
   "metadata": {
    "collapsed": false
   },
   "source": [
    "* **Se observa que la variable default tiene alrededor de un 20%** de datos faltantes,\n",
    "sin embargo esta variable se considera relevante y borrarla podria ser\n",
    "poco conveniente debido a que el hecho de que una\n",
    "persona tenga un credito en default o no puede ser una variable predictora importante\n",
    "a la hora de estimar si una persona se suscribirá a determinado servicio o no\n",
    "\n",
    "* **Se observa que la variable poutcome que representa el resultado de la campaña de marketing anterior tiene un 86%** de datos faltantes o nonexistent, esto puede indicar que nunca antes se habia contactado a estas personas en una campaña previamente y que es el primer contacto con una campaña de marketing para ofrecer la subscripcion, esta variable podria ser relevante.\n"
   ]
  },
  {
   "cell_type": "markdown",
   "metadata": {
    "id": "_tmw9SzbzID-"
   },
   "source": [
    "Para las variables que tienen un bajo porcentaje de valores nulos o faltantes  al rededor de entre un 0.1% y un 4% se optará por imputar con el metodo de la moda dada la poca cantidad de datos que faltan y que la imputacion por la moda de  la clase a la que corresponde la instancia tiene poca probabilidad de  afectar  negativamente el modelo resultante"
   ]
  },
  {
   "cell_type": "markdown",
   "metadata": {
    "id": "7rU7JnaW1W-h"
   },
   "source": [
    "## Eliminando duplicados"
   ]
  },
  {
   "cell_type": "code",
   "execution_count": 47,
   "metadata": {
    "id": "RazbFoGhyu3E"
   },
   "outputs": [],
   "source": [
    "df.drop_duplicates(inplace=True)## Eliminando filas duplicadas."
   ]
  },
  {
   "cell_type": "code",
   "execution_count": 48,
   "metadata": {
    "colab": {
     "base_uri": "https://localhost:8080/",
     "height": 488
    },
    "id": "zywJsRxA0IMr",
    "outputId": "01eefb00-4e30-4f00-b2b4-a80dbedebd76"
   },
   "outputs": [
    {
     "data": {
      "text/html": [
       "<div>\n",
       "<style scoped>\n",
       "    .dataframe tbody tr th:only-of-type {\n",
       "        vertical-align: middle;\n",
       "    }\n",
       "\n",
       "    .dataframe tbody tr th {\n",
       "        vertical-align: top;\n",
       "    }\n",
       "\n",
       "    .dataframe thead th {\n",
       "        text-align: right;\n",
       "    }\n",
       "</style>\n",
       "<table border=\"1\" class=\"dataframe\">\n",
       "  <thead>\n",
       "    <tr style=\"text-align: right;\">\n",
       "      <th></th>\n",
       "      <th>age</th>\n",
       "      <th>job</th>\n",
       "      <th>marital</th>\n",
       "      <th>education</th>\n",
       "      <th>default</th>\n",
       "      <th>housing</th>\n",
       "      <th>loan</th>\n",
       "      <th>contact</th>\n",
       "      <th>month</th>\n",
       "      <th>day_of_week</th>\n",
       "      <th>duration</th>\n",
       "      <th>campaign</th>\n",
       "      <th>pdays</th>\n",
       "      <th>previous</th>\n",
       "      <th>poutcome</th>\n",
       "      <th>emp.var.rate</th>\n",
       "      <th>cons.price.idx</th>\n",
       "      <th>cons.conf.idx</th>\n",
       "      <th>nr.employed</th>\n",
       "      <th>subscribed</th>\n",
       "    </tr>\n",
       "  </thead>\n",
       "  <tbody>\n",
       "    <tr>\n",
       "      <th>0</th>\n",
       "      <td>56</td>\n",
       "      <td>housemaid</td>\n",
       "      <td>married</td>\n",
       "      <td>basic.4y</td>\n",
       "      <td>no</td>\n",
       "      <td>no</td>\n",
       "      <td>no</td>\n",
       "      <td>telephone</td>\n",
       "      <td>may</td>\n",
       "      <td>mon</td>\n",
       "      <td>261</td>\n",
       "      <td>1</td>\n",
       "      <td>999</td>\n",
       "      <td>0</td>\n",
       "      <td>nonexistent</td>\n",
       "      <td>1.1</td>\n",
       "      <td>93.994</td>\n",
       "      <td>-36.4</td>\n",
       "      <td>5191</td>\n",
       "      <td>no</td>\n",
       "    </tr>\n",
       "    <tr>\n",
       "      <th>1</th>\n",
       "      <td>57</td>\n",
       "      <td>services</td>\n",
       "      <td>married</td>\n",
       "      <td>high.school</td>\n",
       "      <td>NaN</td>\n",
       "      <td>no</td>\n",
       "      <td>no</td>\n",
       "      <td>telephone</td>\n",
       "      <td>may</td>\n",
       "      <td>mon</td>\n",
       "      <td>149</td>\n",
       "      <td>1</td>\n",
       "      <td>999</td>\n",
       "      <td>0</td>\n",
       "      <td>nonexistent</td>\n",
       "      <td>1.1</td>\n",
       "      <td>93.994</td>\n",
       "      <td>-36.4</td>\n",
       "      <td>5191</td>\n",
       "      <td>no</td>\n",
       "    </tr>\n",
       "    <tr>\n",
       "      <th>2</th>\n",
       "      <td>37</td>\n",
       "      <td>services</td>\n",
       "      <td>married</td>\n",
       "      <td>high.school</td>\n",
       "      <td>no</td>\n",
       "      <td>yes</td>\n",
       "      <td>no</td>\n",
       "      <td>telephone</td>\n",
       "      <td>may</td>\n",
       "      <td>mon</td>\n",
       "      <td>226</td>\n",
       "      <td>1</td>\n",
       "      <td>999</td>\n",
       "      <td>0</td>\n",
       "      <td>nonexistent</td>\n",
       "      <td>1.1</td>\n",
       "      <td>93.994</td>\n",
       "      <td>-36.4</td>\n",
       "      <td>5191</td>\n",
       "      <td>no</td>\n",
       "    </tr>\n",
       "    <tr>\n",
       "      <th>3</th>\n",
       "      <td>40</td>\n",
       "      <td>admin.</td>\n",
       "      <td>married</td>\n",
       "      <td>basic.6y</td>\n",
       "      <td>no</td>\n",
       "      <td>no</td>\n",
       "      <td>no</td>\n",
       "      <td>telephone</td>\n",
       "      <td>may</td>\n",
       "      <td>mon</td>\n",
       "      <td>151</td>\n",
       "      <td>1</td>\n",
       "      <td>999</td>\n",
       "      <td>0</td>\n",
       "      <td>nonexistent</td>\n",
       "      <td>1.1</td>\n",
       "      <td>93.994</td>\n",
       "      <td>-36.4</td>\n",
       "      <td>5191</td>\n",
       "      <td>no</td>\n",
       "    </tr>\n",
       "    <tr>\n",
       "      <th>4</th>\n",
       "      <td>56</td>\n",
       "      <td>services</td>\n",
       "      <td>married</td>\n",
       "      <td>high.school</td>\n",
       "      <td>no</td>\n",
       "      <td>no</td>\n",
       "      <td>yes</td>\n",
       "      <td>telephone</td>\n",
       "      <td>may</td>\n",
       "      <td>mon</td>\n",
       "      <td>307</td>\n",
       "      <td>1</td>\n",
       "      <td>999</td>\n",
       "      <td>0</td>\n",
       "      <td>nonexistent</td>\n",
       "      <td>1.1</td>\n",
       "      <td>93.994</td>\n",
       "      <td>-36.4</td>\n",
       "      <td>5191</td>\n",
       "      <td>no</td>\n",
       "    </tr>\n",
       "    <tr>\n",
       "      <th>...</th>\n",
       "      <td>...</td>\n",
       "      <td>...</td>\n",
       "      <td>...</td>\n",
       "      <td>...</td>\n",
       "      <td>...</td>\n",
       "      <td>...</td>\n",
       "      <td>...</td>\n",
       "      <td>...</td>\n",
       "      <td>...</td>\n",
       "      <td>...</td>\n",
       "      <td>...</td>\n",
       "      <td>...</td>\n",
       "      <td>...</td>\n",
       "      <td>...</td>\n",
       "      <td>...</td>\n",
       "      <td>...</td>\n",
       "      <td>...</td>\n",
       "      <td>...</td>\n",
       "      <td>...</td>\n",
       "      <td>...</td>\n",
       "    </tr>\n",
       "    <tr>\n",
       "      <th>41183</th>\n",
       "      <td>73</td>\n",
       "      <td>retired</td>\n",
       "      <td>married</td>\n",
       "      <td>professional.course</td>\n",
       "      <td>no</td>\n",
       "      <td>yes</td>\n",
       "      <td>no</td>\n",
       "      <td>cellular</td>\n",
       "      <td>nov</td>\n",
       "      <td>fri</td>\n",
       "      <td>334</td>\n",
       "      <td>1</td>\n",
       "      <td>999</td>\n",
       "      <td>0</td>\n",
       "      <td>nonexistent</td>\n",
       "      <td>-1.1</td>\n",
       "      <td>94.767</td>\n",
       "      <td>-50.8</td>\n",
       "      <td>4963</td>\n",
       "      <td>yes</td>\n",
       "    </tr>\n",
       "    <tr>\n",
       "      <th>41184</th>\n",
       "      <td>46</td>\n",
       "      <td>blue-collar</td>\n",
       "      <td>married</td>\n",
       "      <td>professional.course</td>\n",
       "      <td>no</td>\n",
       "      <td>no</td>\n",
       "      <td>no</td>\n",
       "      <td>cellular</td>\n",
       "      <td>nov</td>\n",
       "      <td>fri</td>\n",
       "      <td>383</td>\n",
       "      <td>1</td>\n",
       "      <td>999</td>\n",
       "      <td>0</td>\n",
       "      <td>nonexistent</td>\n",
       "      <td>-1.1</td>\n",
       "      <td>94.767</td>\n",
       "      <td>-50.8</td>\n",
       "      <td>4963</td>\n",
       "      <td>no</td>\n",
       "    </tr>\n",
       "    <tr>\n",
       "      <th>41185</th>\n",
       "      <td>56</td>\n",
       "      <td>retired</td>\n",
       "      <td>married</td>\n",
       "      <td>university.degree</td>\n",
       "      <td>no</td>\n",
       "      <td>yes</td>\n",
       "      <td>no</td>\n",
       "      <td>cellular</td>\n",
       "      <td>nov</td>\n",
       "      <td>fri</td>\n",
       "      <td>189</td>\n",
       "      <td>2</td>\n",
       "      <td>999</td>\n",
       "      <td>0</td>\n",
       "      <td>nonexistent</td>\n",
       "      <td>-1.1</td>\n",
       "      <td>94.767</td>\n",
       "      <td>-50.8</td>\n",
       "      <td>4963</td>\n",
       "      <td>NaN</td>\n",
       "    </tr>\n",
       "    <tr>\n",
       "      <th>41186</th>\n",
       "      <td>44</td>\n",
       "      <td>technician</td>\n",
       "      <td>married</td>\n",
       "      <td>professional.course</td>\n",
       "      <td>no</td>\n",
       "      <td>no</td>\n",
       "      <td>no</td>\n",
       "      <td>cellular</td>\n",
       "      <td>nov</td>\n",
       "      <td>fri</td>\n",
       "      <td>442</td>\n",
       "      <td>1</td>\n",
       "      <td>999</td>\n",
       "      <td>0</td>\n",
       "      <td>nonexistent</td>\n",
       "      <td>-1.1</td>\n",
       "      <td>94.767</td>\n",
       "      <td>-50.8</td>\n",
       "      <td>4963</td>\n",
       "      <td>NaN</td>\n",
       "    </tr>\n",
       "    <tr>\n",
       "      <th>41187</th>\n",
       "      <td>74</td>\n",
       "      <td>retired</td>\n",
       "      <td>married</td>\n",
       "      <td>professional.course</td>\n",
       "      <td>no</td>\n",
       "      <td>yes</td>\n",
       "      <td>no</td>\n",
       "      <td>cellular</td>\n",
       "      <td>nov</td>\n",
       "      <td>fri</td>\n",
       "      <td>239</td>\n",
       "      <td>3</td>\n",
       "      <td>999</td>\n",
       "      <td>1</td>\n",
       "      <td>failure</td>\n",
       "      <td>-1.1</td>\n",
       "      <td>94.767</td>\n",
       "      <td>-50.8</td>\n",
       "      <td>4963</td>\n",
       "      <td>NaN</td>\n",
       "    </tr>\n",
       "  </tbody>\n",
       "</table>\n",
       "<p>41175 rows × 20 columns</p>\n",
       "</div>"
      ],
      "text/plain": [
       "       age          job  marital            education default housing loan  \\\n",
       "0       56    housemaid  married             basic.4y      no      no   no   \n",
       "1       57     services  married          high.school     NaN      no   no   \n",
       "2       37     services  married          high.school      no     yes   no   \n",
       "3       40       admin.  married             basic.6y      no      no   no   \n",
       "4       56     services  married          high.school      no      no  yes   \n",
       "...    ...          ...      ...                  ...     ...     ...  ...   \n",
       "41183   73      retired  married  professional.course      no     yes   no   \n",
       "41184   46  blue-collar  married  professional.course      no      no   no   \n",
       "41185   56      retired  married    university.degree      no     yes   no   \n",
       "41186   44   technician  married  professional.course      no      no   no   \n",
       "41187   74      retired  married  professional.course      no     yes   no   \n",
       "\n",
       "         contact month day_of_week  duration  campaign  pdays  previous  \\\n",
       "0      telephone   may         mon       261         1    999         0   \n",
       "1      telephone   may         mon       149         1    999         0   \n",
       "2      telephone   may         mon       226         1    999         0   \n",
       "3      telephone   may         mon       151         1    999         0   \n",
       "4      telephone   may         mon       307         1    999         0   \n",
       "...          ...   ...         ...       ...       ...    ...       ...   \n",
       "41183   cellular   nov         fri       334         1    999         0   \n",
       "41184   cellular   nov         fri       383         1    999         0   \n",
       "41185   cellular   nov         fri       189         2    999         0   \n",
       "41186   cellular   nov         fri       442         1    999         0   \n",
       "41187   cellular   nov         fri       239         3    999         1   \n",
       "\n",
       "          poutcome  emp.var.rate  cons.price.idx  cons.conf.idx  nr.employed  \\\n",
       "0      nonexistent           1.1          93.994          -36.4         5191   \n",
       "1      nonexistent           1.1          93.994          -36.4         5191   \n",
       "2      nonexistent           1.1          93.994          -36.4         5191   \n",
       "3      nonexistent           1.1          93.994          -36.4         5191   \n",
       "4      nonexistent           1.1          93.994          -36.4         5191   \n",
       "...            ...           ...             ...            ...          ...   \n",
       "41183  nonexistent          -1.1          94.767          -50.8         4963   \n",
       "41184  nonexistent          -1.1          94.767          -50.8         4963   \n",
       "41185  nonexistent          -1.1          94.767          -50.8         4963   \n",
       "41186  nonexistent          -1.1          94.767          -50.8         4963   \n",
       "41187      failure          -1.1          94.767          -50.8         4963   \n",
       "\n",
       "      subscribed  \n",
       "0             no  \n",
       "1             no  \n",
       "2             no  \n",
       "3             no  \n",
       "4             no  \n",
       "...          ...  \n",
       "41183        yes  \n",
       "41184         no  \n",
       "41185        NaN  \n",
       "41186        NaN  \n",
       "41187        NaN  \n",
       "\n",
       "[41175 rows x 20 columns]"
      ]
     },
     "execution_count": 48,
     "metadata": {},
     "output_type": "execute_result"
    }
   ],
   "source": [
    "df"
   ]
  },
  {
   "cell_type": "code",
   "execution_count": 49,
   "metadata": {
    "collapsed": false
   },
   "outputs": [
    {
     "name": "stdout",
     "output_type": "stream",
     "text": [
      "age = [56 57 37 40 45 59 41 24 25 29 35 54 46 50 39 30 55 49 34 52 58 32 38 44\n",
      " 42 60 53 47 51 48 33 31 43 36 28 27 26 22 23 20 21 61 19 18 70 66 76 67\n",
      " 73 88 95 77 68 75 63 80 62 65 72 82 64 71 69 78 85 79 83 81 74 17 87 91\n",
      " 86 98 94 84 92 89]\n",
      "job = ['housemaid' 'services' 'admin.' 'blue-collar' 'technician' 'retired'\n",
      " 'management' 'unemployed' 'self-employed' nan 'entrepreneur' 'student']\n",
      "marital = ['married' 'single' 'divorced' nan]\n",
      "education = ['basic.4y' 'high.school' 'basic.6y' 'basic.9y' 'professional.course' nan\n",
      " 'university.degree' 'illiterate']\n",
      "default = ['no' nan 'yes']\n",
      "housing = ['no' 'yes' nan]\n",
      "loan = ['no' 'yes' nan]\n",
      "contact = ['telephone' 'cellular']\n",
      "month = ['may' 'jun' 'jul' 'aug' 'oct' 'nov' 'dec' 'mar' 'apr' 'sep']\n",
      "day_of_week = ['mon' 'tue' 'wed' 'thu' 'fri']\n",
      "duration = [ 261  149  226 ... 1246 1556 1868]\n",
      "campaign = [ 1  2  3  4  5  6  7  8  9 10 11 12 13 19 18 23 14 22 25 16 17 15 20 56\n",
      " 39 35 42 28 26 27 32 21 24 29 31 30 41 37 40 33 34 43]\n",
      "pdays = [999   6   4   3   5   1   0  10   7   8   9  11   2  12  13  14  15  16\n",
      "  21  17  18  22  25  26  19  27  20]\n",
      "previous = [0 1 2 3 4 5 6 7]\n",
      "poutcome = ['nonexistent' 'failure' 'success']\n",
      "emp.var.rate = [ 1.1  1.4 -0.1 -0.2 -1.8 -2.9 -3.4 -3.  -1.7 -1.1]\n",
      "cons.price.idx = [93.994 94.465 93.918 93.444 93.798 93.2   92.756 92.843 93.075 92.893\n",
      " 92.963 92.469 92.201 92.379 92.431 92.649 92.713 93.369 93.749 93.876\n",
      " 94.055 94.215 94.027 94.199 94.601 94.767]\n",
      "cons.conf.idx = [-36.4 -41.8 -42.7 -36.1 -40.4 -42.  -45.9 -50.  -47.1 -46.2 -40.8 -33.6\n",
      " -31.4 -29.8 -26.9 -30.1 -33.  -34.8 -34.6 -40.  -39.8 -40.3 -38.3 -37.5\n",
      " -49.5 -50.8]\n",
      "nr.employed = [5191 5228 5195 5176 5099 5076 5017 5023 5008 4991 4963]\n",
      "subscribed = ['no' 'yes' nan]\n"
     ]
    }
   ],
   "source": [
    "for col in df:\n",
    "    print(f\"{col} = {df[col].unique()}\")"
   ]
  },
  {
   "cell_type": "code",
   "execution_count": 50,
   "metadata": {
    "collapsed": false
   },
   "outputs": [
    {
     "name": "stdout",
     "output_type": "stream",
     "text": [
      "age                0.000000\n",
      "cons.conf.idx      0.000000\n",
      "cons.price.idx     0.000000\n",
      "emp.var.rate       0.000000\n",
      "poutcome           0.000000\n",
      "previous           0.000000\n",
      "pdays              0.000000\n",
      "campaign           0.000000\n",
      "duration           0.000000\n",
      "day_of_week        0.000000\n",
      "month              0.000000\n",
      "contact            0.000000\n",
      "nr.employed        0.000000\n",
      "subscribed         0.007286\n",
      "marital            0.194293\n",
      "job                0.801457\n",
      "loan               2.404372\n",
      "housing            2.404372\n",
      "education          4.201579\n",
      "default           20.876746\n",
      "dtype: float64\n"
     ]
    }
   ],
   "source": [
    "print((df.isnull().sum()/len(df)*100).sort_values())\n"
   ]
  },
  {
   "cell_type": "markdown",
   "metadata": {
    "collapsed": false
   },
   "source": [
    "Para las variables que tienen un porcentaje muy pequeño de datos faltantes tales como:\n",
    "* marital\n",
    "* job\n",
    "* loan\n",
    "* housing\n",
    "* education\n",
    "Aplicaremos una imputation por la moda ya que son variables categóricas y esto no afectará el desempeño del modelo.\n",
    "\n",
    "**Para la variable poutcome, la cual puede ser importante debido a que representa el resultado de la campaña anterior y toma el valor de nonexistent en caso de que la campaña haya sido inexistente, optaremos por dejarla tal y como está asumiendo que contiene 3 categorias: exito en la campaña anterior , fracaso en la campaña anterior o no hubo campaña anterior, el motivo es que esta columna proporciona información importante sobre si fue el primer contacto con el cliente o no para ofrecer la campaña aparte de si fue exitosa o no.**\n",
    "\n",
    "Se opta por eliminar la columna default debido a que contiene más del 20% de datos faltantes y cualquier supuesto o imputación que se haga respecto a que valores debería tener podría sesgar fuertemente los resultados del modelo."
   ]
  },
  {
   "cell_type": "markdown",
   "metadata": {
    "collapsed": false
   },
   "source": [
    "# Imputando valores faltantes de las variables categóricas por la moda.\n",
    "Se usará la función imputer con el argumento most frequent de sklearn para imputar los valores faltantes con la moda en las columnas  marital, job, loan, housing, education"
   ]
  },
  {
   "cell_type": "code",
   "execution_count": 51,
   "metadata": {
    "collapsed": false
   },
   "outputs": [],
   "source": [
    "cols_to_fill=['marital','job','loan','housing','education'] #columnas a imputar\n",
    "imp = SimpleImputer(missing_values=np.nan, strategy='most_frequent')\n",
    "imp.fit(df[cols_to_fill])\n",
    "df[cols_to_fill]=imp.transform(df[cols_to_fill])\n"
   ]
  },
  {
   "cell_type": "markdown",
   "metadata": {
    "collapsed": false
   },
   "source": [
    "Se observa que se ha imputado correctamente los valores faltantes por la moda y ahora\n",
    "solo hay valores faltantes de la columna subscribed que serán los que estimaremos y en la columna default"
   ]
  },
  {
   "cell_type": "code",
   "execution_count": 52,
   "metadata": {
    "collapsed": false
   },
   "outputs": [
    {
     "name": "stdout",
     "output_type": "stream",
     "text": [
      "age                0.000000\n",
      "cons.conf.idx      0.000000\n",
      "cons.price.idx     0.000000\n",
      "emp.var.rate       0.000000\n",
      "poutcome           0.000000\n",
      "previous           0.000000\n",
      "pdays              0.000000\n",
      "campaign           0.000000\n",
      "duration           0.000000\n",
      "day_of_week        0.000000\n",
      "month              0.000000\n",
      "contact            0.000000\n",
      "loan               0.000000\n",
      "housing            0.000000\n",
      "education          0.000000\n",
      "marital            0.000000\n",
      "job                0.000000\n",
      "nr.employed        0.000000\n",
      "subscribed         0.007286\n",
      "default           20.876746\n",
      "dtype: float64\n"
     ]
    }
   ],
   "source": [
    "print((df.isnull().sum()/len(df)*100).sort_values())\n"
   ]
  },
  {
   "cell_type": "code",
   "execution_count": 53,
   "metadata": {
    "collapsed": false
   },
   "outputs": [
    {
     "name": "stdout",
     "output_type": "stream",
     "text": [
      "age = [56 57 37 40 45 59 41 24 25 29 35 54 46 50 39 30 55 49 34 52 58 32 38 44\n",
      " 42 60 53 47 51 48 33 31 43 36 28 27 26 22 23 20 21 61 19 18 70 66 76 67\n",
      " 73 88 95 77 68 75 63 80 62 65 72 82 64 71 69 78 85 79 83 81 74 17 87 91\n",
      " 86 98 94 84 92 89]\n",
      "job = ['housemaid' 'services' 'admin.' 'blue-collar' 'technician' 'retired'\n",
      " 'management' 'unemployed' 'self-employed' 'entrepreneur' 'student']\n",
      "marital = ['married' 'single' 'divorced']\n",
      "education = ['basic.4y' 'high.school' 'basic.6y' 'basic.9y' 'professional.course'\n",
      " 'university.degree' 'illiterate']\n",
      "default = ['no' nan 'yes']\n",
      "housing = ['no' 'yes']\n",
      "loan = ['no' 'yes']\n",
      "contact = ['telephone' 'cellular']\n",
      "month = ['may' 'jun' 'jul' 'aug' 'oct' 'nov' 'dec' 'mar' 'apr' 'sep']\n",
      "day_of_week = ['mon' 'tue' 'wed' 'thu' 'fri']\n",
      "duration = [ 261  149  226 ... 1246 1556 1868]\n",
      "campaign = [ 1  2  3  4  5  6  7  8  9 10 11 12 13 19 18 23 14 22 25 16 17 15 20 56\n",
      " 39 35 42 28 26 27 32 21 24 29 31 30 41 37 40 33 34 43]\n",
      "pdays = [999   6   4   3   5   1   0  10   7   8   9  11   2  12  13  14  15  16\n",
      "  21  17  18  22  25  26  19  27  20]\n",
      "previous = [0 1 2 3 4 5 6 7]\n",
      "poutcome = ['nonexistent' 'failure' 'success']\n",
      "emp.var.rate = [ 1.1  1.4 -0.1 -0.2 -1.8 -2.9 -3.4 -3.  -1.7 -1.1]\n",
      "cons.price.idx = [93.994 94.465 93.918 93.444 93.798 93.2   92.756 92.843 93.075 92.893\n",
      " 92.963 92.469 92.201 92.379 92.431 92.649 92.713 93.369 93.749 93.876\n",
      " 94.055 94.215 94.027 94.199 94.601 94.767]\n",
      "cons.conf.idx = [-36.4 -41.8 -42.7 -36.1 -40.4 -42.  -45.9 -50.  -47.1 -46.2 -40.8 -33.6\n",
      " -31.4 -29.8 -26.9 -30.1 -33.  -34.8 -34.6 -40.  -39.8 -40.3 -38.3 -37.5\n",
      " -49.5 -50.8]\n",
      "nr.employed = [5191 5228 5195 5176 5099 5076 5017 5023 5008 4991 4963]\n",
      "subscribed = ['no' 'yes' nan]\n"
     ]
    }
   ],
   "source": [
    "for col in df:\n",
    "    print(f\"{col} = {df[col].unique()}\")"
   ]
  },
  {
   "cell_type": "markdown",
   "metadata": {
    "collapsed": false
   },
   "source": [
    "## Eliminando la columna default"
   ]
  },
  {
   "cell_type": "code",
   "execution_count": 54,
   "metadata": {
    "collapsed": false
   },
   "outputs": [],
   "source": [
    "df.drop(\"default\",axis=1, inplace=True)"
   ]
  },
  {
   "cell_type": "code",
   "execution_count": 55,
   "metadata": {
    "collapsed": false
   },
   "outputs": [
    {
     "name": "stdout",
     "output_type": "stream",
     "text": [
      "<class 'pandas.core.frame.DataFrame'>\n",
      "Int64Index: 41175 entries, 0 to 41187\n",
      "Data columns (total 19 columns):\n",
      " #   Column          Non-Null Count  Dtype  \n",
      "---  ------          --------------  -----  \n",
      " 0   age             41175 non-null  int64  \n",
      " 1   job             41175 non-null  object \n",
      " 2   marital         41175 non-null  object \n",
      " 3   education       41175 non-null  object \n",
      " 4   housing         41175 non-null  object \n",
      " 5   loan            41175 non-null  object \n",
      " 6   contact         41175 non-null  object \n",
      " 7   month           41175 non-null  object \n",
      " 8   day_of_week     41175 non-null  object \n",
      " 9   duration        41175 non-null  int64  \n",
      " 10  campaign        41175 non-null  int64  \n",
      " 11  pdays           41175 non-null  int64  \n",
      " 12  previous        41175 non-null  int64  \n",
      " 13  poutcome        41175 non-null  object \n",
      " 14  emp.var.rate    41175 non-null  float64\n",
      " 15  cons.price.idx  41175 non-null  float64\n",
      " 16  cons.conf.idx   41175 non-null  float64\n",
      " 17  nr.employed     41175 non-null  int64  \n",
      " 18  subscribed      41172 non-null  object \n",
      "dtypes: float64(3), int64(6), object(10)\n",
      "memory usage: 6.3+ MB\n"
     ]
    }
   ],
   "source": [
    "df.info()"
   ]
  },
  {
   "cell_type": "markdown",
   "metadata": {
    "id": "xLTjhiG6JscX"
   },
   "source": [
    "## Guardando el dataset preprocesado en el csv bank_camp_clean"
   ]
  },
  {
   "cell_type": "code",
   "execution_count": 56,
   "metadata": {
    "collapsed": false
   },
   "outputs": [],
   "source": [
    "df.to_csv(\"../data/interim/bank_camp_intermediate.csv\")"
   ]
  },
  {
   "cell_type": "markdown",
   "metadata": {
    "id": "SALl2bfPVVxi"
   },
   "source": [
    "## Resultados parciales del preprocesamiento\n",
    "\n",
    "* Se han explorado los problemas de calidad de datos de Bank_campaign, se han identificado los valores nulos, los errores en los  puntos decimales, problemas en los tipos de datos, datos carentes de sentido dentro de los rangos de la variable etc... Además se han eliminado filas duplicadas y se eliminó la columna eurobor3m, y default obteniendo un dataset con 41175 filas y 19 columnas para poder realizar el analisis exploratorio, ingeniería de características y posterior modelado.\n",
    "\n",
    "* Se ha obtenido el dataset bank_camp_preprocessed.csv el cual era usado en el siguiente notebook para hacer un análisis estadístico de las variables y poder transformar las columnas de acuerdo a las necesidades de los modelos que realizaremos."
   ]
  },
  {
   "cell_type": "markdown",
   "metadata": {
    "id": "QkF_y98SXFLj"
   },
   "source": [
    "## Referencias\n",
    "https://www.dane.gov.co/index.php/estadisticas-por-tema/precios-y-costos/indice-de-precios-al-consumidor-ipc\n",
    "\n",
    "https://medium.com/nerd-for-tech/class-imbalance-problem-and-ways-to-handle-it-4861a195398a\n",
    "\n",
    "https://medium.com/analytics-vidhya/complete-guide-to-data-cleaning-with-python-8c686104686c\n",
    "\n",
    "\n",
    "\n",
    "Autor : \n",
    "**Nicolas Restrepo Carvajal** \n",
    "\n",
    "https://www.linkedin.com/in/niconomist98/\n",
    "\n",
    "https://github.com/niconomist98\n",
    "\n",
    "\n"
   ]
  }
 ],
 "metadata": {
  "colab": {
   "collapsed_sections": [],
   "provenance": []
  },
  "kernelspec": {
   "display_name": "Python 3.9.13 ('sklearn')",
   "language": "python",
   "name": "python3"
  },
  "language_info": {
   "codemirror_mode": {
    "name": "ipython",
    "version": 3
   },
   "file_extension": ".py",
   "mimetype": "text/x-python",
   "name": "python",
   "nbconvert_exporter": "python",
   "pygments_lexer": "ipython3",
   "version": "3.9.13"
  },
  "vscode": {
   "interpreter": {
    "hash": "f802338f40a43bcc321ffbdf4397ffdaaa5abf0091e3b66539d27af78bb32df0"
   }
  }
 },
 "nbformat": 4,
 "nbformat_minor": 0
}
