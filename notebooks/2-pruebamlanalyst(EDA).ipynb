{
 "cells": [
  {
   "cell_type": "markdown",
   "metadata": {
    "id": "IvlSJocUZxD0"
   },
   "source": [
    "# **Prueba ML Analyst - Notebook de Análisis exploratorio y feature engineering**\n",
    " \n"
   ]
  },
  {
   "cell_type": "markdown",
   "metadata": {
    "id": "FhXCMasejoyh"
   },
   "source": [
    "## Introduction:\n",
    "El objetivo de este análisis es usar datos recopilados sobre llamadas de una campaña  comercial del banco para clasificar nuevas instancias o\n",
    "llamadas con el fin de detectar si el cliente se suscribirá o no al producto  de depósito  a plazo(aceptan la campaña)y con que probabilidad.\n",
    "\n",
    "La etiqueta de las instancias es 'suscribed' que puede tomar 2 valores: yes o no, dependiendo de si la persona acepto la campaña y se suscribió al producto o no."
   ]
  },
  {
   "cell_type": "markdown",
   "metadata": {
    "id": "Tl3KRkt3pfma"
   },
   "source": [
    "## Pregunta objetivo:\n",
    "¿Cuál sería la etiqueta de las instancias no clasificadas? , ¿Según los datos  las personas no etiquetadas a las que se contacta se suscribirán o no al producto financiero ofrecido por la campaña?"
   ]
  },
  {
   "cell_type": "markdown",
   "metadata": {
    "id": "S84PCxN7Z3lq"
   },
   "source": [
    "# Contenido \n",
    "1.   Perfilado de datos\n",
    "2.   Distribución de la variable objetivo\n",
    "3.   Revisando el balance de los datos\n",
    "4.   Correlación entre variables numericas\n",
    "5.   Feture engineering\n",
    "6.   Variables con alta cardinalidad\n",
    "7.   Label encoding para las pruebas estadísticas\n",
    "8.   Test chi cuadrado.\n",
    "9.   Creación de nuevas columnas\n",
    "10.  Matriz de correlación.\n",
    "11.  Guardando el dataset final.\n"
   ]
  },
  {
   "cell_type": "code",
   "execution_count": 383,
   "metadata": {
    "colab": {
     "base_uri": "https://localhost:8080/"
    },
    "id": "q0BzEje3ZuTi",
    "outputId": "ae670204-d248-4360-d38f-9f4518aa7bca"
   },
   "outputs": [],
   "source": [
    "#Importando las librerias necesarias\n",
    "import matplotlib.pyplot as plt\n",
    "import plotly.express as px\n",
    "import seaborn as sb\n",
    "import seaborn as sns\n",
    "import numpy as np\n",
    "from matplotlib import cm\n",
    "import pandas as pd\n",
    "from pandas_profiling import ProfileReport\n",
    "import missingno as msno\n",
    "from sklearn.preprocessing import LabelEncoder\n",
    "import scipy.stats as stats\n",
    "from scipy.stats import chi2_contingency\n"
   ]
  },
  {
   "cell_type": "code",
   "execution_count": 384,
   "metadata": {
    "id": "TnTUEERbbfm-"
   },
   "outputs": [],
   "source": [
    "## Cargando el dataset preprocesado obtenido del anterior notebook \"bank_camp_preprocessed.csv\"\n",
    "df=pd.read_csv(\"../data/interim/bank_camp_intermediate.csv\",index_col=0)"
   ]
  },
  {
   "cell_type": "code",
   "execution_count": 385,
   "metadata": {
    "colab": {
     "base_uri": "https://localhost:8080/",
     "height": 488
    },
    "id": "YEJvMIJXb4Xm",
    "outputId": "1af28245-b476-422f-b823-1e12a7e026f8"
   },
   "outputs": [
    {
     "data": {
      "text/html": [
       "<div>\n",
       "<style scoped>\n",
       "    .dataframe tbody tr th:only-of-type {\n",
       "        vertical-align: middle;\n",
       "    }\n",
       "\n",
       "    .dataframe tbody tr th {\n",
       "        vertical-align: top;\n",
       "    }\n",
       "\n",
       "    .dataframe thead th {\n",
       "        text-align: right;\n",
       "    }\n",
       "</style>\n",
       "<table border=\"1\" class=\"dataframe\">\n",
       "  <thead>\n",
       "    <tr style=\"text-align: right;\">\n",
       "      <th></th>\n",
       "      <th>age</th>\n",
       "      <th>job</th>\n",
       "      <th>marital</th>\n",
       "      <th>education</th>\n",
       "      <th>housing</th>\n",
       "      <th>loan</th>\n",
       "      <th>contact</th>\n",
       "      <th>month</th>\n",
       "      <th>day_of_week</th>\n",
       "      <th>duration</th>\n",
       "      <th>campaign</th>\n",
       "      <th>pdays</th>\n",
       "      <th>previous</th>\n",
       "      <th>poutcome</th>\n",
       "      <th>emp.var.rate</th>\n",
       "      <th>cons.price.idx</th>\n",
       "      <th>cons.conf.idx</th>\n",
       "      <th>nr.employed</th>\n",
       "      <th>subscribed</th>\n",
       "    </tr>\n",
       "  </thead>\n",
       "  <tbody>\n",
       "    <tr>\n",
       "      <th>0</th>\n",
       "      <td>56</td>\n",
       "      <td>housemaid</td>\n",
       "      <td>married</td>\n",
       "      <td>basic.4y</td>\n",
       "      <td>no</td>\n",
       "      <td>no</td>\n",
       "      <td>telephone</td>\n",
       "      <td>may</td>\n",
       "      <td>mon</td>\n",
       "      <td>261</td>\n",
       "      <td>1</td>\n",
       "      <td>999</td>\n",
       "      <td>0</td>\n",
       "      <td>nonexistent</td>\n",
       "      <td>1.1</td>\n",
       "      <td>93.994</td>\n",
       "      <td>-36.4</td>\n",
       "      <td>5191</td>\n",
       "      <td>no</td>\n",
       "    </tr>\n",
       "    <tr>\n",
       "      <th>1</th>\n",
       "      <td>57</td>\n",
       "      <td>services</td>\n",
       "      <td>married</td>\n",
       "      <td>high.school</td>\n",
       "      <td>no</td>\n",
       "      <td>no</td>\n",
       "      <td>telephone</td>\n",
       "      <td>may</td>\n",
       "      <td>mon</td>\n",
       "      <td>149</td>\n",
       "      <td>1</td>\n",
       "      <td>999</td>\n",
       "      <td>0</td>\n",
       "      <td>nonexistent</td>\n",
       "      <td>1.1</td>\n",
       "      <td>93.994</td>\n",
       "      <td>-36.4</td>\n",
       "      <td>5191</td>\n",
       "      <td>no</td>\n",
       "    </tr>\n",
       "    <tr>\n",
       "      <th>2</th>\n",
       "      <td>37</td>\n",
       "      <td>services</td>\n",
       "      <td>married</td>\n",
       "      <td>high.school</td>\n",
       "      <td>yes</td>\n",
       "      <td>no</td>\n",
       "      <td>telephone</td>\n",
       "      <td>may</td>\n",
       "      <td>mon</td>\n",
       "      <td>226</td>\n",
       "      <td>1</td>\n",
       "      <td>999</td>\n",
       "      <td>0</td>\n",
       "      <td>nonexistent</td>\n",
       "      <td>1.1</td>\n",
       "      <td>93.994</td>\n",
       "      <td>-36.4</td>\n",
       "      <td>5191</td>\n",
       "      <td>no</td>\n",
       "    </tr>\n",
       "    <tr>\n",
       "      <th>3</th>\n",
       "      <td>40</td>\n",
       "      <td>admin.</td>\n",
       "      <td>married</td>\n",
       "      <td>basic.6y</td>\n",
       "      <td>no</td>\n",
       "      <td>no</td>\n",
       "      <td>telephone</td>\n",
       "      <td>may</td>\n",
       "      <td>mon</td>\n",
       "      <td>151</td>\n",
       "      <td>1</td>\n",
       "      <td>999</td>\n",
       "      <td>0</td>\n",
       "      <td>nonexistent</td>\n",
       "      <td>1.1</td>\n",
       "      <td>93.994</td>\n",
       "      <td>-36.4</td>\n",
       "      <td>5191</td>\n",
       "      <td>no</td>\n",
       "    </tr>\n",
       "    <tr>\n",
       "      <th>4</th>\n",
       "      <td>56</td>\n",
       "      <td>services</td>\n",
       "      <td>married</td>\n",
       "      <td>high.school</td>\n",
       "      <td>no</td>\n",
       "      <td>yes</td>\n",
       "      <td>telephone</td>\n",
       "      <td>may</td>\n",
       "      <td>mon</td>\n",
       "      <td>307</td>\n",
       "      <td>1</td>\n",
       "      <td>999</td>\n",
       "      <td>0</td>\n",
       "      <td>nonexistent</td>\n",
       "      <td>1.1</td>\n",
       "      <td>93.994</td>\n",
       "      <td>-36.4</td>\n",
       "      <td>5191</td>\n",
       "      <td>no</td>\n",
       "    </tr>\n",
       "    <tr>\n",
       "      <th>...</th>\n",
       "      <td>...</td>\n",
       "      <td>...</td>\n",
       "      <td>...</td>\n",
       "      <td>...</td>\n",
       "      <td>...</td>\n",
       "      <td>...</td>\n",
       "      <td>...</td>\n",
       "      <td>...</td>\n",
       "      <td>...</td>\n",
       "      <td>...</td>\n",
       "      <td>...</td>\n",
       "      <td>...</td>\n",
       "      <td>...</td>\n",
       "      <td>...</td>\n",
       "      <td>...</td>\n",
       "      <td>...</td>\n",
       "      <td>...</td>\n",
       "      <td>...</td>\n",
       "      <td>...</td>\n",
       "    </tr>\n",
       "    <tr>\n",
       "      <th>41183</th>\n",
       "      <td>73</td>\n",
       "      <td>retired</td>\n",
       "      <td>married</td>\n",
       "      <td>professional.course</td>\n",
       "      <td>yes</td>\n",
       "      <td>no</td>\n",
       "      <td>cellular</td>\n",
       "      <td>nov</td>\n",
       "      <td>fri</td>\n",
       "      <td>334</td>\n",
       "      <td>1</td>\n",
       "      <td>999</td>\n",
       "      <td>0</td>\n",
       "      <td>nonexistent</td>\n",
       "      <td>-1.1</td>\n",
       "      <td>94.767</td>\n",
       "      <td>-50.8</td>\n",
       "      <td>4963</td>\n",
       "      <td>yes</td>\n",
       "    </tr>\n",
       "    <tr>\n",
       "      <th>41184</th>\n",
       "      <td>46</td>\n",
       "      <td>blue-collar</td>\n",
       "      <td>married</td>\n",
       "      <td>professional.course</td>\n",
       "      <td>no</td>\n",
       "      <td>no</td>\n",
       "      <td>cellular</td>\n",
       "      <td>nov</td>\n",
       "      <td>fri</td>\n",
       "      <td>383</td>\n",
       "      <td>1</td>\n",
       "      <td>999</td>\n",
       "      <td>0</td>\n",
       "      <td>nonexistent</td>\n",
       "      <td>-1.1</td>\n",
       "      <td>94.767</td>\n",
       "      <td>-50.8</td>\n",
       "      <td>4963</td>\n",
       "      <td>no</td>\n",
       "    </tr>\n",
       "    <tr>\n",
       "      <th>41185</th>\n",
       "      <td>56</td>\n",
       "      <td>retired</td>\n",
       "      <td>married</td>\n",
       "      <td>university.degree</td>\n",
       "      <td>yes</td>\n",
       "      <td>no</td>\n",
       "      <td>cellular</td>\n",
       "      <td>nov</td>\n",
       "      <td>fri</td>\n",
       "      <td>189</td>\n",
       "      <td>2</td>\n",
       "      <td>999</td>\n",
       "      <td>0</td>\n",
       "      <td>nonexistent</td>\n",
       "      <td>-1.1</td>\n",
       "      <td>94.767</td>\n",
       "      <td>-50.8</td>\n",
       "      <td>4963</td>\n",
       "      <td>NaN</td>\n",
       "    </tr>\n",
       "    <tr>\n",
       "      <th>41186</th>\n",
       "      <td>44</td>\n",
       "      <td>technician</td>\n",
       "      <td>married</td>\n",
       "      <td>professional.course</td>\n",
       "      <td>no</td>\n",
       "      <td>no</td>\n",
       "      <td>cellular</td>\n",
       "      <td>nov</td>\n",
       "      <td>fri</td>\n",
       "      <td>442</td>\n",
       "      <td>1</td>\n",
       "      <td>999</td>\n",
       "      <td>0</td>\n",
       "      <td>nonexistent</td>\n",
       "      <td>-1.1</td>\n",
       "      <td>94.767</td>\n",
       "      <td>-50.8</td>\n",
       "      <td>4963</td>\n",
       "      <td>NaN</td>\n",
       "    </tr>\n",
       "    <tr>\n",
       "      <th>41187</th>\n",
       "      <td>74</td>\n",
       "      <td>retired</td>\n",
       "      <td>married</td>\n",
       "      <td>professional.course</td>\n",
       "      <td>yes</td>\n",
       "      <td>no</td>\n",
       "      <td>cellular</td>\n",
       "      <td>nov</td>\n",
       "      <td>fri</td>\n",
       "      <td>239</td>\n",
       "      <td>3</td>\n",
       "      <td>999</td>\n",
       "      <td>1</td>\n",
       "      <td>failure</td>\n",
       "      <td>-1.1</td>\n",
       "      <td>94.767</td>\n",
       "      <td>-50.8</td>\n",
       "      <td>4963</td>\n",
       "      <td>NaN</td>\n",
       "    </tr>\n",
       "  </tbody>\n",
       "</table>\n",
       "<p>41175 rows × 19 columns</p>\n",
       "</div>"
      ],
      "text/plain": [
       "       age          job  marital            education housing loan    contact  \\\n",
       "0       56    housemaid  married             basic.4y      no   no  telephone   \n",
       "1       57     services  married          high.school      no   no  telephone   \n",
       "2       37     services  married          high.school     yes   no  telephone   \n",
       "3       40       admin.  married             basic.6y      no   no  telephone   \n",
       "4       56     services  married          high.school      no  yes  telephone   \n",
       "...    ...          ...      ...                  ...     ...  ...        ...   \n",
       "41183   73      retired  married  professional.course     yes   no   cellular   \n",
       "41184   46  blue-collar  married  professional.course      no   no   cellular   \n",
       "41185   56      retired  married    university.degree     yes   no   cellular   \n",
       "41186   44   technician  married  professional.course      no   no   cellular   \n",
       "41187   74      retired  married  professional.course     yes   no   cellular   \n",
       "\n",
       "      month day_of_week  duration  campaign  pdays  previous     poutcome  \\\n",
       "0       may         mon       261         1    999         0  nonexistent   \n",
       "1       may         mon       149         1    999         0  nonexistent   \n",
       "2       may         mon       226         1    999         0  nonexistent   \n",
       "3       may         mon       151         1    999         0  nonexistent   \n",
       "4       may         mon       307         1    999         0  nonexistent   \n",
       "...     ...         ...       ...       ...    ...       ...          ...   \n",
       "41183   nov         fri       334         1    999         0  nonexistent   \n",
       "41184   nov         fri       383         1    999         0  nonexistent   \n",
       "41185   nov         fri       189         2    999         0  nonexistent   \n",
       "41186   nov         fri       442         1    999         0  nonexistent   \n",
       "41187   nov         fri       239         3    999         1      failure   \n",
       "\n",
       "       emp.var.rate  cons.price.idx  cons.conf.idx  nr.employed subscribed  \n",
       "0               1.1          93.994          -36.4         5191         no  \n",
       "1               1.1          93.994          -36.4         5191         no  \n",
       "2               1.1          93.994          -36.4         5191         no  \n",
       "3               1.1          93.994          -36.4         5191         no  \n",
       "4               1.1          93.994          -36.4         5191         no  \n",
       "...             ...             ...            ...          ...        ...  \n",
       "41183          -1.1          94.767          -50.8         4963        yes  \n",
       "41184          -1.1          94.767          -50.8         4963         no  \n",
       "41185          -1.1          94.767          -50.8         4963        NaN  \n",
       "41186          -1.1          94.767          -50.8         4963        NaN  \n",
       "41187          -1.1          94.767          -50.8         4963        NaN  \n",
       "\n",
       "[41175 rows x 19 columns]"
      ]
     },
     "execution_count": 385,
     "metadata": {},
     "output_type": "execute_result"
    }
   ],
   "source": [
    "df"
   ]
  },
  {
   "cell_type": "code",
   "execution_count": 386,
   "metadata": {
    "colab": {
     "base_uri": "https://localhost:8080/"
    },
    "id": "kHXOXsxvb6YJ",
    "outputId": "bd0e185f-7c65-4978-fef9-587aee6101c9"
   },
   "outputs": [
    {
     "name": "stdout",
     "output_type": "stream",
     "text": [
      "<class 'pandas.core.frame.DataFrame'>\n",
      "Int64Index: 41175 entries, 0 to 41187\n",
      "Data columns (total 19 columns):\n",
      " #   Column          Non-Null Count  Dtype  \n",
      "---  ------          --------------  -----  \n",
      " 0   age             41175 non-null  int64  \n",
      " 1   job             41175 non-null  object \n",
      " 2   marital         41175 non-null  object \n",
      " 3   education       41175 non-null  object \n",
      " 4   housing         41175 non-null  object \n",
      " 5   loan            41175 non-null  object \n",
      " 6   contact         41175 non-null  object \n",
      " 7   month           41175 non-null  object \n",
      " 8   day_of_week     41175 non-null  object \n",
      " 9   duration        41175 non-null  int64  \n",
      " 10  campaign        41175 non-null  int64  \n",
      " 11  pdays           41175 non-null  int64  \n",
      " 12  previous        41175 non-null  int64  \n",
      " 13  poutcome        41175 non-null  object \n",
      " 14  emp.var.rate    41175 non-null  float64\n",
      " 15  cons.price.idx  41175 non-null  float64\n",
      " 16  cons.conf.idx   41175 non-null  float64\n",
      " 17  nr.employed     41175 non-null  int64  \n",
      " 18  subscribed      41172 non-null  object \n",
      "dtypes: float64(3), int64(6), object(10)\n",
      "memory usage: 6.3+ MB\n"
     ]
    }
   ],
   "source": [
    "df.info()"
   ]
  },
  {
   "cell_type": "code",
   "execution_count": 387,
   "metadata": {
    "id": "yo71_DfBcqDt"
   },
   "outputs": [],
   "source": [
    "#Creando un reporte con pandas profiling\n",
    "#profile = ProfileReport(df, title='Bank_campaign', html={'style':{'full_width':True}})\n",
    "#profile.to_notebook_iframe()"
   ]
  },
  {
   "cell_type": "code",
   "execution_count": 388,
   "metadata": {
    "collapsed": false
   },
   "outputs": [],
   "source": [
    "#Guardando el reporte\n",
    "#profile.to_file(\"../reports/bank_capaign_data_profiling_univariate_report_.html\")"
   ]
  },
  {
   "cell_type": "markdown",
   "metadata": {
    "collapsed": false
   },
   "source": [
    "## Resultados del perfilado de datos , observaciones:\n",
    " * La variable age contiene valores atípicos  de personas mayores a 90 años.\n",
    " * La variable default está fuertemente desbalanceada con un 79.1% de casos en los que el cliente no tiene credito en default, tan solo 3 casos en los que el cliente si tiene credito en default y 20.9% de casos en los que se desconoce este dato.\n",
    " * En la variable loan se observa que en el 82.4% de los contactos, el cliente no tiene vigente unn préstamo personal, el 15.2% si lo tiene y un 2.4% se desconoce si lo tiene o no.\n",
    " * La variable numerica duration que indica la duración de la llamada en segundos está sesgada hacia la izquierda mostrando una mayor cantidad de llamadas de corta duración. En concreto, el 75% de las llamadas tuvieron una duración inferior a los 319 segundos y el 95% de llamadas tuvieron una duración inferior a los 753 segundos.\n",
    "* La variable campaign que indica el número de contactos realizados durante esta campaña y para este cliente esta fuertemente sesgada. Para el 75% de contactos, se tiene que  hubo menos de 3 contactos previos al contacto actual y para el 95% de los contactos se tiene que hubieron menos de 7 contactos previos, encontrando valores atípicos mayores a 30 y hata 56 contactos previos.\n",
    "\n",
    "* La variable pdays que indica el número de dias transcurridos desde la última vez que se contactó al cliente de una campaña anterior muestra que el 96.3% de los valores son 999, esto podría ser considerado como una columna de valor unico, ya que los demás valores representan una porción de menos del 2 porciento de las observaciones, es posible que sea necesario borrar esta columna.\n",
    "* La variable previous que indica el número de contactos realizados antes de esta campaña y para este cliente tiene un 86.3% de valores correspondientes a 0 contactos, un 11.1% de valores correspondientes a un contacto y el resto de categorias componen menos de un 2%.\n",
    "\n"
   ]
  },
  {
   "cell_type": "markdown",
   "metadata": {
    "id": "54tItZ7kfUz7"
   },
   "source": [
    "## Es importante explicitar las variables que serán tratadas como categorías en el dataset."
   ]
  },
  {
   "cell_type": "code",
   "execution_count": 389,
   "metadata": {
    "id": "Wow15-tndiR_"
   },
   "outputs": [],
   "source": [
    "# Definiendo las columnas categoricas como tipo categoria para que python las reconozca como tal.\n",
    "df[['job','marital','education','housing','loan','contact','month','day_of_week','poutcome','previous']]=df[['job','marital','education','housing','loan','contact','month','day_of_week','poutcome','previous']].astype(\"category\")\n",
    "# Asignando tipo de dato category a la variable target\n",
    "df['subscribed']=df['subscribed'].astype(\"category\")\n"
   ]
  },
  {
   "cell_type": "markdown",
   "metadata": {
    "collapsed": false
   },
   "source": [
    "Separando las columnas numéricas, categóricas y el target para poder analizarlas."
   ]
  },
  {
   "cell_type": "code",
   "execution_count": 390,
   "metadata": {
    "collapsed": false
   },
   "outputs": [],
   "source": [
    "categorical_cols=df[['job','marital','education','housing','loan','contact','month','day_of_week','poutcome','previous']]\n",
    "target=df['subscribed']\n",
    "numerical_cols=df[['age','duration','campaign','pdays','emp.var.rate','cons.price.idx','cons.conf.idx','nr.employed']]"
   ]
  },
  {
   "cell_type": "code",
   "execution_count": 391,
   "metadata": {
    "collapsed": false
   },
   "outputs": [
    {
     "name": "stdout",
     "output_type": "stream",
     "text": [
      "<class 'pandas.core.frame.DataFrame'>\n",
      "Int64Index: 41175 entries, 0 to 41187\n",
      "Data columns (total 19 columns):\n",
      " #   Column          Non-Null Count  Dtype   \n",
      "---  ------          --------------  -----   \n",
      " 0   age             41175 non-null  int64   \n",
      " 1   job             41175 non-null  category\n",
      " 2   marital         41175 non-null  category\n",
      " 3   education       41175 non-null  category\n",
      " 4   housing         41175 non-null  category\n",
      " 5   loan            41175 non-null  category\n",
      " 6   contact         41175 non-null  category\n",
      " 7   month           41175 non-null  category\n",
      " 8   day_of_week     41175 non-null  category\n",
      " 9   duration        41175 non-null  int64   \n",
      " 10  campaign        41175 non-null  int64   \n",
      " 11  pdays           41175 non-null  int64   \n",
      " 12  previous        41175 non-null  category\n",
      " 13  poutcome        41175 non-null  category\n",
      " 14  emp.var.rate    41175 non-null  float64 \n",
      " 15  cons.price.idx  41175 non-null  float64 \n",
      " 16  cons.conf.idx   41175 non-null  float64 \n",
      " 17  nr.employed     41175 non-null  int64   \n",
      " 18  subscribed      41172 non-null  category\n",
      "dtypes: category(11), float64(3), int64(5)\n",
      "memory usage: 3.3 MB\n"
     ]
    }
   ],
   "source": [
    "df.info()"
   ]
  },
  {
   "cell_type": "code",
   "execution_count": 392,
   "metadata": {
    "collapsed": false
   },
   "outputs": [
    {
     "data": {
      "text/html": [
       "<div>\n",
       "<style scoped>\n",
       "    .dataframe tbody tr th:only-of-type {\n",
       "        vertical-align: middle;\n",
       "    }\n",
       "\n",
       "    .dataframe tbody tr th {\n",
       "        vertical-align: top;\n",
       "    }\n",
       "\n",
       "    .dataframe thead th {\n",
       "        text-align: right;\n",
       "    }\n",
       "</style>\n",
       "<table border=\"1\" class=\"dataframe\">\n",
       "  <thead>\n",
       "    <tr style=\"text-align: right;\">\n",
       "      <th></th>\n",
       "      <th>age</th>\n",
       "      <th>duration</th>\n",
       "      <th>campaign</th>\n",
       "      <th>pdays</th>\n",
       "      <th>emp.var.rate</th>\n",
       "      <th>cons.price.idx</th>\n",
       "      <th>cons.conf.idx</th>\n",
       "      <th>nr.employed</th>\n",
       "    </tr>\n",
       "  </thead>\n",
       "  <tbody>\n",
       "    <tr>\n",
       "      <th>count</th>\n",
       "      <td>41175.000000</td>\n",
       "      <td>41175.000000</td>\n",
       "      <td>41175.000000</td>\n",
       "      <td>41175.000000</td>\n",
       "      <td>41175.000000</td>\n",
       "      <td>41175.000000</td>\n",
       "      <td>41175.000000</td>\n",
       "      <td>41175.000000</td>\n",
       "    </tr>\n",
       "    <tr>\n",
       "      <th>mean</th>\n",
       "      <td>40.023898</td>\n",
       "      <td>258.318421</td>\n",
       "      <td>2.567917</td>\n",
       "      <td>962.463922</td>\n",
       "      <td>0.081967</td>\n",
       "      <td>93.575736</td>\n",
       "      <td>-40.502725</td>\n",
       "      <td>5166.850055</td>\n",
       "    </tr>\n",
       "    <tr>\n",
       "      <th>std</th>\n",
       "      <td>10.420788</td>\n",
       "      <td>259.307930</td>\n",
       "      <td>2.770341</td>\n",
       "      <td>186.939285</td>\n",
       "      <td>1.570874</td>\n",
       "      <td>0.578836</td>\n",
       "      <td>4.627831</td>\n",
       "      <td>72.328321</td>\n",
       "    </tr>\n",
       "    <tr>\n",
       "      <th>min</th>\n",
       "      <td>17.000000</td>\n",
       "      <td>0.000000</td>\n",
       "      <td>1.000000</td>\n",
       "      <td>0.000000</td>\n",
       "      <td>-3.400000</td>\n",
       "      <td>92.201000</td>\n",
       "      <td>-50.800000</td>\n",
       "      <td>4963.000000</td>\n",
       "    </tr>\n",
       "    <tr>\n",
       "      <th>25%</th>\n",
       "      <td>32.000000</td>\n",
       "      <td>102.000000</td>\n",
       "      <td>1.000000</td>\n",
       "      <td>999.000000</td>\n",
       "      <td>-1.800000</td>\n",
       "      <td>93.075000</td>\n",
       "      <td>-42.700000</td>\n",
       "      <td>5099.000000</td>\n",
       "    </tr>\n",
       "    <tr>\n",
       "      <th>50%</th>\n",
       "      <td>38.000000</td>\n",
       "      <td>180.000000</td>\n",
       "      <td>2.000000</td>\n",
       "      <td>999.000000</td>\n",
       "      <td>1.100000</td>\n",
       "      <td>93.749000</td>\n",
       "      <td>-41.800000</td>\n",
       "      <td>5191.000000</td>\n",
       "    </tr>\n",
       "    <tr>\n",
       "      <th>75%</th>\n",
       "      <td>47.000000</td>\n",
       "      <td>319.000000</td>\n",
       "      <td>3.000000</td>\n",
       "      <td>999.000000</td>\n",
       "      <td>1.400000</td>\n",
       "      <td>93.994000</td>\n",
       "      <td>-36.400000</td>\n",
       "      <td>5228.000000</td>\n",
       "    </tr>\n",
       "    <tr>\n",
       "      <th>max</th>\n",
       "      <td>98.000000</td>\n",
       "      <td>4918.000000</td>\n",
       "      <td>56.000000</td>\n",
       "      <td>999.000000</td>\n",
       "      <td>1.400000</td>\n",
       "      <td>94.767000</td>\n",
       "      <td>-26.900000</td>\n",
       "      <td>5228.000000</td>\n",
       "    </tr>\n",
       "  </tbody>\n",
       "</table>\n",
       "</div>"
      ],
      "text/plain": [
       "                age      duration      campaign         pdays  emp.var.rate  \\\n",
       "count  41175.000000  41175.000000  41175.000000  41175.000000  41175.000000   \n",
       "mean      40.023898    258.318421      2.567917    962.463922      0.081967   \n",
       "std       10.420788    259.307930      2.770341    186.939285      1.570874   \n",
       "min       17.000000      0.000000      1.000000      0.000000     -3.400000   \n",
       "25%       32.000000    102.000000      1.000000    999.000000     -1.800000   \n",
       "50%       38.000000    180.000000      2.000000    999.000000      1.100000   \n",
       "75%       47.000000    319.000000      3.000000    999.000000      1.400000   \n",
       "max       98.000000   4918.000000     56.000000    999.000000      1.400000   \n",
       "\n",
       "       cons.price.idx  cons.conf.idx   nr.employed  \n",
       "count    41175.000000   41175.000000  41175.000000  \n",
       "mean        93.575736     -40.502725   5166.850055  \n",
       "std          0.578836       4.627831     72.328321  \n",
       "min         92.201000     -50.800000   4963.000000  \n",
       "25%         93.075000     -42.700000   5099.000000  \n",
       "50%         93.749000     -41.800000   5191.000000  \n",
       "75%         93.994000     -36.400000   5228.000000  \n",
       "max         94.767000     -26.900000   5228.000000  "
      ]
     },
     "execution_count": 392,
     "metadata": {},
     "output_type": "execute_result"
    }
   ],
   "source": [
    "#Descripcion de columnas numéricas\n",
    "numerical_cols.describe()"
   ]
  },
  {
   "cell_type": "code",
   "execution_count": 393,
   "metadata": {
    "collapsed": false
   },
   "outputs": [
    {
     "data": {
      "text/plain": [
       "job            11\n",
       "marital         3\n",
       "education       7\n",
       "housing         2\n",
       "loan            2\n",
       "contact         2\n",
       "month          10\n",
       "day_of_week     5\n",
       "poutcome        3\n",
       "previous        8\n",
       "Name: unique, dtype: object"
      ]
     },
     "execution_count": 393,
     "metadata": {},
     "output_type": "execute_result"
    }
   ],
   "source": [
    "# Cantidad de valores unicos en las columnas categoricas\n",
    "categorical_cols.describe().loc['unique']"
   ]
  },
  {
   "cell_type": "code",
   "execution_count": 394,
   "metadata": {
    "collapsed": false
   },
   "outputs": [
    {
     "data": {
      "text/plain": [
       "2"
      ]
     },
     "execution_count": 394,
     "metadata": {},
     "output_type": "execute_result"
    }
   ],
   "source": [
    "target.describe().loc['unique']"
   ]
  },
  {
   "cell_type": "code",
   "execution_count": 395,
   "metadata": {
    "collapsed": false
   },
   "outputs": [
    {
     "data": {
      "text/plain": [
       "age  duration  campaign  pdays  emp.var.rate  cons.price.idx  cons.conf.idx  nr.employed\n",
       "35   91        2         999     1.1          93.994          -36.4          5191           4\n",
       "33   64        1         999     1.4          93.444          -36.1          5228           4\n",
       "29   103       1         999    -0.1          93.200          -42.0          5195           4\n",
       "     166       1         999     1.4          93.918          -42.7          5228           4\n",
       "33   120       1         999     1.4          93.444          -36.1          5228           3\n",
       "                                                                                           ..\n",
       "34   274       2         999     1.4          94.465          -41.8          5228           1\n",
       "     275       3         999    -1.8          92.893          -46.2          5099           1\n",
       "     276       2         999    -1.8          92.893          -46.2          5099           1\n",
       "                                 1.4          94.465          -41.8          5228           1\n",
       "98   476       1         2      -3.4          92.431          -26.9          5017           1\n",
       "Length: 39405, dtype: int64"
      ]
     },
     "execution_count": 395,
     "metadata": {},
     "output_type": "execute_result"
    }
   ],
   "source": [
    "numerical_cols.value_counts()"
   ]
  },
  {
   "cell_type": "markdown",
   "metadata": {
    "collapsed": false
   },
   "source": [
    "## Graficando la distribución de la variable objetivo\n",
    "\n",
    "Observamos que el dataset esta desbalanceado, esto tendrá impacto en la elección del modelo ya que es neceario usar modelado que permita trabajar con datos desbalanceados para no sesgar los resultados de las estimaciones."
   ]
  },
  {
   "cell_type": "code",
   "execution_count": 396,
   "metadata": {
    "collapsed": false
   },
   "outputs": [
    {
     "data": {
      "image/png": "[encoded data removed]",
      "text/plain": [
       "<Figure size 640x480 with 1 Axes>"
      ]
     },
     "metadata": {},
     "output_type": "display_data"
    }
   ],
   "source": [
    "ax = sns.countplot(x=df['subscribed'],\n",
    "                   order=df['subscribed'].value_counts(ascending=False).index);\n",
    "\n",
    "abs_values = df['subscribed'].value_counts(ascending=False).values\n",
    "ax.bar_label(container=ax.containers[0], labels=abs_values)\n",
    "\n",
    "plt.show()"
   ]
  },
  {
   "cell_type": "markdown",
   "metadata": {
    "collapsed": false
   },
   "source": [
    "## Analisis de correlacion entre las variables numericas\n",
    "A continuación analizaremos la correlación entre las variables numéricas para ver las relaciones existentes entre las variables y comprender mejor la data para tomar decisiones respecto a que datos dejar y cuáles quitar."
   ]
  },
  {
   "cell_type": "code",
   "execution_count": 397,
   "metadata": {
    "collapsed": false
   },
   "outputs": [],
   "source": [
    "#dfx=df[['age','duration','campaign','pdays','emp.var.rate','cons.price.idx','cons.conf.idx','nr.employed','subscribed']]\n",
    "#sns.pairplot(data=dfx, hue='subscribed', palette='crest', corner=True).fig.suptitle('Pairplot for numerical features', fontsize = 20)\n"
   ]
  },
  {
   "cell_type": "markdown",
   "metadata": {
    "collapsed": false
   },
   "source": [
    "## Mapa de calor de la matriz de correlación."
   ]
  },
  {
   "cell_type": "code",
   "execution_count": 398,
   "metadata": {
    "collapsed": false
   },
   "outputs": [
    {
     "data": {
      "image/png": "[encoded data removed]",
      "text/plain": [
       "<Figure size 1500x500 with 2 Axes>"
      ]
     },
     "metadata": {},
     "output_type": "display_data"
    }
   ],
   "source": [
    "f, ax = plt.subplots(figsize = ( 15, 5))\n",
    "sns.heatmap(numerical_cols.corr(), annot = True, linewidth = 0.5, fmt = '.1f', ax = ax )\n",
    "plt.show()"
   ]
  },
  {
   "cell_type": "markdown",
   "metadata": {
    "collapsed": false
   },
   "source": [
    "De la matriz de correlación podemos concluir que la variable emp.var.rate está fuertemente correlacionada con las variables cons.price.idx y con nr.employed lo cual es un fenómeno permanente en economía ya que al variar positivamente la tasa de empleo el número de empleados por definición sube y esto a su vez conduce a mayores ingresos por parte de más personas que empiezan a devengar un salario y aumenta la demanda agregada en distintos tipos de gastos (consumo, inversion, gasto  publico, etc ) lo cual está relacionado economicamente con las alzas en los precios de los productos medidas por el índice de precios al consumo.\n",
    "\n",
    "Con esto en mente **se eliminarán las variable emp.var.rate y nr.employed** que está correlacionadas fuertemente con otras variables debido a que no podemos incluir variables fuertemente correlacionadas en algunos modelos de ML que se emplearan porque puede confundir al algoritmo, hacerlo ineficiente y llevar resultados poco concluyentes respecto a la pregunta que nos estamos haciendo. De acuerdo con el principio de Garbage -in , Garbage out.\n"
   ]
  },
  {
   "cell_type": "code",
   "execution_count": 399,
   "metadata": {
    "collapsed": false,
    "pycharm": {
     "is_executing": true
    }
   },
   "outputs": [
    {
     "name": "stderr",
     "output_type": "stream",
     "text": [
      "/tmp/ipykernel_5230/358732413.py:2: SettingWithCopyWarning:\n",
      "\n",
      "\n",
      "A value is trying to be set on a copy of a slice from a DataFrame\n",
      "\n",
      "See the caveats in the documentation: https://pandas.pydata.org/pandas-docs/stable/user_guide/indexing.html#returning-a-view-versus-a-copy\n",
      "\n",
      "/tmp/ipykernel_5230/358732413.py:4: SettingWithCopyWarning:\n",
      "\n",
      "\n",
      "A value is trying to be set on a copy of a slice from a DataFrame\n",
      "\n",
      "See the caveats in the documentation: https://pandas.pydata.org/pandas-docs/stable/user_guide/indexing.html#returning-a-view-versus-a-copy\n",
      "\n"
     ]
    }
   ],
   "source": [
    "#Eliminando la columna emp.var.rate\n",
    "numerical_cols.drop(\"emp.var.rate\",axis=1,inplace=True)\n",
    "df.drop(\"emp.var.rate\",axis=1,inplace=True)\n",
    "numerical_cols.drop(\"nr.employed\",axis=1,inplace=True)\n",
    "df.drop(\"nr.employed\",axis=1,inplace=True)"
   ]
  },
  {
   "cell_type": "markdown",
   "metadata": {
    "collapsed": false
   },
   "source": [
    "## Observamos que entre las variables numericas ya no hay variables fuertemente correlacionadas, la mayor correlacion es de 0.5 la cual es razonable mantener para este caso."
   ]
  },
  {
   "cell_type": "code",
   "execution_count": 400,
   "metadata": {
    "collapsed": false
   },
   "outputs": [
    {
     "data": {
      "image/png": "[encoded data removed]",
      "text/plain": [
       "<Figure size 1500x500 with 2 Axes>"
      ]
     },
     "metadata": {},
     "output_type": "display_data"
    }
   ],
   "source": [
    "f, ax = plt.subplots(figsize = ( 15, 5))\n",
    "sns.heatmap(numerical_cols.corr(), annot = True, linewidth = 0.5, fmt = '.1f', ax = ax )\n",
    "plt.show()"
   ]
  },
  {
   "cell_type": "code",
   "execution_count": 401,
   "metadata": {
    "collapsed": false
   },
   "outputs": [],
   "source": [
    "df.drop_duplicates(keep='first',inplace=True, ignore_index=True)"
   ]
  },
  {
   "cell_type": "code",
   "execution_count": 402,
   "metadata": {},
   "outputs": [
    {
     "name": "stdout",
     "output_type": "stream",
     "text": [
      "age = [56 57 37 40 45 59 41 24 25 29 35 54 46 50 39 30 55 49 34 52 58 32 38 44\n",
      " 42 60 53 47 51 48 33 31 43 36 28 27 26 22 23 20 21 61 19 18 70 66 76 67\n",
      " 73 88 95 77 68 75 63 80 62 65 72 82 64 71 69 78 85 79 83 81 74 17 87 91\n",
      " 86 98 94 84 92 89]\n",
      "job = ['housemaid', 'services', 'admin.', 'blue-collar', 'technician', ..., 'management', 'unemployed', 'self-employed', 'entrepreneur', 'student']\n",
      "Length: 11\n",
      "Categories (11, object): ['admin.', 'blue-collar', 'entrepreneur', 'housemaid', ..., 'services', 'student', 'technician', 'unemployed']\n",
      "marital = ['married', 'single', 'divorced']\n",
      "Categories (3, object): ['divorced', 'married', 'single']\n",
      "education = ['basic.4y', 'high.school', 'basic.6y', 'basic.9y', 'professional.course', 'university.degree', 'illiterate']\n",
      "Categories (7, object): ['basic.4y', 'basic.6y', 'basic.9y', 'high.school', 'illiterate', 'professional.course', 'university.degree']\n",
      "housing = ['no', 'yes']\n",
      "Categories (2, object): ['no', 'yes']\n",
      "loan = ['no', 'yes']\n",
      "Categories (2, object): ['no', 'yes']\n",
      "contact = ['telephone', 'cellular']\n",
      "Categories (2, object): ['cellular', 'telephone']\n",
      "month = ['may', 'jun', 'jul', 'aug', 'oct', 'nov', 'dec', 'mar', 'apr', 'sep']\n",
      "Categories (10, object): ['apr', 'aug', 'dec', 'jul', ..., 'may', 'nov', 'oct', 'sep']\n",
      "day_of_week = ['mon', 'tue', 'wed', 'thu', 'fri']\n",
      "Categories (5, object): ['fri', 'mon', 'thu', 'tue', 'wed']\n",
      "duration = [ 261  149  226 ... 1246 1556 1868]\n",
      "campaign = [ 1  2  3  4  5  6  7  8  9 10 11 12 13 19 18 23 14 22 25 16 17 15 20 56\n",
      " 39 35 42 28 26 27 32 21 24 29 31 30 41 37 40 33 34 43]\n",
      "pdays = [999   6   4   3   5   1   0  10   7   8   9  11   2  12  13  14  15  16\n",
      "  21  17  18  22  25  26  19  27  20]\n",
      "previous = [0, 1, 2, 3, 4, 5, 6, 7]\n",
      "Categories (8, int64): [0, 1, 2, 3, 4, 5, 6, 7]\n",
      "poutcome = ['nonexistent', 'failure', 'success']\n",
      "Categories (3, object): ['failure', 'nonexistent', 'success']\n",
      "cons.price.idx = [93.994 94.465 93.918 93.444 93.798 93.2   92.756 92.843 93.075 92.893\n",
      " 92.963 92.469 92.201 92.379 92.431 92.649 92.713 93.369 93.749 93.876\n",
      " 94.055 94.215 94.027 94.199 94.601 94.767]\n",
      "cons.conf.idx = [-36.4 -41.8 -42.7 -36.1 -40.4 -42.  -45.9 -50.  -47.1 -46.2 -40.8 -33.6\n",
      " -31.4 -29.8 -26.9 -30.1 -33.  -34.8 -34.6 -40.  -39.8 -40.3 -38.3 -37.5\n",
      " -49.5 -50.8]\n",
      "subscribed = ['no', 'yes', NaN]\n",
      "Categories (2, object): ['no', 'yes']\n"
     ]
    }
   ],
   "source": [
    "#Revisando valores unicos de cada columna.\n",
    "for col in df:\n",
    "    print(f\"{col} = {df[col].unique()}\")"
   ]
  },
  {
   "cell_type": "markdown",
   "metadata": {},
   "source": [
    "# Feature engineering"
   ]
  },
  {
   "cell_type": "markdown",
   "metadata": {},
   "source": [
    " Una vez revisados los valores unicos de cada columna se observa que hay columnas que estan representadas por numeros pero en realidad podrian ser consideradas como categorias dada la baja cardinalidad relativa del dato con respecto a las dimensiones del dataset.\n",
    "* Variable campaign : Contiene 42 valores distintos (clases) para todas las mas de 40.000 observaciones\n",
    "* Variable pdays : Contiene 27 valores distintos (clases)\n",
    "* La variable previous contiene 8 valores distintos(clases)\n",
    "* Las variable cons.price.idx y cons.conf.idx tienen 26 valores distintos (clases)\n",
    "* La variable nr.employed tiene 11 valores distintos (categorias)\n",
    "\n",
    "Con esto en mente la estrategia por la que se opta es por dividir en bins los datos de la variable  para convertirlas a rangos y asi reducir la complejidad de la data sin perder explicabilidad para obtener un mejor performance en los modelos que se usaran."
   ]
  },
  {
   "cell_type": "markdown",
   "metadata": {},
   "source": [
    "## Dividiendo en rangos las variables con alta cardinalidad.\n"
   ]
  },
  {
   "cell_type": "code",
   "execution_count": 403,
   "metadata": {},
   "outputs": [
    {
     "name": "stdout",
     "output_type": "stream",
     "text": [
      "<class 'pandas.core.frame.DataFrame'>\n",
      "RangeIndex: 41172 entries, 0 to 41171\n",
      "Data columns (total 17 columns):\n",
      " #   Column          Non-Null Count  Dtype   \n",
      "---  ------          --------------  -----   \n",
      " 0   age             41172 non-null  int64   \n",
      " 1   job             41172 non-null  category\n",
      " 2   marital         41172 non-null  category\n",
      " 3   education       41172 non-null  category\n",
      " 4   housing         41172 non-null  category\n",
      " 5   loan            41172 non-null  category\n",
      " 6   contact         41172 non-null  category\n",
      " 7   month           41172 non-null  category\n",
      " 8   day_of_week     41172 non-null  category\n",
      " 9   duration        41172 non-null  int64   \n",
      " 10  campaign        41172 non-null  int64   \n",
      " 11  pdays           41172 non-null  int64   \n",
      " 12  previous        41172 non-null  category\n",
      " 13  poutcome        41172 non-null  category\n",
      " 14  cons.price.idx  41172 non-null  float64 \n",
      " 15  cons.conf.idx   41172 non-null  float64 \n",
      " 16  subscribed      41169 non-null  category\n",
      "dtypes: category(11), float64(2), int64(4)\n",
      "memory usage: 2.3 MB\n"
     ]
    }
   ],
   "source": [
    "#Revisando que las variables sean consideradas como categorias para dividir los bins a los que pertenecerán\n",
    "df.info()"
   ]
  },
  {
   "cell_type": "code",
   "execution_count": 404,
   "metadata": {},
   "outputs": [],
   "source": [
    "#Creando series de pandas con los valores unicos de las variables que vamos a discretizar\n",
    "#para hacer mas facil su identificación.\n",
    "list_campaign_values=list(df['campaign'].unique())\n",
    "list_campaign_values=pd.Series(list_campaign_values)\n",
    "list_campaign_values=list_campaign_values.sort_values()\n",
    "\n",
    "\n",
    "list_previous_values=list(df['previous'].unique())\n",
    "list_previous_values=pd.Series(list_previous_values)\n",
    "list_previous_values=list_previous_values.sort_values()\n",
    "\n",
    "list_pdays_values=list(df['pdays'].unique())\n",
    "list_pdays_values=pd.Series(list_pdays_values)\n",
    "list_pdays_values=list_pdays_values.sort_values()\n",
    "\n",
    "list_consprice_values=list(df['cons.price.idx'].unique())\n",
    "list_consprice_values=pd.Series(list_consprice_values)\n",
    "list_consprice_values=list_consprice_values.sort_values()\n",
    "\n",
    "\n",
    "list_consconf_values=list(df['cons.conf.idx'].unique())\n",
    "list_consconf_values=pd.Series(list_consconf_values)\n",
    "list_consconf_values=list_consconf_values.sort_values()\n",
    "\n",
    "list_age_values=list(df['age'].unique())\n",
    "list_age_values=pd.Series(list_age_values)\n",
    "list_age_values=list_age_values.sort_values()"
   ]
  },
  {
   "cell_type": "markdown",
   "metadata": {},
   "source": [
    "**Creando un pequeño dataframe de prueba para almacenar los valores unicos de cada variable ordenados de menor a mayor**"
   ]
  },
  {
   "cell_type": "code",
   "execution_count": 405,
   "metadata": {},
   "outputs": [
    {
     "data": {
      "text/html": [
       "<div>\n",
       "<style scoped>\n",
       "    .dataframe tbody tr th:only-of-type {\n",
       "        vertical-align: middle;\n",
       "    }\n",
       "\n",
       "    .dataframe tbody tr th {\n",
       "        vertical-align: top;\n",
       "    }\n",
       "\n",
       "    .dataframe thead th {\n",
       "        text-align: right;\n",
       "    }\n",
       "</style>\n",
       "<table border=\"1\" class=\"dataframe\">\n",
       "  <thead>\n",
       "    <tr style=\"text-align: right;\">\n",
       "      <th></th>\n",
       "      <th>list_age_values</th>\n",
       "      <th>list_campaign_values</th>\n",
       "      <th>list_previous_values</th>\n",
       "      <th>list_pdays_values</th>\n",
       "      <th>list_consprice_values</th>\n",
       "      <th>list_consconf_values</th>\n",
       "    </tr>\n",
       "  </thead>\n",
       "  <tbody>\n",
       "    <tr>\n",
       "      <th>69</th>\n",
       "      <td>17</td>\n",
       "      <td>NaN</td>\n",
       "      <td>NaN</td>\n",
       "      <td>NaN</td>\n",
       "      <td>NaN</td>\n",
       "      <td>NaN</td>\n",
       "    </tr>\n",
       "    <tr>\n",
       "      <th>43</th>\n",
       "      <td>18</td>\n",
       "      <td>NaN</td>\n",
       "      <td>NaN</td>\n",
       "      <td>NaN</td>\n",
       "      <td>NaN</td>\n",
       "      <td>NaN</td>\n",
       "    </tr>\n",
       "    <tr>\n",
       "      <th>42</th>\n",
       "      <td>19</td>\n",
       "      <td>NaN</td>\n",
       "      <td>NaN</td>\n",
       "      <td>NaN</td>\n",
       "      <td>NaN</td>\n",
       "      <td>NaN</td>\n",
       "    </tr>\n",
       "    <tr>\n",
       "      <th>39</th>\n",
       "      <td>20</td>\n",
       "      <td>33.0</td>\n",
       "      <td>NaN</td>\n",
       "      <td>NaN</td>\n",
       "      <td>NaN</td>\n",
       "      <td>NaN</td>\n",
       "    </tr>\n",
       "    <tr>\n",
       "      <th>40</th>\n",
       "      <td>21</td>\n",
       "      <td>34.0</td>\n",
       "      <td>NaN</td>\n",
       "      <td>NaN</td>\n",
       "      <td>NaN</td>\n",
       "      <td>NaN</td>\n",
       "    </tr>\n",
       "    <tr>\n",
       "      <th>...</th>\n",
       "      <td>...</td>\n",
       "      <td>...</td>\n",
       "      <td>...</td>\n",
       "      <td>...</td>\n",
       "      <td>...</td>\n",
       "      <td>...</td>\n",
       "    </tr>\n",
       "    <tr>\n",
       "      <th>71</th>\n",
       "      <td>91</td>\n",
       "      <td>NaN</td>\n",
       "      <td>NaN</td>\n",
       "      <td>NaN</td>\n",
       "      <td>NaN</td>\n",
       "      <td>NaN</td>\n",
       "    </tr>\n",
       "    <tr>\n",
       "      <th>76</th>\n",
       "      <td>92</td>\n",
       "      <td>NaN</td>\n",
       "      <td>NaN</td>\n",
       "      <td>NaN</td>\n",
       "      <td>NaN</td>\n",
       "      <td>NaN</td>\n",
       "    </tr>\n",
       "    <tr>\n",
       "      <th>74</th>\n",
       "      <td>94</td>\n",
       "      <td>NaN</td>\n",
       "      <td>NaN</td>\n",
       "      <td>NaN</td>\n",
       "      <td>NaN</td>\n",
       "      <td>NaN</td>\n",
       "    </tr>\n",
       "    <tr>\n",
       "      <th>50</th>\n",
       "      <td>95</td>\n",
       "      <td>NaN</td>\n",
       "      <td>NaN</td>\n",
       "      <td>NaN</td>\n",
       "      <td>NaN</td>\n",
       "      <td>NaN</td>\n",
       "    </tr>\n",
       "    <tr>\n",
       "      <th>73</th>\n",
       "      <td>98</td>\n",
       "      <td>NaN</td>\n",
       "      <td>NaN</td>\n",
       "      <td>NaN</td>\n",
       "      <td>NaN</td>\n",
       "      <td>NaN</td>\n",
       "    </tr>\n",
       "  </tbody>\n",
       "</table>\n",
       "<p>78 rows × 6 columns</p>\n",
       "</div>"
      ],
      "text/plain": [
       "    list_age_values  list_campaign_values  list_previous_values  \\\n",
       "69               17                   NaN                   NaN   \n",
       "43               18                   NaN                   NaN   \n",
       "42               19                   NaN                   NaN   \n",
       "39               20                  33.0                   NaN   \n",
       "40               21                  34.0                   NaN   \n",
       "..              ...                   ...                   ...   \n",
       "71               91                   NaN                   NaN   \n",
       "76               92                   NaN                   NaN   \n",
       "74               94                   NaN                   NaN   \n",
       "50               95                   NaN                   NaN   \n",
       "73               98                   NaN                   NaN   \n",
       "\n",
       "    list_pdays_values  list_consprice_values  list_consconf_values  \n",
       "69                NaN                    NaN                   NaN  \n",
       "43                NaN                    NaN                   NaN  \n",
       "42                NaN                    NaN                   NaN  \n",
       "39                NaN                    NaN                   NaN  \n",
       "40                NaN                    NaN                   NaN  \n",
       "..                ...                    ...                   ...  \n",
       "71                NaN                    NaN                   NaN  \n",
       "76                NaN                    NaN                   NaN  \n",
       "74                NaN                    NaN                   NaN  \n",
       "50                NaN                    NaN                   NaN  \n",
       "73                NaN                    NaN                   NaN  \n",
       "\n",
       "[78 rows x 6 columns]"
      ]
     },
     "execution_count": 405,
     "metadata": {},
     "output_type": "execute_result"
    }
   ],
   "source": [
    "\n",
    "pd.concat([list_age_values,list_campaign_values,list_previous_values,list_pdays_values,list_consprice_values,list_consconf_values],\n",
    "axis=1,\n",
    "keys=['list_age_values','list_campaign_values','list_previous_values','list_pdays_values','list_consprice_values','list_consconf_values'])"
   ]
  },
  {
   "cell_type": "markdown",
   "metadata": {},
   "source": [
    "## Especificaciones de la división en bins:\n",
    "* La variable campaign se dividira en bins de 15 días, es decir el primer bin de [1-15) contactos previos el segundo de [15-29) contactos previos el tercero de [29-43) contactos previos y el 4 de (43-57] contactos previos abarcando todos los valores posibles.\n",
    "* Se creará la variable **age_range** para agrupar a las personas en rangos de edades que van desde los 17 hastta los 98 años que son los rangos minimo y maximo de esta variable. \n",
    "\n",
    "\n",
    "* Se toma la descicion de eliminar la columna pdays debido a que el 96.3% de las observaciones son 999 lo cual \n",
    "puede ser considerado como una columna de valor unico que no aportará informacion al modelo.\n",
    "* La variable previous se dejara tal y como esta ya que solo cuenta con 7 categorias.\n",
    "* La variable cons.price.idx se dejara tal como esa ya que sus variaciones son tan solo de unos pocos puntos porcentuales y es posible que a la hora de seleccionar las mejores caracteristicas haya que eliminarla sin embargo la dejamos provisionalmente al igual que la columna cons.conf.idx y nr.employ\n",
    "\n",
    "\n"
   ]
  },
  {
   "cell_type": "code",
   "execution_count": 406,
   "metadata": {},
   "outputs": [],
   "source": [
    "# Eliminando la columna pdays\n",
    "df.drop(\"pdays\",inplace=True,axis=1)"
   ]
  },
  {
   "cell_type": "code",
   "execution_count": 407,
   "metadata": {},
   "outputs": [
    {
     "data": {
      "text/html": [
       "<div>\n",
       "<style scoped>\n",
       "    .dataframe tbody tr th:only-of-type {\n",
       "        vertical-align: middle;\n",
       "    }\n",
       "\n",
       "    .dataframe tbody tr th {\n",
       "        vertical-align: top;\n",
       "    }\n",
       "\n",
       "    .dataframe thead th {\n",
       "        text-align: right;\n",
       "    }\n",
       "</style>\n",
       "<table border=\"1\" class=\"dataframe\">\n",
       "  <thead>\n",
       "    <tr style=\"text-align: right;\">\n",
       "      <th></th>\n",
       "      <th>age</th>\n",
       "      <th>job</th>\n",
       "      <th>marital</th>\n",
       "      <th>education</th>\n",
       "      <th>housing</th>\n",
       "      <th>loan</th>\n",
       "      <th>contact</th>\n",
       "      <th>month</th>\n",
       "      <th>day_of_week</th>\n",
       "      <th>duration</th>\n",
       "      <th>campaign</th>\n",
       "      <th>previous</th>\n",
       "      <th>poutcome</th>\n",
       "      <th>cons.price.idx</th>\n",
       "      <th>cons.conf.idx</th>\n",
       "      <th>subscribed</th>\n",
       "      <th>campaign_bins</th>\n",
       "    </tr>\n",
       "  </thead>\n",
       "  <tbody>\n",
       "    <tr>\n",
       "      <th>0</th>\n",
       "      <td>56</td>\n",
       "      <td>housemaid</td>\n",
       "      <td>married</td>\n",
       "      <td>basic.4y</td>\n",
       "      <td>no</td>\n",
       "      <td>no</td>\n",
       "      <td>telephone</td>\n",
       "      <td>may</td>\n",
       "      <td>mon</td>\n",
       "      <td>261</td>\n",
       "      <td>1</td>\n",
       "      <td>0</td>\n",
       "      <td>nonexistent</td>\n",
       "      <td>93.994</td>\n",
       "      <td>-36.4</td>\n",
       "      <td>no</td>\n",
       "      <td>[1, 15)</td>\n",
       "    </tr>\n",
       "    <tr>\n",
       "      <th>1</th>\n",
       "      <td>57</td>\n",
       "      <td>services</td>\n",
       "      <td>married</td>\n",
       "      <td>high.school</td>\n",
       "      <td>no</td>\n",
       "      <td>no</td>\n",
       "      <td>telephone</td>\n",
       "      <td>may</td>\n",
       "      <td>mon</td>\n",
       "      <td>149</td>\n",
       "      <td>1</td>\n",
       "      <td>0</td>\n",
       "      <td>nonexistent</td>\n",
       "      <td>93.994</td>\n",
       "      <td>-36.4</td>\n",
       "      <td>no</td>\n",
       "      <td>[1, 15)</td>\n",
       "    </tr>\n",
       "    <tr>\n",
       "      <th>2</th>\n",
       "      <td>37</td>\n",
       "      <td>services</td>\n",
       "      <td>married</td>\n",
       "      <td>high.school</td>\n",
       "      <td>yes</td>\n",
       "      <td>no</td>\n",
       "      <td>telephone</td>\n",
       "      <td>may</td>\n",
       "      <td>mon</td>\n",
       "      <td>226</td>\n",
       "      <td>1</td>\n",
       "      <td>0</td>\n",
       "      <td>nonexistent</td>\n",
       "      <td>93.994</td>\n",
       "      <td>-36.4</td>\n",
       "      <td>no</td>\n",
       "      <td>[1, 15)</td>\n",
       "    </tr>\n",
       "    <tr>\n",
       "      <th>3</th>\n",
       "      <td>40</td>\n",
       "      <td>admin.</td>\n",
       "      <td>married</td>\n",
       "      <td>basic.6y</td>\n",
       "      <td>no</td>\n",
       "      <td>no</td>\n",
       "      <td>telephone</td>\n",
       "      <td>may</td>\n",
       "      <td>mon</td>\n",
       "      <td>151</td>\n",
       "      <td>1</td>\n",
       "      <td>0</td>\n",
       "      <td>nonexistent</td>\n",
       "      <td>93.994</td>\n",
       "      <td>-36.4</td>\n",
       "      <td>no</td>\n",
       "      <td>[1, 15)</td>\n",
       "    </tr>\n",
       "    <tr>\n",
       "      <th>4</th>\n",
       "      <td>56</td>\n",
       "      <td>services</td>\n",
       "      <td>married</td>\n",
       "      <td>high.school</td>\n",
       "      <td>no</td>\n",
       "      <td>yes</td>\n",
       "      <td>telephone</td>\n",
       "      <td>may</td>\n",
       "      <td>mon</td>\n",
       "      <td>307</td>\n",
       "      <td>1</td>\n",
       "      <td>0</td>\n",
       "      <td>nonexistent</td>\n",
       "      <td>93.994</td>\n",
       "      <td>-36.4</td>\n",
       "      <td>no</td>\n",
       "      <td>[1, 15)</td>\n",
       "    </tr>\n",
       "    <tr>\n",
       "      <th>...</th>\n",
       "      <td>...</td>\n",
       "      <td>...</td>\n",
       "      <td>...</td>\n",
       "      <td>...</td>\n",
       "      <td>...</td>\n",
       "      <td>...</td>\n",
       "      <td>...</td>\n",
       "      <td>...</td>\n",
       "      <td>...</td>\n",
       "      <td>...</td>\n",
       "      <td>...</td>\n",
       "      <td>...</td>\n",
       "      <td>...</td>\n",
       "      <td>...</td>\n",
       "      <td>...</td>\n",
       "      <td>...</td>\n",
       "      <td>...</td>\n",
       "    </tr>\n",
       "    <tr>\n",
       "      <th>41167</th>\n",
       "      <td>73</td>\n",
       "      <td>retired</td>\n",
       "      <td>married</td>\n",
       "      <td>professional.course</td>\n",
       "      <td>yes</td>\n",
       "      <td>no</td>\n",
       "      <td>cellular</td>\n",
       "      <td>nov</td>\n",
       "      <td>fri</td>\n",
       "      <td>334</td>\n",
       "      <td>1</td>\n",
       "      <td>0</td>\n",
       "      <td>nonexistent</td>\n",
       "      <td>94.767</td>\n",
       "      <td>-50.8</td>\n",
       "      <td>yes</td>\n",
       "      <td>[1, 15)</td>\n",
       "    </tr>\n",
       "    <tr>\n",
       "      <th>41168</th>\n",
       "      <td>46</td>\n",
       "      <td>blue-collar</td>\n",
       "      <td>married</td>\n",
       "      <td>professional.course</td>\n",
       "      <td>no</td>\n",
       "      <td>no</td>\n",
       "      <td>cellular</td>\n",
       "      <td>nov</td>\n",
       "      <td>fri</td>\n",
       "      <td>383</td>\n",
       "      <td>1</td>\n",
       "      <td>0</td>\n",
       "      <td>nonexistent</td>\n",
       "      <td>94.767</td>\n",
       "      <td>-50.8</td>\n",
       "      <td>no</td>\n",
       "      <td>[1, 15)</td>\n",
       "    </tr>\n",
       "    <tr>\n",
       "      <th>41169</th>\n",
       "      <td>56</td>\n",
       "      <td>retired</td>\n",
       "      <td>married</td>\n",
       "      <td>university.degree</td>\n",
       "      <td>yes</td>\n",
       "      <td>no</td>\n",
       "      <td>cellular</td>\n",
       "      <td>nov</td>\n",
       "      <td>fri</td>\n",
       "      <td>189</td>\n",
       "      <td>2</td>\n",
       "      <td>0</td>\n",
       "      <td>nonexistent</td>\n",
       "      <td>94.767</td>\n",
       "      <td>-50.8</td>\n",
       "      <td>NaN</td>\n",
       "      <td>[1, 15)</td>\n",
       "    </tr>\n",
       "    <tr>\n",
       "      <th>41170</th>\n",
       "      <td>44</td>\n",
       "      <td>technician</td>\n",
       "      <td>married</td>\n",
       "      <td>professional.course</td>\n",
       "      <td>no</td>\n",
       "      <td>no</td>\n",
       "      <td>cellular</td>\n",
       "      <td>nov</td>\n",
       "      <td>fri</td>\n",
       "      <td>442</td>\n",
       "      <td>1</td>\n",
       "      <td>0</td>\n",
       "      <td>nonexistent</td>\n",
       "      <td>94.767</td>\n",
       "      <td>-50.8</td>\n",
       "      <td>NaN</td>\n",
       "      <td>[1, 15)</td>\n",
       "    </tr>\n",
       "    <tr>\n",
       "      <th>41171</th>\n",
       "      <td>74</td>\n",
       "      <td>retired</td>\n",
       "      <td>married</td>\n",
       "      <td>professional.course</td>\n",
       "      <td>yes</td>\n",
       "      <td>no</td>\n",
       "      <td>cellular</td>\n",
       "      <td>nov</td>\n",
       "      <td>fri</td>\n",
       "      <td>239</td>\n",
       "      <td>3</td>\n",
       "      <td>1</td>\n",
       "      <td>failure</td>\n",
       "      <td>94.767</td>\n",
       "      <td>-50.8</td>\n",
       "      <td>NaN</td>\n",
       "      <td>[1, 15)</td>\n",
       "    </tr>\n",
       "  </tbody>\n",
       "</table>\n",
       "<p>41172 rows × 17 columns</p>\n",
       "</div>"
      ],
      "text/plain": [
       "       age          job  marital            education housing loan    contact  \\\n",
       "0       56    housemaid  married             basic.4y      no   no  telephone   \n",
       "1       57     services  married          high.school      no   no  telephone   \n",
       "2       37     services  married          high.school     yes   no  telephone   \n",
       "3       40       admin.  married             basic.6y      no   no  telephone   \n",
       "4       56     services  married          high.school      no  yes  telephone   \n",
       "...    ...          ...      ...                  ...     ...  ...        ...   \n",
       "41167   73      retired  married  professional.course     yes   no   cellular   \n",
       "41168   46  blue-collar  married  professional.course      no   no   cellular   \n",
       "41169   56      retired  married    university.degree     yes   no   cellular   \n",
       "41170   44   technician  married  professional.course      no   no   cellular   \n",
       "41171   74      retired  married  professional.course     yes   no   cellular   \n",
       "\n",
       "      month day_of_week  duration  campaign previous     poutcome  \\\n",
       "0       may         mon       261         1        0  nonexistent   \n",
       "1       may         mon       149         1        0  nonexistent   \n",
       "2       may         mon       226         1        0  nonexistent   \n",
       "3       may         mon       151         1        0  nonexistent   \n",
       "4       may         mon       307         1        0  nonexistent   \n",
       "...     ...         ...       ...       ...      ...          ...   \n",
       "41167   nov         fri       334         1        0  nonexistent   \n",
       "41168   nov         fri       383         1        0  nonexistent   \n",
       "41169   nov         fri       189         2        0  nonexistent   \n",
       "41170   nov         fri       442         1        0  nonexistent   \n",
       "41171   nov         fri       239         3        1      failure   \n",
       "\n",
       "       cons.price.idx  cons.conf.idx subscribed campaign_bins  \n",
       "0              93.994          -36.4         no       [1, 15)  \n",
       "1              93.994          -36.4         no       [1, 15)  \n",
       "2              93.994          -36.4         no       [1, 15)  \n",
       "3              93.994          -36.4         no       [1, 15)  \n",
       "4              93.994          -36.4         no       [1, 15)  \n",
       "...               ...            ...        ...           ...  \n",
       "41167          94.767          -50.8        yes       [1, 15)  \n",
       "41168          94.767          -50.8         no       [1, 15)  \n",
       "41169          94.767          -50.8        NaN       [1, 15)  \n",
       "41170          94.767          -50.8        NaN       [1, 15)  \n",
       "41171          94.767          -50.8        NaN       [1, 15)  \n",
       "\n",
       "[41172 rows x 17 columns]"
      ]
     },
     "execution_count": 407,
     "metadata": {},
     "output_type": "execute_result"
    }
   ],
   "source": [
    "#Creando la columna campaign_bins que contiene el numero de contactos realizados durante esta campaña\n",
    "#y para este cliente expresado en intervalo.\n",
    "interval_range =pd.interval_range(start=1, freq=14, end=60, closed='left')\n",
    "df['campaign_bins'] = pd.cut(df['campaign'], bins=interval_range)\n",
    "df"
   ]
  },
  {
   "cell_type": "markdown",
   "metadata": {},
   "source": [
    "Revisando los bins obtenidos."
   ]
  },
  {
   "cell_type": "code",
   "execution_count": 408,
   "metadata": {},
   "outputs": [
    {
     "data": {
      "text/plain": [
       "[1, 15)     40766\n",
       "[15, 29)      356\n",
       "[29, 43)       47\n",
       "[43, 57)        3\n",
       "Name: campaign_bins, dtype: int64"
      ]
     },
     "execution_count": 408,
     "metadata": {},
     "output_type": "execute_result"
    }
   ],
   "source": [
    "df['campaign_bins'].value_counts()"
   ]
  },
  {
   "cell_type": "code",
   "execution_count": 409,
   "metadata": {},
   "outputs": [
    {
     "name": "stdout",
     "output_type": "stream",
     "text": [
      "<class 'pandas.core.frame.DataFrame'>\n",
      "RangeIndex: 41172 entries, 0 to 41171\n",
      "Data columns (total 17 columns):\n",
      " #   Column          Non-Null Count  Dtype   \n",
      "---  ------          --------------  -----   \n",
      " 0   age             41172 non-null  int64   \n",
      " 1   job             41172 non-null  category\n",
      " 2   marital         41172 non-null  category\n",
      " 3   education       41172 non-null  category\n",
      " 4   housing         41172 non-null  category\n",
      " 5   loan            41172 non-null  category\n",
      " 6   contact         41172 non-null  category\n",
      " 7   month           41172 non-null  category\n",
      " 8   day_of_week     41172 non-null  category\n",
      " 9   duration        41172 non-null  int64   \n",
      " 10  campaign        41172 non-null  int64   \n",
      " 11  previous        41172 non-null  category\n",
      " 12  poutcome        41172 non-null  category\n",
      " 13  cons.price.idx  41172 non-null  float64 \n",
      " 14  cons.conf.idx   41172 non-null  float64 \n",
      " 15  subscribed      41169 non-null  category\n",
      " 16  campaign_bins   41172 non-null  category\n",
      "dtypes: category(12), float64(2), int64(3)\n",
      "memory usage: 2.0 MB\n"
     ]
    }
   ],
   "source": [
    "df.info()"
   ]
  },
  {
   "cell_type": "code",
   "execution_count": 410,
   "metadata": {},
   "outputs": [
    {
     "data": {
      "text/html": [
       "<div>\n",
       "<style scoped>\n",
       "    .dataframe tbody tr th:only-of-type {\n",
       "        vertical-align: middle;\n",
       "    }\n",
       "\n",
       "    .dataframe tbody tr th {\n",
       "        vertical-align: top;\n",
       "    }\n",
       "\n",
       "    .dataframe thead th {\n",
       "        text-align: right;\n",
       "    }\n",
       "</style>\n",
       "<table border=\"1\" class=\"dataframe\">\n",
       "  <thead>\n",
       "    <tr style=\"text-align: right;\">\n",
       "      <th></th>\n",
       "      <th>age</th>\n",
       "      <th>job</th>\n",
       "      <th>marital</th>\n",
       "      <th>education</th>\n",
       "      <th>housing</th>\n",
       "      <th>loan</th>\n",
       "      <th>contact</th>\n",
       "      <th>month</th>\n",
       "      <th>day_of_week</th>\n",
       "      <th>duration</th>\n",
       "      <th>campaign</th>\n",
       "      <th>previous</th>\n",
       "      <th>poutcome</th>\n",
       "      <th>cons.price.idx</th>\n",
       "      <th>cons.conf.idx</th>\n",
       "      <th>subscribed</th>\n",
       "      <th>campaign_bins</th>\n",
       "      <th>age_range</th>\n",
       "    </tr>\n",
       "  </thead>\n",
       "  <tbody>\n",
       "    <tr>\n",
       "      <th>0</th>\n",
       "      <td>56</td>\n",
       "      <td>housemaid</td>\n",
       "      <td>married</td>\n",
       "      <td>basic.4y</td>\n",
       "      <td>no</td>\n",
       "      <td>no</td>\n",
       "      <td>telephone</td>\n",
       "      <td>may</td>\n",
       "      <td>mon</td>\n",
       "      <td>261</td>\n",
       "      <td>1</td>\n",
       "      <td>0</td>\n",
       "      <td>nonexistent</td>\n",
       "      <td>93.994</td>\n",
       "      <td>-36.4</td>\n",
       "      <td>no</td>\n",
       "      <td>[1, 15)</td>\n",
       "      <td>[54, 67)</td>\n",
       "    </tr>\n",
       "    <tr>\n",
       "      <th>1</th>\n",
       "      <td>57</td>\n",
       "      <td>services</td>\n",
       "      <td>married</td>\n",
       "      <td>high.school</td>\n",
       "      <td>no</td>\n",
       "      <td>no</td>\n",
       "      <td>telephone</td>\n",
       "      <td>may</td>\n",
       "      <td>mon</td>\n",
       "      <td>149</td>\n",
       "      <td>1</td>\n",
       "      <td>0</td>\n",
       "      <td>nonexistent</td>\n",
       "      <td>93.994</td>\n",
       "      <td>-36.4</td>\n",
       "      <td>no</td>\n",
       "      <td>[1, 15)</td>\n",
       "      <td>[54, 67)</td>\n",
       "    </tr>\n",
       "    <tr>\n",
       "      <th>2</th>\n",
       "      <td>37</td>\n",
       "      <td>services</td>\n",
       "      <td>married</td>\n",
       "      <td>high.school</td>\n",
       "      <td>yes</td>\n",
       "      <td>no</td>\n",
       "      <td>telephone</td>\n",
       "      <td>may</td>\n",
       "      <td>mon</td>\n",
       "      <td>226</td>\n",
       "      <td>1</td>\n",
       "      <td>0</td>\n",
       "      <td>nonexistent</td>\n",
       "      <td>93.994</td>\n",
       "      <td>-36.4</td>\n",
       "      <td>no</td>\n",
       "      <td>[1, 15)</td>\n",
       "      <td>[28, 41)</td>\n",
       "    </tr>\n",
       "    <tr>\n",
       "      <th>3</th>\n",
       "      <td>40</td>\n",
       "      <td>admin.</td>\n",
       "      <td>married</td>\n",
       "      <td>basic.6y</td>\n",
       "      <td>no</td>\n",
       "      <td>no</td>\n",
       "      <td>telephone</td>\n",
       "      <td>may</td>\n",
       "      <td>mon</td>\n",
       "      <td>151</td>\n",
       "      <td>1</td>\n",
       "      <td>0</td>\n",
       "      <td>nonexistent</td>\n",
       "      <td>93.994</td>\n",
       "      <td>-36.4</td>\n",
       "      <td>no</td>\n",
       "      <td>[1, 15)</td>\n",
       "      <td>[28, 41)</td>\n",
       "    </tr>\n",
       "    <tr>\n",
       "      <th>4</th>\n",
       "      <td>56</td>\n",
       "      <td>services</td>\n",
       "      <td>married</td>\n",
       "      <td>high.school</td>\n",
       "      <td>no</td>\n",
       "      <td>yes</td>\n",
       "      <td>telephone</td>\n",
       "      <td>may</td>\n",
       "      <td>mon</td>\n",
       "      <td>307</td>\n",
       "      <td>1</td>\n",
       "      <td>0</td>\n",
       "      <td>nonexistent</td>\n",
       "      <td>93.994</td>\n",
       "      <td>-36.4</td>\n",
       "      <td>no</td>\n",
       "      <td>[1, 15)</td>\n",
       "      <td>[54, 67)</td>\n",
       "    </tr>\n",
       "    <tr>\n",
       "      <th>...</th>\n",
       "      <td>...</td>\n",
       "      <td>...</td>\n",
       "      <td>...</td>\n",
       "      <td>...</td>\n",
       "      <td>...</td>\n",
       "      <td>...</td>\n",
       "      <td>...</td>\n",
       "      <td>...</td>\n",
       "      <td>...</td>\n",
       "      <td>...</td>\n",
       "      <td>...</td>\n",
       "      <td>...</td>\n",
       "      <td>...</td>\n",
       "      <td>...</td>\n",
       "      <td>...</td>\n",
       "      <td>...</td>\n",
       "      <td>...</td>\n",
       "      <td>...</td>\n",
       "    </tr>\n",
       "    <tr>\n",
       "      <th>41167</th>\n",
       "      <td>73</td>\n",
       "      <td>retired</td>\n",
       "      <td>married</td>\n",
       "      <td>professional.course</td>\n",
       "      <td>yes</td>\n",
       "      <td>no</td>\n",
       "      <td>cellular</td>\n",
       "      <td>nov</td>\n",
       "      <td>fri</td>\n",
       "      <td>334</td>\n",
       "      <td>1</td>\n",
       "      <td>0</td>\n",
       "      <td>nonexistent</td>\n",
       "      <td>94.767</td>\n",
       "      <td>-50.8</td>\n",
       "      <td>yes</td>\n",
       "      <td>[1, 15)</td>\n",
       "      <td>[67, 80)</td>\n",
       "    </tr>\n",
       "    <tr>\n",
       "      <th>41168</th>\n",
       "      <td>46</td>\n",
       "      <td>blue-collar</td>\n",
       "      <td>married</td>\n",
       "      <td>professional.course</td>\n",
       "      <td>no</td>\n",
       "      <td>no</td>\n",
       "      <td>cellular</td>\n",
       "      <td>nov</td>\n",
       "      <td>fri</td>\n",
       "      <td>383</td>\n",
       "      <td>1</td>\n",
       "      <td>0</td>\n",
       "      <td>nonexistent</td>\n",
       "      <td>94.767</td>\n",
       "      <td>-50.8</td>\n",
       "      <td>no</td>\n",
       "      <td>[1, 15)</td>\n",
       "      <td>[41, 54)</td>\n",
       "    </tr>\n",
       "    <tr>\n",
       "      <th>41169</th>\n",
       "      <td>56</td>\n",
       "      <td>retired</td>\n",
       "      <td>married</td>\n",
       "      <td>university.degree</td>\n",
       "      <td>yes</td>\n",
       "      <td>no</td>\n",
       "      <td>cellular</td>\n",
       "      <td>nov</td>\n",
       "      <td>fri</td>\n",
       "      <td>189</td>\n",
       "      <td>2</td>\n",
       "      <td>0</td>\n",
       "      <td>nonexistent</td>\n",
       "      <td>94.767</td>\n",
       "      <td>-50.8</td>\n",
       "      <td>NaN</td>\n",
       "      <td>[1, 15)</td>\n",
       "      <td>[54, 67)</td>\n",
       "    </tr>\n",
       "    <tr>\n",
       "      <th>41170</th>\n",
       "      <td>44</td>\n",
       "      <td>technician</td>\n",
       "      <td>married</td>\n",
       "      <td>professional.course</td>\n",
       "      <td>no</td>\n",
       "      <td>no</td>\n",
       "      <td>cellular</td>\n",
       "      <td>nov</td>\n",
       "      <td>fri</td>\n",
       "      <td>442</td>\n",
       "      <td>1</td>\n",
       "      <td>0</td>\n",
       "      <td>nonexistent</td>\n",
       "      <td>94.767</td>\n",
       "      <td>-50.8</td>\n",
       "      <td>NaN</td>\n",
       "      <td>[1, 15)</td>\n",
       "      <td>[41, 54)</td>\n",
       "    </tr>\n",
       "    <tr>\n",
       "      <th>41171</th>\n",
       "      <td>74</td>\n",
       "      <td>retired</td>\n",
       "      <td>married</td>\n",
       "      <td>professional.course</td>\n",
       "      <td>yes</td>\n",
       "      <td>no</td>\n",
       "      <td>cellular</td>\n",
       "      <td>nov</td>\n",
       "      <td>fri</td>\n",
       "      <td>239</td>\n",
       "      <td>3</td>\n",
       "      <td>1</td>\n",
       "      <td>failure</td>\n",
       "      <td>94.767</td>\n",
       "      <td>-50.8</td>\n",
       "      <td>NaN</td>\n",
       "      <td>[1, 15)</td>\n",
       "      <td>[67, 80)</td>\n",
       "    </tr>\n",
       "  </tbody>\n",
       "</table>\n",
       "<p>41172 rows × 18 columns</p>\n",
       "</div>"
      ],
      "text/plain": [
       "       age          job  marital            education housing loan    contact  \\\n",
       "0       56    housemaid  married             basic.4y      no   no  telephone   \n",
       "1       57     services  married          high.school      no   no  telephone   \n",
       "2       37     services  married          high.school     yes   no  telephone   \n",
       "3       40       admin.  married             basic.6y      no   no  telephone   \n",
       "4       56     services  married          high.school      no  yes  telephone   \n",
       "...    ...          ...      ...                  ...     ...  ...        ...   \n",
       "41167   73      retired  married  professional.course     yes   no   cellular   \n",
       "41168   46  blue-collar  married  professional.course      no   no   cellular   \n",
       "41169   56      retired  married    university.degree     yes   no   cellular   \n",
       "41170   44   technician  married  professional.course      no   no   cellular   \n",
       "41171   74      retired  married  professional.course     yes   no   cellular   \n",
       "\n",
       "      month day_of_week  duration  campaign previous     poutcome  \\\n",
       "0       may         mon       261         1        0  nonexistent   \n",
       "1       may         mon       149         1        0  nonexistent   \n",
       "2       may         mon       226         1        0  nonexistent   \n",
       "3       may         mon       151         1        0  nonexistent   \n",
       "4       may         mon       307         1        0  nonexistent   \n",
       "...     ...         ...       ...       ...      ...          ...   \n",
       "41167   nov         fri       334         1        0  nonexistent   \n",
       "41168   nov         fri       383         1        0  nonexistent   \n",
       "41169   nov         fri       189         2        0  nonexistent   \n",
       "41170   nov         fri       442         1        0  nonexistent   \n",
       "41171   nov         fri       239         3        1      failure   \n",
       "\n",
       "       cons.price.idx  cons.conf.idx subscribed campaign_bins age_range  \n",
       "0              93.994          -36.4         no       [1, 15)  [54, 67)  \n",
       "1              93.994          -36.4         no       [1, 15)  [54, 67)  \n",
       "2              93.994          -36.4         no       [1, 15)  [28, 41)  \n",
       "3              93.994          -36.4         no       [1, 15)  [28, 41)  \n",
       "4              93.994          -36.4         no       [1, 15)  [54, 67)  \n",
       "...               ...            ...        ...           ...       ...  \n",
       "41167          94.767          -50.8        yes       [1, 15)  [67, 80)  \n",
       "41168          94.767          -50.8         no       [1, 15)  [41, 54)  \n",
       "41169          94.767          -50.8        NaN       [1, 15)  [54, 67)  \n",
       "41170          94.767          -50.8        NaN       [1, 15)  [41, 54)  \n",
       "41171          94.767          -50.8        NaN       [1, 15)  [67, 80)  \n",
       "\n",
       "[41172 rows x 18 columns]"
      ]
     },
     "execution_count": 410,
     "metadata": {},
     "output_type": "execute_result"
    }
   ],
   "source": [
    "#Creando la columna age_range que contiene el intervalo de edad en el que se encuentra el cliente\n",
    "interval_range =pd.interval_range(start=15, freq=13, end=108, closed='left')\n",
    "df['age_range'] = pd.cut(df['age'], bins=interval_range)\n",
    "df"
   ]
  },
  {
   "cell_type": "code",
   "execution_count": 411,
   "metadata": {},
   "outputs": [
    {
     "data": {
      "text/plain": [
       "[28, 41)     20546\n",
       "[41, 54)     12502\n",
       "[54, 67)      4350\n",
       "[15, 28)      3213\n",
       "[67, 80)       411\n",
       "[80, 93)       146\n",
       "[93, 106)        4\n",
       "Name: age_range, dtype: int64"
      ]
     },
     "execution_count": 411,
     "metadata": {},
     "output_type": "execute_result"
    }
   ],
   "source": [
    "df['age_range'].value_counts()"
   ]
  },
  {
   "cell_type": "markdown",
   "metadata": {},
   "source": [
    "Notas:\n",
    " * La variable job  es una variable con una cardinalidad de 11 lo que quiere decir que puede tomar 11 valores distintos :\n",
    " admini, blue-collar(obrero), services, management,retired,entrepreneur,self_employed,housemaid,unemployed,student.\n",
    "\n",
    "    Crearemos la variable derivada **Income** que indica si la persona percibe ingresos o no .\n",
    " \n",
    "    En este caso asumiremos que **housemaid,unemployed y student** entran en la categoría de personas que no devengan ingresos por lo tanto su valor en la variable income sera False. Los demas trabajadores incluyendo personas pensionadas (retired) entran en la categoria de personas que si devengan ingresos y por lo tanto su valor en la variable Income sera True.\n",
    "\n",
    "* La variable education puede tomar 7 valores distintos :\n",
    "university.degree, high.schol, basic.9y ,professional.course, basic.4y , basic.6y, illiterate, para reducir un poco la cardinalidad de esta variable crearemos la columna derivada **niv_ed** que contendra para cada ejemplo los valores sin_educacion, basica, bachillerato, profesional pasando de 7 a 4 categorias.\n",
    "\n",
    "* La variable previous tiene un 86% de observaciones con el valor de 0 lo que indica que fue el primer contacto realizado con este cliente y el resto de valores que componen el 12% indican que fue entre el primer y el septimo contacto. Por lo tanto esta variable tiene una cardinalidad de 7 la cual podemos reducir creando una columna derivada que indique si fue el primer contacto del cliente o no para reducir la complejidad sin perder informacion valiosa. Se creará la columna derivada first_contact la cual indicará si fue el primer contacto con el cliente o no."
   ]
  },
  {
   "cell_type": "code",
   "execution_count": 412,
   "metadata": {},
   "outputs": [
    {
     "data": {
      "text/plain": [
       "1    39283\n",
       "0     1889\n",
       "Name: Income, dtype: int64"
      ]
     },
     "execution_count": 412,
     "metadata": {},
     "output_type": "execute_result"
    }
   ],
   "source": [
    "## Creando columna Income\n",
    "\n",
    "#Lista de condiciones\n",
    "conditions = [\n",
    "    (df['job'] =='admin.'),\n",
    "    (df['job'] =='blue-collar'),\n",
    "    (df['job'] =='technician'),\n",
    "    (df['job'] =='services'),\n",
    "    (df['job'] =='management'),\n",
    "    (df['job'] =='retired'),\n",
    "    (df['job'] =='entrepreneur'),\n",
    "    (df['job'] =='self-employed'),\n",
    "    (df['job'] =='housemaid'),\n",
    "    (df['job'] =='unemployed'),\n",
    "    (df['job'] =='student')\n",
    "    ]\n",
    "\n",
    "values = [1,1,1,1,1,1,1,1,1,0,0]\n",
    "\n",
    "#Creando columna income\n",
    "df['Income'] = np.select(conditions, values)\n",
    "\n",
    "\n",
    "df['Income'].value_counts()"
   ]
  },
  {
   "cell_type": "code",
   "execution_count": 413,
   "metadata": {},
   "outputs": [
    {
     "data": {
      "text/plain": [
       "university.degree      13892\n",
       "high.school             9512\n",
       "basic.9y                6044\n",
       "professional.course     5240\n",
       "basic.4y                4175\n",
       "basic.6y                2291\n",
       "illiterate                18\n",
       "Name: education, dtype: int64"
      ]
     },
     "execution_count": 413,
     "metadata": {},
     "output_type": "execute_result"
    }
   ],
   "source": [
    "df['education'].value_counts()"
   ]
  },
  {
   "cell_type": "code",
   "execution_count": 414,
   "metadata": {},
   "outputs": [
    {
     "data": {
      "text/plain": [
       "profesional      19132\n",
       "basica           12510\n",
       "bachillerato      9512\n",
       "sin_educacion       18\n",
       "Name: niv_ed, dtype: int64"
      ]
     },
     "execution_count": 414,
     "metadata": {},
     "output_type": "execute_result"
    }
   ],
   "source": [
    "## Creando columna niv_ed\n",
    "#Lista de condiciones\n",
    "conditions = [\n",
    "    (df['education'] =='basic.4y'),\n",
    "    (df['education'] =='basic.6y'),\n",
    "    (df['education'] =='basic.9y'),\n",
    "    (df['education'] =='high.school'),\n",
    "    (df['education'] =='professional.course'),\n",
    "    (df['education'] =='university.degree'),\n",
    "    (df['education'] =='illiterate')\n",
    "    ]\n",
    "\n",
    "values = ['basica','basica','basica','bachillerato','profesional','profesional','sin_educacion']\n",
    "\n",
    "#Creando columna niv_ed\n",
    "df['niv_ed'] = np.select(conditions, values)\n",
    "\n",
    "\n",
    "df['niv_ed'].value_counts()"
   ]
  },
  {
   "cell_type": "code",
   "execution_count": 415,
   "metadata": {},
   "outputs": [
    {
     "data": {
      "text/plain": [
       "1    35547\n",
       "0     5625\n",
       "Name: first_contact, dtype: int64"
      ]
     },
     "execution_count": 415,
     "metadata": {},
     "output_type": "execute_result"
    }
   ],
   "source": [
    "## Creando columna first_contact\n",
    "#Lista de condiciones\n",
    "conditions = [\n",
    "    (df['previous'] ==0),\n",
    "    (df['previous'] ==1),\n",
    "    (df['previous'] ==2),\n",
    "    (df['previous'] ==3),\n",
    "    (df['previous'] ==4),\n",
    "    (df['previous'] ==5),\n",
    "    (df['previous'] ==6),\n",
    "    (df['previous'] ==7),\n",
    "    ]\n",
    "\n",
    "values = [1,0,0,0,0,0,0,0]\n",
    "\n",
    "#Creando columna niv_ed\n",
    "df['first_contact'] = np.select(conditions, values)\n",
    "\n",
    "\n",
    "df['first_contact'].value_counts()"
   ]
  },
  {
   "cell_type": "code",
   "execution_count": 416,
   "metadata": {},
   "outputs": [
    {
     "name": "stdout",
     "output_type": "stream",
     "text": [
      "<class 'pandas.core.frame.DataFrame'>\n",
      "RangeIndex: 41172 entries, 0 to 41171\n",
      "Data columns (total 21 columns):\n",
      " #   Column          Non-Null Count  Dtype   \n",
      "---  ------          --------------  -----   \n",
      " 0   age             41172 non-null  int64   \n",
      " 1   job             41172 non-null  category\n",
      " 2   marital         41172 non-null  category\n",
      " 3   education       41172 non-null  category\n",
      " 4   housing         41172 non-null  category\n",
      " 5   loan            41172 non-null  category\n",
      " 6   contact         41172 non-null  category\n",
      " 7   month           41172 non-null  category\n",
      " 8   day_of_week     41172 non-null  category\n",
      " 9   duration        41172 non-null  int64   \n",
      " 10  campaign        41172 non-null  int64   \n",
      " 11  previous        41172 non-null  category\n",
      " 12  poutcome        41172 non-null  category\n",
      " 13  cons.price.idx  41172 non-null  float64 \n",
      " 14  cons.conf.idx   41172 non-null  float64 \n",
      " 15  subscribed      41169 non-null  category\n",
      " 16  campaign_bins   41172 non-null  category\n",
      " 17  age_range       41172 non-null  category\n",
      " 18  Income          41172 non-null  int64   \n",
      " 19  niv_ed          41172 non-null  object  \n",
      " 20  first_contact   41172 non-null  int64   \n",
      "dtypes: category(13), float64(2), int64(5), object(1)\n",
      "memory usage: 3.0+ MB\n"
     ]
    }
   ],
   "source": [
    "df.info()"
   ]
  },
  {
   "cell_type": "code",
   "execution_count": 417,
   "metadata": {},
   "outputs": [],
   "source": [
    "categorical_cols=['job', 'marital', 'education', 'housing', 'loan', 'contact',\n",
    "       'month', 'day_of_week', 'campaign', 'previous', 'poutcome',\n",
    "       'campaign_bins', 'Income', 'niv_ed']\n",
    "df[categorical_cols]=df[categorical_cols].astype(\"category\")"
   ]
  },
  {
   "cell_type": "markdown",
   "metadata": {},
   "source": [
    "## Aplicando encoding a las columnas categoricas para las pruebas estadisticas\n",
    "\n",
    "Es necesario aplicar un label encoder u ordinal encoder para transformar las categorias en numeros, para la columna niv_ed que implica un orden aplicaremos un ordinal enconder, para las demas que no reprersentan una jerarquia particular aplicaremos otros tipos de encoding como label encoding u one hot encoding de ser necesario.\n",
    "\n"
   ]
  },
  {
   "cell_type": "code",
   "execution_count": 418,
   "metadata": {},
   "outputs": [
    {
     "data": {
      "text/html": [
       "<div>\n",
       "<style scoped>\n",
       "    .dataframe tbody tr th:only-of-type {\n",
       "        vertical-align: middle;\n",
       "    }\n",
       "\n",
       "    .dataframe tbody tr th {\n",
       "        vertical-align: top;\n",
       "    }\n",
       "\n",
       "    .dataframe thead th {\n",
       "        text-align: right;\n",
       "    }\n",
       "</style>\n",
       "<table border=\"1\" class=\"dataframe\">\n",
       "  <thead>\n",
       "    <tr style=\"text-align: right;\">\n",
       "      <th></th>\n",
       "      <th>age</th>\n",
       "      <th>job</th>\n",
       "      <th>marital</th>\n",
       "      <th>education</th>\n",
       "      <th>housing</th>\n",
       "      <th>loan</th>\n",
       "      <th>contact</th>\n",
       "      <th>month</th>\n",
       "      <th>day_of_week</th>\n",
       "      <th>duration</th>\n",
       "      <th>...</th>\n",
       "      <th>previous</th>\n",
       "      <th>poutcome</th>\n",
       "      <th>cons.price.idx</th>\n",
       "      <th>cons.conf.idx</th>\n",
       "      <th>subscribed</th>\n",
       "      <th>campaign_bins</th>\n",
       "      <th>age_range</th>\n",
       "      <th>Income</th>\n",
       "      <th>niv_ed</th>\n",
       "      <th>first_contact</th>\n",
       "    </tr>\n",
       "  </thead>\n",
       "  <tbody>\n",
       "    <tr>\n",
       "      <th>0</th>\n",
       "      <td>56</td>\n",
       "      <td>housemaid</td>\n",
       "      <td>married</td>\n",
       "      <td>basic.4y</td>\n",
       "      <td>no</td>\n",
       "      <td>no</td>\n",
       "      <td>telephone</td>\n",
       "      <td>may</td>\n",
       "      <td>mon</td>\n",
       "      <td>261</td>\n",
       "      <td>...</td>\n",
       "      <td>0</td>\n",
       "      <td>nonexistent</td>\n",
       "      <td>93.994</td>\n",
       "      <td>-36.4</td>\n",
       "      <td>no</td>\n",
       "      <td>[1, 15)</td>\n",
       "      <td>[54, 67)</td>\n",
       "      <td>1</td>\n",
       "      <td>basica</td>\n",
       "      <td>1</td>\n",
       "    </tr>\n",
       "    <tr>\n",
       "      <th>1</th>\n",
       "      <td>57</td>\n",
       "      <td>services</td>\n",
       "      <td>married</td>\n",
       "      <td>high.school</td>\n",
       "      <td>no</td>\n",
       "      <td>no</td>\n",
       "      <td>telephone</td>\n",
       "      <td>may</td>\n",
       "      <td>mon</td>\n",
       "      <td>149</td>\n",
       "      <td>...</td>\n",
       "      <td>0</td>\n",
       "      <td>nonexistent</td>\n",
       "      <td>93.994</td>\n",
       "      <td>-36.4</td>\n",
       "      <td>no</td>\n",
       "      <td>[1, 15)</td>\n",
       "      <td>[54, 67)</td>\n",
       "      <td>1</td>\n",
       "      <td>bachillerato</td>\n",
       "      <td>1</td>\n",
       "    </tr>\n",
       "    <tr>\n",
       "      <th>2</th>\n",
       "      <td>37</td>\n",
       "      <td>services</td>\n",
       "      <td>married</td>\n",
       "      <td>high.school</td>\n",
       "      <td>yes</td>\n",
       "      <td>no</td>\n",
       "      <td>telephone</td>\n",
       "      <td>may</td>\n",
       "      <td>mon</td>\n",
       "      <td>226</td>\n",
       "      <td>...</td>\n",
       "      <td>0</td>\n",
       "      <td>nonexistent</td>\n",
       "      <td>93.994</td>\n",
       "      <td>-36.4</td>\n",
       "      <td>no</td>\n",
       "      <td>[1, 15)</td>\n",
       "      <td>[28, 41)</td>\n",
       "      <td>1</td>\n",
       "      <td>bachillerato</td>\n",
       "      <td>1</td>\n",
       "    </tr>\n",
       "    <tr>\n",
       "      <th>3</th>\n",
       "      <td>40</td>\n",
       "      <td>admin.</td>\n",
       "      <td>married</td>\n",
       "      <td>basic.6y</td>\n",
       "      <td>no</td>\n",
       "      <td>no</td>\n",
       "      <td>telephone</td>\n",
       "      <td>may</td>\n",
       "      <td>mon</td>\n",
       "      <td>151</td>\n",
       "      <td>...</td>\n",
       "      <td>0</td>\n",
       "      <td>nonexistent</td>\n",
       "      <td>93.994</td>\n",
       "      <td>-36.4</td>\n",
       "      <td>no</td>\n",
       "      <td>[1, 15)</td>\n",
       "      <td>[28, 41)</td>\n",
       "      <td>1</td>\n",
       "      <td>basica</td>\n",
       "      <td>1</td>\n",
       "    </tr>\n",
       "    <tr>\n",
       "      <th>4</th>\n",
       "      <td>56</td>\n",
       "      <td>services</td>\n",
       "      <td>married</td>\n",
       "      <td>high.school</td>\n",
       "      <td>no</td>\n",
       "      <td>yes</td>\n",
       "      <td>telephone</td>\n",
       "      <td>may</td>\n",
       "      <td>mon</td>\n",
       "      <td>307</td>\n",
       "      <td>...</td>\n",
       "      <td>0</td>\n",
       "      <td>nonexistent</td>\n",
       "      <td>93.994</td>\n",
       "      <td>-36.4</td>\n",
       "      <td>no</td>\n",
       "      <td>[1, 15)</td>\n",
       "      <td>[54, 67)</td>\n",
       "      <td>1</td>\n",
       "      <td>bachillerato</td>\n",
       "      <td>1</td>\n",
       "    </tr>\n",
       "    <tr>\n",
       "      <th>...</th>\n",
       "      <td>...</td>\n",
       "      <td>...</td>\n",
       "      <td>...</td>\n",
       "      <td>...</td>\n",
       "      <td>...</td>\n",
       "      <td>...</td>\n",
       "      <td>...</td>\n",
       "      <td>...</td>\n",
       "      <td>...</td>\n",
       "      <td>...</td>\n",
       "      <td>...</td>\n",
       "      <td>...</td>\n",
       "      <td>...</td>\n",
       "      <td>...</td>\n",
       "      <td>...</td>\n",
       "      <td>...</td>\n",
       "      <td>...</td>\n",
       "      <td>...</td>\n",
       "      <td>...</td>\n",
       "      <td>...</td>\n",
       "      <td>...</td>\n",
       "    </tr>\n",
       "    <tr>\n",
       "      <th>41167</th>\n",
       "      <td>73</td>\n",
       "      <td>retired</td>\n",
       "      <td>married</td>\n",
       "      <td>professional.course</td>\n",
       "      <td>yes</td>\n",
       "      <td>no</td>\n",
       "      <td>cellular</td>\n",
       "      <td>nov</td>\n",
       "      <td>fri</td>\n",
       "      <td>334</td>\n",
       "      <td>...</td>\n",
       "      <td>0</td>\n",
       "      <td>nonexistent</td>\n",
       "      <td>94.767</td>\n",
       "      <td>-50.8</td>\n",
       "      <td>yes</td>\n",
       "      <td>[1, 15)</td>\n",
       "      <td>[67, 80)</td>\n",
       "      <td>1</td>\n",
       "      <td>profesional</td>\n",
       "      <td>1</td>\n",
       "    </tr>\n",
       "    <tr>\n",
       "      <th>41168</th>\n",
       "      <td>46</td>\n",
       "      <td>blue-collar</td>\n",
       "      <td>married</td>\n",
       "      <td>professional.course</td>\n",
       "      <td>no</td>\n",
       "      <td>no</td>\n",
       "      <td>cellular</td>\n",
       "      <td>nov</td>\n",
       "      <td>fri</td>\n",
       "      <td>383</td>\n",
       "      <td>...</td>\n",
       "      <td>0</td>\n",
       "      <td>nonexistent</td>\n",
       "      <td>94.767</td>\n",
       "      <td>-50.8</td>\n",
       "      <td>no</td>\n",
       "      <td>[1, 15)</td>\n",
       "      <td>[41, 54)</td>\n",
       "      <td>1</td>\n",
       "      <td>profesional</td>\n",
       "      <td>1</td>\n",
       "    </tr>\n",
       "    <tr>\n",
       "      <th>41169</th>\n",
       "      <td>56</td>\n",
       "      <td>retired</td>\n",
       "      <td>married</td>\n",
       "      <td>university.degree</td>\n",
       "      <td>yes</td>\n",
       "      <td>no</td>\n",
       "      <td>cellular</td>\n",
       "      <td>nov</td>\n",
       "      <td>fri</td>\n",
       "      <td>189</td>\n",
       "      <td>...</td>\n",
       "      <td>0</td>\n",
       "      <td>nonexistent</td>\n",
       "      <td>94.767</td>\n",
       "      <td>-50.8</td>\n",
       "      <td>NaN</td>\n",
       "      <td>[1, 15)</td>\n",
       "      <td>[54, 67)</td>\n",
       "      <td>1</td>\n",
       "      <td>profesional</td>\n",
       "      <td>1</td>\n",
       "    </tr>\n",
       "    <tr>\n",
       "      <th>41170</th>\n",
       "      <td>44</td>\n",
       "      <td>technician</td>\n",
       "      <td>married</td>\n",
       "      <td>professional.course</td>\n",
       "      <td>no</td>\n",
       "      <td>no</td>\n",
       "      <td>cellular</td>\n",
       "      <td>nov</td>\n",
       "      <td>fri</td>\n",
       "      <td>442</td>\n",
       "      <td>...</td>\n",
       "      <td>0</td>\n",
       "      <td>nonexistent</td>\n",
       "      <td>94.767</td>\n",
       "      <td>-50.8</td>\n",
       "      <td>NaN</td>\n",
       "      <td>[1, 15)</td>\n",
       "      <td>[41, 54)</td>\n",
       "      <td>1</td>\n",
       "      <td>profesional</td>\n",
       "      <td>1</td>\n",
       "    </tr>\n",
       "    <tr>\n",
       "      <th>41171</th>\n",
       "      <td>74</td>\n",
       "      <td>retired</td>\n",
       "      <td>married</td>\n",
       "      <td>professional.course</td>\n",
       "      <td>yes</td>\n",
       "      <td>no</td>\n",
       "      <td>cellular</td>\n",
       "      <td>nov</td>\n",
       "      <td>fri</td>\n",
       "      <td>239</td>\n",
       "      <td>...</td>\n",
       "      <td>1</td>\n",
       "      <td>failure</td>\n",
       "      <td>94.767</td>\n",
       "      <td>-50.8</td>\n",
       "      <td>NaN</td>\n",
       "      <td>[1, 15)</td>\n",
       "      <td>[67, 80)</td>\n",
       "      <td>1</td>\n",
       "      <td>profesional</td>\n",
       "      <td>0</td>\n",
       "    </tr>\n",
       "  </tbody>\n",
       "</table>\n",
       "<p>41172 rows × 21 columns</p>\n",
       "</div>"
      ],
      "text/plain": [
       "       age          job  marital            education housing loan    contact  \\\n",
       "0       56    housemaid  married             basic.4y      no   no  telephone   \n",
       "1       57     services  married          high.school      no   no  telephone   \n",
       "2       37     services  married          high.school     yes   no  telephone   \n",
       "3       40       admin.  married             basic.6y      no   no  telephone   \n",
       "4       56     services  married          high.school      no  yes  telephone   \n",
       "...    ...          ...      ...                  ...     ...  ...        ...   \n",
       "41167   73      retired  married  professional.course     yes   no   cellular   \n",
       "41168   46  blue-collar  married  professional.course      no   no   cellular   \n",
       "41169   56      retired  married    university.degree     yes   no   cellular   \n",
       "41170   44   technician  married  professional.course      no   no   cellular   \n",
       "41171   74      retired  married  professional.course     yes   no   cellular   \n",
       "\n",
       "      month day_of_week  duration  ... previous     poutcome cons.price.idx  \\\n",
       "0       may         mon       261  ...        0  nonexistent         93.994   \n",
       "1       may         mon       149  ...        0  nonexistent         93.994   \n",
       "2       may         mon       226  ...        0  nonexistent         93.994   \n",
       "3       may         mon       151  ...        0  nonexistent         93.994   \n",
       "4       may         mon       307  ...        0  nonexistent         93.994   \n",
       "...     ...         ...       ...  ...      ...          ...            ...   \n",
       "41167   nov         fri       334  ...        0  nonexistent         94.767   \n",
       "41168   nov         fri       383  ...        0  nonexistent         94.767   \n",
       "41169   nov         fri       189  ...        0  nonexistent         94.767   \n",
       "41170   nov         fri       442  ...        0  nonexistent         94.767   \n",
       "41171   nov         fri       239  ...        1      failure         94.767   \n",
       "\n",
       "       cons.conf.idx  subscribed campaign_bins age_range Income        niv_ed  \\\n",
       "0              -36.4          no       [1, 15)  [54, 67)      1        basica   \n",
       "1              -36.4          no       [1, 15)  [54, 67)      1  bachillerato   \n",
       "2              -36.4          no       [1, 15)  [28, 41)      1  bachillerato   \n",
       "3              -36.4          no       [1, 15)  [28, 41)      1        basica   \n",
       "4              -36.4          no       [1, 15)  [54, 67)      1  bachillerato   \n",
       "...              ...         ...           ...       ...    ...           ...   \n",
       "41167          -50.8         yes       [1, 15)  [67, 80)      1   profesional   \n",
       "41168          -50.8          no       [1, 15)  [41, 54)      1   profesional   \n",
       "41169          -50.8         NaN       [1, 15)  [54, 67)      1   profesional   \n",
       "41170          -50.8         NaN       [1, 15)  [41, 54)      1   profesional   \n",
       "41171          -50.8         NaN       [1, 15)  [67, 80)      1   profesional   \n",
       "\n",
       "      first_contact  \n",
       "0                 1  \n",
       "1                 1  \n",
       "2                 1  \n",
       "3                 1  \n",
       "4                 1  \n",
       "...             ...  \n",
       "41167             1  \n",
       "41168             1  \n",
       "41169             1  \n",
       "41170             1  \n",
       "41171             0  \n",
       "\n",
       "[41172 rows x 21 columns]"
      ]
     },
     "execution_count": 418,
     "metadata": {},
     "output_type": "execute_result"
    }
   ],
   "source": [
    "df"
   ]
  },
  {
   "cell_type": "markdown",
   "metadata": {},
   "source": [
    "marital - one hot solo 3 categorias\n",
    "housing -one hot solo 2 categorias\n",
    "loan -one hot solo 2 cat\n",
    "contact- soloo 2 cat\n",
    "month -10 categorias\n",
    "day_of_week - 5 categorias\n",
    "campain_bins -4 categorias\n",
    "previous - 8 categorias\n",
    "poutcome - 3 categorias\n",
    "subscribed - label encoder\n"
   ]
  },
  {
   "cell_type": "code",
   "execution_count": 419,
   "metadata": {},
   "outputs": [
    {
     "name": "stdout",
     "output_type": "stream",
     "text": [
      "<class 'pandas.core.frame.DataFrame'>\n",
      "RangeIndex: 41172 entries, 0 to 41171\n",
      "Data columns (total 21 columns):\n",
      " #   Column          Non-Null Count  Dtype   \n",
      "---  ------          --------------  -----   \n",
      " 0   age             41172 non-null  int64   \n",
      " 1   job             41172 non-null  category\n",
      " 2   marital         41172 non-null  category\n",
      " 3   education       41172 non-null  category\n",
      " 4   housing         41172 non-null  category\n",
      " 5   loan            41172 non-null  category\n",
      " 6   contact         41172 non-null  category\n",
      " 7   month           41172 non-null  category\n",
      " 8   day_of_week     41172 non-null  category\n",
      " 9   duration        41172 non-null  int64   \n",
      " 10  campaign        41172 non-null  category\n",
      " 11  previous        41172 non-null  category\n",
      " 12  poutcome        41172 non-null  category\n",
      " 13  cons.price.idx  41172 non-null  float64 \n",
      " 14  cons.conf.idx   41172 non-null  float64 \n",
      " 15  subscribed      41169 non-null  category\n",
      " 16  campaign_bins   41172 non-null  category\n",
      " 17  age_range       41172 non-null  category\n",
      " 18  Income          41172 non-null  category\n",
      " 19  niv_ed          41172 non-null  category\n",
      " 20  first_contact   41172 non-null  int64   \n",
      "dtypes: category(16), float64(2), int64(3)\n",
      "memory usage: 2.2 MB\n"
     ]
    }
   ],
   "source": [
    "df.info()"
   ]
  },
  {
   "cell_type": "code",
   "execution_count": 420,
   "metadata": {},
   "outputs": [
    {
     "data": {
      "text/plain": [
       "Index(['job', 'marital', 'education', 'housing', 'loan', 'contact', 'month',\n",
       "       'day_of_week', 'campaign', 'previous', 'poutcome', 'subscribed',\n",
       "       'campaign_bins', 'age_range', 'Income', 'niv_ed'],\n",
       "      dtype='object')"
      ]
     },
     "execution_count": 420,
     "metadata": {},
     "output_type": "execute_result"
    }
   ],
   "source": [
    "df.select_dtypes(include='category', exclude=None).columns"
   ]
  },
  {
   "cell_type": "markdown",
   "metadata": {},
   "source": [
    "Guardando el dataset limpio"
   ]
  },
  {
   "cell_type": "code",
   "execution_count": 421,
   "metadata": {},
   "outputs": [],
   "source": [
    "df.to_csv(\"../data/interim/bank_clean.csv\")"
   ]
  },
  {
   "cell_type": "code",
   "execution_count": 422,
   "metadata": {},
   "outputs": [],
   "source": [
    "df_encoded=df.copy()\n"
   ]
  },
  {
   "cell_type": "code",
   "execution_count": 423,
   "metadata": {},
   "outputs": [
    {
     "data": {
      "text/html": [
       "<div>\n",
       "<style scoped>\n",
       "    .dataframe tbody tr th:only-of-type {\n",
       "        vertical-align: middle;\n",
       "    }\n",
       "\n",
       "    .dataframe tbody tr th {\n",
       "        vertical-align: top;\n",
       "    }\n",
       "\n",
       "    .dataframe thead th {\n",
       "        text-align: right;\n",
       "    }\n",
       "</style>\n",
       "<table border=\"1\" class=\"dataframe\">\n",
       "  <thead>\n",
       "    <tr style=\"text-align: right;\">\n",
       "      <th></th>\n",
       "      <th>age</th>\n",
       "      <th>job</th>\n",
       "      <th>marital</th>\n",
       "      <th>education</th>\n",
       "      <th>housing</th>\n",
       "      <th>loan</th>\n",
       "      <th>contact</th>\n",
       "      <th>month</th>\n",
       "      <th>day_of_week</th>\n",
       "      <th>duration</th>\n",
       "      <th>...</th>\n",
       "      <th>previous</th>\n",
       "      <th>poutcome</th>\n",
       "      <th>cons.price.idx</th>\n",
       "      <th>cons.conf.idx</th>\n",
       "      <th>subscribed</th>\n",
       "      <th>campaign_bins</th>\n",
       "      <th>age_range</th>\n",
       "      <th>Income</th>\n",
       "      <th>niv_ed</th>\n",
       "      <th>first_contact</th>\n",
       "    </tr>\n",
       "  </thead>\n",
       "  <tbody>\n",
       "    <tr>\n",
       "      <th>0</th>\n",
       "      <td>56</td>\n",
       "      <td>housemaid</td>\n",
       "      <td>married</td>\n",
       "      <td>basic.4y</td>\n",
       "      <td>no</td>\n",
       "      <td>no</td>\n",
       "      <td>telephone</td>\n",
       "      <td>may</td>\n",
       "      <td>mon</td>\n",
       "      <td>261</td>\n",
       "      <td>...</td>\n",
       "      <td>0</td>\n",
       "      <td>nonexistent</td>\n",
       "      <td>93.994</td>\n",
       "      <td>-36.4</td>\n",
       "      <td>no</td>\n",
       "      <td>[1, 15)</td>\n",
       "      <td>[54, 67)</td>\n",
       "      <td>1</td>\n",
       "      <td>basica</td>\n",
       "      <td>1</td>\n",
       "    </tr>\n",
       "    <tr>\n",
       "      <th>1</th>\n",
       "      <td>57</td>\n",
       "      <td>services</td>\n",
       "      <td>married</td>\n",
       "      <td>high.school</td>\n",
       "      <td>no</td>\n",
       "      <td>no</td>\n",
       "      <td>telephone</td>\n",
       "      <td>may</td>\n",
       "      <td>mon</td>\n",
       "      <td>149</td>\n",
       "      <td>...</td>\n",
       "      <td>0</td>\n",
       "      <td>nonexistent</td>\n",
       "      <td>93.994</td>\n",
       "      <td>-36.4</td>\n",
       "      <td>no</td>\n",
       "      <td>[1, 15)</td>\n",
       "      <td>[54, 67)</td>\n",
       "      <td>1</td>\n",
       "      <td>bachillerato</td>\n",
       "      <td>1</td>\n",
       "    </tr>\n",
       "    <tr>\n",
       "      <th>2</th>\n",
       "      <td>37</td>\n",
       "      <td>services</td>\n",
       "      <td>married</td>\n",
       "      <td>high.school</td>\n",
       "      <td>yes</td>\n",
       "      <td>no</td>\n",
       "      <td>telephone</td>\n",
       "      <td>may</td>\n",
       "      <td>mon</td>\n",
       "      <td>226</td>\n",
       "      <td>...</td>\n",
       "      <td>0</td>\n",
       "      <td>nonexistent</td>\n",
       "      <td>93.994</td>\n",
       "      <td>-36.4</td>\n",
       "      <td>no</td>\n",
       "      <td>[1, 15)</td>\n",
       "      <td>[28, 41)</td>\n",
       "      <td>1</td>\n",
       "      <td>bachillerato</td>\n",
       "      <td>1</td>\n",
       "    </tr>\n",
       "    <tr>\n",
       "      <th>3</th>\n",
       "      <td>40</td>\n",
       "      <td>admin.</td>\n",
       "      <td>married</td>\n",
       "      <td>basic.6y</td>\n",
       "      <td>no</td>\n",
       "      <td>no</td>\n",
       "      <td>telephone</td>\n",
       "      <td>may</td>\n",
       "      <td>mon</td>\n",
       "      <td>151</td>\n",
       "      <td>...</td>\n",
       "      <td>0</td>\n",
       "      <td>nonexistent</td>\n",
       "      <td>93.994</td>\n",
       "      <td>-36.4</td>\n",
       "      <td>no</td>\n",
       "      <td>[1, 15)</td>\n",
       "      <td>[28, 41)</td>\n",
       "      <td>1</td>\n",
       "      <td>basica</td>\n",
       "      <td>1</td>\n",
       "    </tr>\n",
       "    <tr>\n",
       "      <th>4</th>\n",
       "      <td>56</td>\n",
       "      <td>services</td>\n",
       "      <td>married</td>\n",
       "      <td>high.school</td>\n",
       "      <td>no</td>\n",
       "      <td>yes</td>\n",
       "      <td>telephone</td>\n",
       "      <td>may</td>\n",
       "      <td>mon</td>\n",
       "      <td>307</td>\n",
       "      <td>...</td>\n",
       "      <td>0</td>\n",
       "      <td>nonexistent</td>\n",
       "      <td>93.994</td>\n",
       "      <td>-36.4</td>\n",
       "      <td>no</td>\n",
       "      <td>[1, 15)</td>\n",
       "      <td>[54, 67)</td>\n",
       "      <td>1</td>\n",
       "      <td>bachillerato</td>\n",
       "      <td>1</td>\n",
       "    </tr>\n",
       "    <tr>\n",
       "      <th>...</th>\n",
       "      <td>...</td>\n",
       "      <td>...</td>\n",
       "      <td>...</td>\n",
       "      <td>...</td>\n",
       "      <td>...</td>\n",
       "      <td>...</td>\n",
       "      <td>...</td>\n",
       "      <td>...</td>\n",
       "      <td>...</td>\n",
       "      <td>...</td>\n",
       "      <td>...</td>\n",
       "      <td>...</td>\n",
       "      <td>...</td>\n",
       "      <td>...</td>\n",
       "      <td>...</td>\n",
       "      <td>...</td>\n",
       "      <td>...</td>\n",
       "      <td>...</td>\n",
       "      <td>...</td>\n",
       "      <td>...</td>\n",
       "      <td>...</td>\n",
       "    </tr>\n",
       "    <tr>\n",
       "      <th>41167</th>\n",
       "      <td>73</td>\n",
       "      <td>retired</td>\n",
       "      <td>married</td>\n",
       "      <td>professional.course</td>\n",
       "      <td>yes</td>\n",
       "      <td>no</td>\n",
       "      <td>cellular</td>\n",
       "      <td>nov</td>\n",
       "      <td>fri</td>\n",
       "      <td>334</td>\n",
       "      <td>...</td>\n",
       "      <td>0</td>\n",
       "      <td>nonexistent</td>\n",
       "      <td>94.767</td>\n",
       "      <td>-50.8</td>\n",
       "      <td>yes</td>\n",
       "      <td>[1, 15)</td>\n",
       "      <td>[67, 80)</td>\n",
       "      <td>1</td>\n",
       "      <td>profesional</td>\n",
       "      <td>1</td>\n",
       "    </tr>\n",
       "    <tr>\n",
       "      <th>41168</th>\n",
       "      <td>46</td>\n",
       "      <td>blue-collar</td>\n",
       "      <td>married</td>\n",
       "      <td>professional.course</td>\n",
       "      <td>no</td>\n",
       "      <td>no</td>\n",
       "      <td>cellular</td>\n",
       "      <td>nov</td>\n",
       "      <td>fri</td>\n",
       "      <td>383</td>\n",
       "      <td>...</td>\n",
       "      <td>0</td>\n",
       "      <td>nonexistent</td>\n",
       "      <td>94.767</td>\n",
       "      <td>-50.8</td>\n",
       "      <td>no</td>\n",
       "      <td>[1, 15)</td>\n",
       "      <td>[41, 54)</td>\n",
       "      <td>1</td>\n",
       "      <td>profesional</td>\n",
       "      <td>1</td>\n",
       "    </tr>\n",
       "    <tr>\n",
       "      <th>41169</th>\n",
       "      <td>56</td>\n",
       "      <td>retired</td>\n",
       "      <td>married</td>\n",
       "      <td>university.degree</td>\n",
       "      <td>yes</td>\n",
       "      <td>no</td>\n",
       "      <td>cellular</td>\n",
       "      <td>nov</td>\n",
       "      <td>fri</td>\n",
       "      <td>189</td>\n",
       "      <td>...</td>\n",
       "      <td>0</td>\n",
       "      <td>nonexistent</td>\n",
       "      <td>94.767</td>\n",
       "      <td>-50.8</td>\n",
       "      <td>NaN</td>\n",
       "      <td>[1, 15)</td>\n",
       "      <td>[54, 67)</td>\n",
       "      <td>1</td>\n",
       "      <td>profesional</td>\n",
       "      <td>1</td>\n",
       "    </tr>\n",
       "    <tr>\n",
       "      <th>41170</th>\n",
       "      <td>44</td>\n",
       "      <td>technician</td>\n",
       "      <td>married</td>\n",
       "      <td>professional.course</td>\n",
       "      <td>no</td>\n",
       "      <td>no</td>\n",
       "      <td>cellular</td>\n",
       "      <td>nov</td>\n",
       "      <td>fri</td>\n",
       "      <td>442</td>\n",
       "      <td>...</td>\n",
       "      <td>0</td>\n",
       "      <td>nonexistent</td>\n",
       "      <td>94.767</td>\n",
       "      <td>-50.8</td>\n",
       "      <td>NaN</td>\n",
       "      <td>[1, 15)</td>\n",
       "      <td>[41, 54)</td>\n",
       "      <td>1</td>\n",
       "      <td>profesional</td>\n",
       "      <td>1</td>\n",
       "    </tr>\n",
       "    <tr>\n",
       "      <th>41171</th>\n",
       "      <td>74</td>\n",
       "      <td>retired</td>\n",
       "      <td>married</td>\n",
       "      <td>professional.course</td>\n",
       "      <td>yes</td>\n",
       "      <td>no</td>\n",
       "      <td>cellular</td>\n",
       "      <td>nov</td>\n",
       "      <td>fri</td>\n",
       "      <td>239</td>\n",
       "      <td>...</td>\n",
       "      <td>1</td>\n",
       "      <td>failure</td>\n",
       "      <td>94.767</td>\n",
       "      <td>-50.8</td>\n",
       "      <td>NaN</td>\n",
       "      <td>[1, 15)</td>\n",
       "      <td>[67, 80)</td>\n",
       "      <td>1</td>\n",
       "      <td>profesional</td>\n",
       "      <td>0</td>\n",
       "    </tr>\n",
       "  </tbody>\n",
       "</table>\n",
       "<p>41172 rows × 21 columns</p>\n",
       "</div>"
      ],
      "text/plain": [
       "       age          job  marital            education housing loan    contact  \\\n",
       "0       56    housemaid  married             basic.4y      no   no  telephone   \n",
       "1       57     services  married          high.school      no   no  telephone   \n",
       "2       37     services  married          high.school     yes   no  telephone   \n",
       "3       40       admin.  married             basic.6y      no   no  telephone   \n",
       "4       56     services  married          high.school      no  yes  telephone   \n",
       "...    ...          ...      ...                  ...     ...  ...        ...   \n",
       "41167   73      retired  married  professional.course     yes   no   cellular   \n",
       "41168   46  blue-collar  married  professional.course      no   no   cellular   \n",
       "41169   56      retired  married    university.degree     yes   no   cellular   \n",
       "41170   44   technician  married  professional.course      no   no   cellular   \n",
       "41171   74      retired  married  professional.course     yes   no   cellular   \n",
       "\n",
       "      month day_of_week  duration  ... previous     poutcome cons.price.idx  \\\n",
       "0       may         mon       261  ...        0  nonexistent         93.994   \n",
       "1       may         mon       149  ...        0  nonexistent         93.994   \n",
       "2       may         mon       226  ...        0  nonexistent         93.994   \n",
       "3       may         mon       151  ...        0  nonexistent         93.994   \n",
       "4       may         mon       307  ...        0  nonexistent         93.994   \n",
       "...     ...         ...       ...  ...      ...          ...            ...   \n",
       "41167   nov         fri       334  ...        0  nonexistent         94.767   \n",
       "41168   nov         fri       383  ...        0  nonexistent         94.767   \n",
       "41169   nov         fri       189  ...        0  nonexistent         94.767   \n",
       "41170   nov         fri       442  ...        0  nonexistent         94.767   \n",
       "41171   nov         fri       239  ...        1      failure         94.767   \n",
       "\n",
       "       cons.conf.idx  subscribed campaign_bins age_range Income        niv_ed  \\\n",
       "0              -36.4          no       [1, 15)  [54, 67)      1        basica   \n",
       "1              -36.4          no       [1, 15)  [54, 67)      1  bachillerato   \n",
       "2              -36.4          no       [1, 15)  [28, 41)      1  bachillerato   \n",
       "3              -36.4          no       [1, 15)  [28, 41)      1        basica   \n",
       "4              -36.4          no       [1, 15)  [54, 67)      1  bachillerato   \n",
       "...              ...         ...           ...       ...    ...           ...   \n",
       "41167          -50.8         yes       [1, 15)  [67, 80)      1   profesional   \n",
       "41168          -50.8          no       [1, 15)  [41, 54)      1   profesional   \n",
       "41169          -50.8         NaN       [1, 15)  [54, 67)      1   profesional   \n",
       "41170          -50.8         NaN       [1, 15)  [41, 54)      1   profesional   \n",
       "41171          -50.8         NaN       [1, 15)  [67, 80)      1   profesional   \n",
       "\n",
       "      first_contact  \n",
       "0                 1  \n",
       "1                 1  \n",
       "2                 1  \n",
       "3                 1  \n",
       "4                 1  \n",
       "...             ...  \n",
       "41167             1  \n",
       "41168             1  \n",
       "41169             1  \n",
       "41170             1  \n",
       "41171             0  \n",
       "\n",
       "[41172 rows x 21 columns]"
      ]
     },
     "execution_count": 423,
     "metadata": {},
     "output_type": "execute_result"
    }
   ],
   "source": [
    "df_encoded"
   ]
  },
  {
   "cell_type": "markdown",
   "metadata": {},
   "source": [
    "Aplicando label encoder a las variables para poder realizar un test como el chi cuadrado."
   ]
  },
  {
   "cell_type": "code",
   "execution_count": 424,
   "metadata": {},
   "outputs": [],
   "source": [
    "label_encoder = LabelEncoder()\n",
    "for i in (df_encoded.select_dtypes(include='category', exclude=None).columns):\n",
    "    df_encoded[i] = label_encoder.fit_transform(df_encoded[i])"
   ]
  },
  {
   "cell_type": "code",
   "execution_count": 425,
   "metadata": {},
   "outputs": [],
   "source": [
    "df_encoded['subscribed'].replace(2,np.nan,inplace=True)"
   ]
  },
  {
   "cell_type": "code",
   "execution_count": 426,
   "metadata": {},
   "outputs": [
    {
     "data": {
      "text/html": [
       "<div>\n",
       "<style scoped>\n",
       "    .dataframe tbody tr th:only-of-type {\n",
       "        vertical-align: middle;\n",
       "    }\n",
       "\n",
       "    .dataframe tbody tr th {\n",
       "        vertical-align: top;\n",
       "    }\n",
       "\n",
       "    .dataframe thead th {\n",
       "        text-align: right;\n",
       "    }\n",
       "</style>\n",
       "<table border=\"1\" class=\"dataframe\">\n",
       "  <thead>\n",
       "    <tr style=\"text-align: right;\">\n",
       "      <th></th>\n",
       "      <th>age</th>\n",
       "      <th>job</th>\n",
       "      <th>marital</th>\n",
       "      <th>education</th>\n",
       "      <th>housing</th>\n",
       "      <th>loan</th>\n",
       "      <th>contact</th>\n",
       "      <th>month</th>\n",
       "      <th>day_of_week</th>\n",
       "      <th>duration</th>\n",
       "      <th>...</th>\n",
       "      <th>previous</th>\n",
       "      <th>poutcome</th>\n",
       "      <th>cons.price.idx</th>\n",
       "      <th>cons.conf.idx</th>\n",
       "      <th>subscribed</th>\n",
       "      <th>campaign_bins</th>\n",
       "      <th>age_range</th>\n",
       "      <th>Income</th>\n",
       "      <th>niv_ed</th>\n",
       "      <th>first_contact</th>\n",
       "    </tr>\n",
       "  </thead>\n",
       "  <tbody>\n",
       "    <tr>\n",
       "      <th>0</th>\n",
       "      <td>56</td>\n",
       "      <td>3</td>\n",
       "      <td>1</td>\n",
       "      <td>0</td>\n",
       "      <td>0</td>\n",
       "      <td>0</td>\n",
       "      <td>1</td>\n",
       "      <td>6</td>\n",
       "      <td>1</td>\n",
       "      <td>261</td>\n",
       "      <td>...</td>\n",
       "      <td>0</td>\n",
       "      <td>1</td>\n",
       "      <td>93.994</td>\n",
       "      <td>-36.4</td>\n",
       "      <td>0.0</td>\n",
       "      <td>0</td>\n",
       "      <td>3</td>\n",
       "      <td>1</td>\n",
       "      <td>1</td>\n",
       "      <td>1</td>\n",
       "    </tr>\n",
       "    <tr>\n",
       "      <th>1</th>\n",
       "      <td>57</td>\n",
       "      <td>7</td>\n",
       "      <td>1</td>\n",
       "      <td>3</td>\n",
       "      <td>0</td>\n",
       "      <td>0</td>\n",
       "      <td>1</td>\n",
       "      <td>6</td>\n",
       "      <td>1</td>\n",
       "      <td>149</td>\n",
       "      <td>...</td>\n",
       "      <td>0</td>\n",
       "      <td>1</td>\n",
       "      <td>93.994</td>\n",
       "      <td>-36.4</td>\n",
       "      <td>0.0</td>\n",
       "      <td>0</td>\n",
       "      <td>3</td>\n",
       "      <td>1</td>\n",
       "      <td>0</td>\n",
       "      <td>1</td>\n",
       "    </tr>\n",
       "    <tr>\n",
       "      <th>2</th>\n",
       "      <td>37</td>\n",
       "      <td>7</td>\n",
       "      <td>1</td>\n",
       "      <td>3</td>\n",
       "      <td>1</td>\n",
       "      <td>0</td>\n",
       "      <td>1</td>\n",
       "      <td>6</td>\n",
       "      <td>1</td>\n",
       "      <td>226</td>\n",
       "      <td>...</td>\n",
       "      <td>0</td>\n",
       "      <td>1</td>\n",
       "      <td>93.994</td>\n",
       "      <td>-36.4</td>\n",
       "      <td>0.0</td>\n",
       "      <td>0</td>\n",
       "      <td>1</td>\n",
       "      <td>1</td>\n",
       "      <td>0</td>\n",
       "      <td>1</td>\n",
       "    </tr>\n",
       "    <tr>\n",
       "      <th>3</th>\n",
       "      <td>40</td>\n",
       "      <td>0</td>\n",
       "      <td>1</td>\n",
       "      <td>1</td>\n",
       "      <td>0</td>\n",
       "      <td>0</td>\n",
       "      <td>1</td>\n",
       "      <td>6</td>\n",
       "      <td>1</td>\n",
       "      <td>151</td>\n",
       "      <td>...</td>\n",
       "      <td>0</td>\n",
       "      <td>1</td>\n",
       "      <td>93.994</td>\n",
       "      <td>-36.4</td>\n",
       "      <td>0.0</td>\n",
       "      <td>0</td>\n",
       "      <td>1</td>\n",
       "      <td>1</td>\n",
       "      <td>1</td>\n",
       "      <td>1</td>\n",
       "    </tr>\n",
       "    <tr>\n",
       "      <th>4</th>\n",
       "      <td>56</td>\n",
       "      <td>7</td>\n",
       "      <td>1</td>\n",
       "      <td>3</td>\n",
       "      <td>0</td>\n",
       "      <td>1</td>\n",
       "      <td>1</td>\n",
       "      <td>6</td>\n",
       "      <td>1</td>\n",
       "      <td>307</td>\n",
       "      <td>...</td>\n",
       "      <td>0</td>\n",
       "      <td>1</td>\n",
       "      <td>93.994</td>\n",
       "      <td>-36.4</td>\n",
       "      <td>0.0</td>\n",
       "      <td>0</td>\n",
       "      <td>3</td>\n",
       "      <td>1</td>\n",
       "      <td>0</td>\n",
       "      <td>1</td>\n",
       "    </tr>\n",
       "    <tr>\n",
       "      <th>...</th>\n",
       "      <td>...</td>\n",
       "      <td>...</td>\n",
       "      <td>...</td>\n",
       "      <td>...</td>\n",
       "      <td>...</td>\n",
       "      <td>...</td>\n",
       "      <td>...</td>\n",
       "      <td>...</td>\n",
       "      <td>...</td>\n",
       "      <td>...</td>\n",
       "      <td>...</td>\n",
       "      <td>...</td>\n",
       "      <td>...</td>\n",
       "      <td>...</td>\n",
       "      <td>...</td>\n",
       "      <td>...</td>\n",
       "      <td>...</td>\n",
       "      <td>...</td>\n",
       "      <td>...</td>\n",
       "      <td>...</td>\n",
       "      <td>...</td>\n",
       "    </tr>\n",
       "    <tr>\n",
       "      <th>41167</th>\n",
       "      <td>73</td>\n",
       "      <td>5</td>\n",
       "      <td>1</td>\n",
       "      <td>5</td>\n",
       "      <td>1</td>\n",
       "      <td>0</td>\n",
       "      <td>0</td>\n",
       "      <td>7</td>\n",
       "      <td>0</td>\n",
       "      <td>334</td>\n",
       "      <td>...</td>\n",
       "      <td>0</td>\n",
       "      <td>1</td>\n",
       "      <td>94.767</td>\n",
       "      <td>-50.8</td>\n",
       "      <td>1.0</td>\n",
       "      <td>0</td>\n",
       "      <td>4</td>\n",
       "      <td>1</td>\n",
       "      <td>2</td>\n",
       "      <td>1</td>\n",
       "    </tr>\n",
       "    <tr>\n",
       "      <th>41168</th>\n",
       "      <td>46</td>\n",
       "      <td>1</td>\n",
       "      <td>1</td>\n",
       "      <td>5</td>\n",
       "      <td>0</td>\n",
       "      <td>0</td>\n",
       "      <td>0</td>\n",
       "      <td>7</td>\n",
       "      <td>0</td>\n",
       "      <td>383</td>\n",
       "      <td>...</td>\n",
       "      <td>0</td>\n",
       "      <td>1</td>\n",
       "      <td>94.767</td>\n",
       "      <td>-50.8</td>\n",
       "      <td>0.0</td>\n",
       "      <td>0</td>\n",
       "      <td>2</td>\n",
       "      <td>1</td>\n",
       "      <td>2</td>\n",
       "      <td>1</td>\n",
       "    </tr>\n",
       "    <tr>\n",
       "      <th>41169</th>\n",
       "      <td>56</td>\n",
       "      <td>5</td>\n",
       "      <td>1</td>\n",
       "      <td>6</td>\n",
       "      <td>1</td>\n",
       "      <td>0</td>\n",
       "      <td>0</td>\n",
       "      <td>7</td>\n",
       "      <td>0</td>\n",
       "      <td>189</td>\n",
       "      <td>...</td>\n",
       "      <td>0</td>\n",
       "      <td>1</td>\n",
       "      <td>94.767</td>\n",
       "      <td>-50.8</td>\n",
       "      <td>NaN</td>\n",
       "      <td>0</td>\n",
       "      <td>3</td>\n",
       "      <td>1</td>\n",
       "      <td>2</td>\n",
       "      <td>1</td>\n",
       "    </tr>\n",
       "    <tr>\n",
       "      <th>41170</th>\n",
       "      <td>44</td>\n",
       "      <td>9</td>\n",
       "      <td>1</td>\n",
       "      <td>5</td>\n",
       "      <td>0</td>\n",
       "      <td>0</td>\n",
       "      <td>0</td>\n",
       "      <td>7</td>\n",
       "      <td>0</td>\n",
       "      <td>442</td>\n",
       "      <td>...</td>\n",
       "      <td>0</td>\n",
       "      <td>1</td>\n",
       "      <td>94.767</td>\n",
       "      <td>-50.8</td>\n",
       "      <td>NaN</td>\n",
       "      <td>0</td>\n",
       "      <td>2</td>\n",
       "      <td>1</td>\n",
       "      <td>2</td>\n",
       "      <td>1</td>\n",
       "    </tr>\n",
       "    <tr>\n",
       "      <th>41171</th>\n",
       "      <td>74</td>\n",
       "      <td>5</td>\n",
       "      <td>1</td>\n",
       "      <td>5</td>\n",
       "      <td>1</td>\n",
       "      <td>0</td>\n",
       "      <td>0</td>\n",
       "      <td>7</td>\n",
       "      <td>0</td>\n",
       "      <td>239</td>\n",
       "      <td>...</td>\n",
       "      <td>1</td>\n",
       "      <td>0</td>\n",
       "      <td>94.767</td>\n",
       "      <td>-50.8</td>\n",
       "      <td>NaN</td>\n",
       "      <td>0</td>\n",
       "      <td>4</td>\n",
       "      <td>1</td>\n",
       "      <td>2</td>\n",
       "      <td>0</td>\n",
       "    </tr>\n",
       "  </tbody>\n",
       "</table>\n",
       "<p>41172 rows × 21 columns</p>\n",
       "</div>"
      ],
      "text/plain": [
       "       age  job  marital  education  housing  loan  contact  month  \\\n",
       "0       56    3        1          0        0     0        1      6   \n",
       "1       57    7        1          3        0     0        1      6   \n",
       "2       37    7        1          3        1     0        1      6   \n",
       "3       40    0        1          1        0     0        1      6   \n",
       "4       56    7        1          3        0     1        1      6   \n",
       "...    ...  ...      ...        ...      ...   ...      ...    ...   \n",
       "41167   73    5        1          5        1     0        0      7   \n",
       "41168   46    1        1          5        0     0        0      7   \n",
       "41169   56    5        1          6        1     0        0      7   \n",
       "41170   44    9        1          5        0     0        0      7   \n",
       "41171   74    5        1          5        1     0        0      7   \n",
       "\n",
       "       day_of_week  duration  ...  previous  poutcome  cons.price.idx  \\\n",
       "0                1       261  ...         0         1          93.994   \n",
       "1                1       149  ...         0         1          93.994   \n",
       "2                1       226  ...         0         1          93.994   \n",
       "3                1       151  ...         0         1          93.994   \n",
       "4                1       307  ...         0         1          93.994   \n",
       "...            ...       ...  ...       ...       ...             ...   \n",
       "41167            0       334  ...         0         1          94.767   \n",
       "41168            0       383  ...         0         1          94.767   \n",
       "41169            0       189  ...         0         1          94.767   \n",
       "41170            0       442  ...         0         1          94.767   \n",
       "41171            0       239  ...         1         0          94.767   \n",
       "\n",
       "       cons.conf.idx  subscribed  campaign_bins  age_range  Income  niv_ed  \\\n",
       "0              -36.4         0.0              0          3       1       1   \n",
       "1              -36.4         0.0              0          3       1       0   \n",
       "2              -36.4         0.0              0          1       1       0   \n",
       "3              -36.4         0.0              0          1       1       1   \n",
       "4              -36.4         0.0              0          3       1       0   \n",
       "...              ...         ...            ...        ...     ...     ...   \n",
       "41167          -50.8         1.0              0          4       1       2   \n",
       "41168          -50.8         0.0              0          2       1       2   \n",
       "41169          -50.8         NaN              0          3       1       2   \n",
       "41170          -50.8         NaN              0          2       1       2   \n",
       "41171          -50.8         NaN              0          4       1       2   \n",
       "\n",
       "       first_contact  \n",
       "0                  1  \n",
       "1                  1  \n",
       "2                  1  \n",
       "3                  1  \n",
       "4                  1  \n",
       "...              ...  \n",
       "41167              1  \n",
       "41168              1  \n",
       "41169              1  \n",
       "41170              1  \n",
       "41171              0  \n",
       "\n",
       "[41172 rows x 21 columns]"
      ]
     },
     "execution_count": 426,
     "metadata": {},
     "output_type": "execute_result"
    }
   ],
   "source": [
    "df_encoded"
   ]
  },
  {
   "cell_type": "markdown",
   "metadata": {},
   "source": [
    "## Análisis vibariado : Variables categoricas vs target\n",
    "Se usara el test chi cuadrado para contrastar las variables categoricas contra la variable target y determinar si existe una diferencia significativa entre los clientes que se suscribieron o no al servicio dependiendo de cada una de las caracteristicas categoricas que tenemos de la llamada.\n",
    "\n",
    "De esta manera podremos observar que datos deben ser mantenidos en el dataset y que datos no deben estarlo."
   ]
  },
  {
   "cell_type": "code",
   "execution_count": 427,
   "metadata": {},
   "outputs": [],
   "source": [
    "class ChiSquare:\n",
    "    def __init__(self, dataframe):\n",
    "        self.df = dataframe\n",
    "        self.p = None #P-Value\n",
    "        self.chi2 = None #Chi Test Statistic\n",
    "        self.dof = None\n",
    "        \n",
    "        self.dfObserved = None\n",
    "        self.dfExpected = None\n",
    "        \n",
    "    def _print_chisquare_result(self, colX, alpha):\n",
    "        result = \"\"\n",
    "        if self.p<alpha:\n",
    "            result=\"{0} es importante para predecir\".format(colX)\n",
    "        else:\n",
    "            result=\"{0} no es importante para predecir. (descartar {0} del modelo)\".format(colX)\n",
    "\n",
    "        print(result)\n",
    "        \n",
    "    def TestIndependence(self,colX,colY, alpha=0.05):\n",
    "        X = self.df[colX].astype(str)\n",
    "        Y = self.df[colY].astype(str)\n",
    "        \n",
    "        self.dfObserved = pd.crosstab(Y,X) \n",
    "        chi2, p, dof, expected = stats.chi2_contingency(self.dfObserved.values)\n",
    "        self.p = p\n",
    "        self.chi2 = chi2\n",
    "        self.dof = dof \n",
    "        \n",
    "        self.dfExpected = pd.DataFrame(expected, columns=self.dfObserved.columns, index =                                                       self.dfObserved.index)\n",
    "        \n",
    "        self._print_chisquare_result(colX,alpha)"
   ]
  },
  {
   "cell_type": "code",
   "execution_count": 428,
   "metadata": {},
   "outputs": [
    {
     "name": "stdout",
     "output_type": "stream",
     "text": [
      "<class 'pandas.core.frame.DataFrame'>\n",
      "RangeIndex: 41172 entries, 0 to 41171\n",
      "Data columns (total 21 columns):\n",
      " #   Column          Non-Null Count  Dtype  \n",
      "---  ------          --------------  -----  \n",
      " 0   age             41172 non-null  int64  \n",
      " 1   job             41172 non-null  int64  \n",
      " 2   marital         41172 non-null  int64  \n",
      " 3   education       41172 non-null  int64  \n",
      " 4   housing         41172 non-null  int64  \n",
      " 5   loan            41172 non-null  int64  \n",
      " 6   contact         41172 non-null  int64  \n",
      " 7   month           41172 non-null  int64  \n",
      " 8   day_of_week     41172 non-null  int64  \n",
      " 9   duration        41172 non-null  int64  \n",
      " 10  campaign        41172 non-null  int64  \n",
      " 11  previous        41172 non-null  int64  \n",
      " 12  poutcome        41172 non-null  int64  \n",
      " 13  cons.price.idx  41172 non-null  float64\n",
      " 14  cons.conf.idx   41172 non-null  float64\n",
      " 15  subscribed      41169 non-null  float64\n",
      " 16  campaign_bins   41172 non-null  int64  \n",
      " 17  age_range       41172 non-null  int64  \n",
      " 18  Income          41172 non-null  int64  \n",
      " 19  niv_ed          41172 non-null  int64  \n",
      " 20  first_contact   41172 non-null  int64  \n",
      "dtypes: float64(3), int64(18)\n",
      "memory usage: 6.6 MB\n"
     ]
    }
   ],
   "source": [
    "df_encoded.info()"
   ]
  },
  {
   "cell_type": "code",
   "execution_count": 429,
   "metadata": {},
   "outputs": [],
   "source": [
    "\n",
    "Chi_test= ChiSquare(df_encoded)\n"
   ]
  },
  {
   "cell_type": "code",
   "execution_count": 430,
   "metadata": {},
   "outputs": [
    {
     "data": {
      "text/plain": [
       "Index(['age', 'job', 'marital', 'education', 'housing', 'loan', 'contact',\n",
       "       'month', 'day_of_week', 'duration', 'campaign', 'previous', 'poutcome',\n",
       "       'cons.price.idx', 'cons.conf.idx', 'subscribed', 'campaign_bins',\n",
       "       'age_range', 'Income', 'niv_ed', 'first_contact'],\n",
       "      dtype='object')"
      ]
     },
     "execution_count": 430,
     "metadata": {},
     "output_type": "execute_result"
    }
   ],
   "source": [
    "df_encoded.columns"
   ]
  },
  {
   "cell_type": "markdown",
   "metadata": {},
   "source": [
    "Verificando segun el test chi2 que variables son relevantes y cuales no para la prediccion"
   ]
  },
  {
   "cell_type": "code",
   "execution_count": 431,
   "metadata": {},
   "outputs": [
    {
     "name": "stdout",
     "output_type": "stream",
     "text": [
      "marital es importante para predecir\n",
      "housing no es importante para predecir. (descartar housing del modelo)\n",
      "loan no es importante para predecir. (descartar loan del modelo)\n",
      "contact es importante para predecir\n",
      "month es importante para predecir\n",
      "day_of_week es importante para predecir\n",
      "previous es importante para predecir\n",
      "poutcome es importante para predecir\n",
      "subscribed es importante para predecir\n",
      "campaign_bins es importante para predecir\n",
      "Income es importante para predecir\n",
      "niv_ed es importante para predecir\n"
     ]
    }
   ],
   "source": [
    "cols_to_chi2=['marital', 'housing', 'loan', 'contact', 'month', 'day_of_week',\n",
    " 'previous', 'poutcome','subscribed', 'campaign_bins', 'Income', 'niv_ed']\n",
    "for var in cols_to_chi2:\n",
    "    Chi_test.TestIndependence(colX=var,colY='subscribed')"
   ]
  },
  {
   "cell_type": "markdown",
   "metadata": {},
   "source": [
    "Datos los resultados del test chi2 se optara por descartar las variables housing y loan debido a que no son variables que exhiban diferencias signifativas entre los suscritos y no suscritos al servicio por lo cual es probable que no aporten demasiada informacion al modelo y por el contrario afecten su desempeño.\n"
   ]
  },
  {
   "cell_type": "code",
   "execution_count": 432,
   "metadata": {},
   "outputs": [],
   "source": [
    "df_encoded.drop([\"housing\",'loan'],axis=1,inplace=True)\n",
    "df.drop([\"housing\",'loan'],axis=1,inplace=True)\n"
   ]
  },
  {
   "cell_type": "code",
   "execution_count": 433,
   "metadata": {},
   "outputs": [
    {
     "data": {
      "text/html": [
       "<div>\n",
       "<style scoped>\n",
       "    .dataframe tbody tr th:only-of-type {\n",
       "        vertical-align: middle;\n",
       "    }\n",
       "\n",
       "    .dataframe tbody tr th {\n",
       "        vertical-align: top;\n",
       "    }\n",
       "\n",
       "    .dataframe thead th {\n",
       "        text-align: right;\n",
       "    }\n",
       "</style>\n",
       "<table border=\"1\" class=\"dataframe\">\n",
       "  <thead>\n",
       "    <tr style=\"text-align: right;\">\n",
       "      <th></th>\n",
       "      <th>age</th>\n",
       "      <th>job</th>\n",
       "      <th>marital</th>\n",
       "      <th>education</th>\n",
       "      <th>contact</th>\n",
       "      <th>month</th>\n",
       "      <th>day_of_week</th>\n",
       "      <th>duration</th>\n",
       "      <th>campaign</th>\n",
       "      <th>previous</th>\n",
       "      <th>poutcome</th>\n",
       "      <th>cons.price.idx</th>\n",
       "      <th>cons.conf.idx</th>\n",
       "      <th>subscribed</th>\n",
       "      <th>campaign_bins</th>\n",
       "      <th>age_range</th>\n",
       "      <th>Income</th>\n",
       "      <th>niv_ed</th>\n",
       "      <th>first_contact</th>\n",
       "    </tr>\n",
       "  </thead>\n",
       "  <tbody>\n",
       "    <tr>\n",
       "      <th>0</th>\n",
       "      <td>56</td>\n",
       "      <td>3</td>\n",
       "      <td>1</td>\n",
       "      <td>0</td>\n",
       "      <td>1</td>\n",
       "      <td>6</td>\n",
       "      <td>1</td>\n",
       "      <td>261</td>\n",
       "      <td>0</td>\n",
       "      <td>0</td>\n",
       "      <td>1</td>\n",
       "      <td>93.994</td>\n",
       "      <td>-36.4</td>\n",
       "      <td>0.0</td>\n",
       "      <td>0</td>\n",
       "      <td>3</td>\n",
       "      <td>1</td>\n",
       "      <td>1</td>\n",
       "      <td>1</td>\n",
       "    </tr>\n",
       "    <tr>\n",
       "      <th>1</th>\n",
       "      <td>57</td>\n",
       "      <td>7</td>\n",
       "      <td>1</td>\n",
       "      <td>3</td>\n",
       "      <td>1</td>\n",
       "      <td>6</td>\n",
       "      <td>1</td>\n",
       "      <td>149</td>\n",
       "      <td>0</td>\n",
       "      <td>0</td>\n",
       "      <td>1</td>\n",
       "      <td>93.994</td>\n",
       "      <td>-36.4</td>\n",
       "      <td>0.0</td>\n",
       "      <td>0</td>\n",
       "      <td>3</td>\n",
       "      <td>1</td>\n",
       "      <td>0</td>\n",
       "      <td>1</td>\n",
       "    </tr>\n",
       "    <tr>\n",
       "      <th>2</th>\n",
       "      <td>37</td>\n",
       "      <td>7</td>\n",
       "      <td>1</td>\n",
       "      <td>3</td>\n",
       "      <td>1</td>\n",
       "      <td>6</td>\n",
       "      <td>1</td>\n",
       "      <td>226</td>\n",
       "      <td>0</td>\n",
       "      <td>0</td>\n",
       "      <td>1</td>\n",
       "      <td>93.994</td>\n",
       "      <td>-36.4</td>\n",
       "      <td>0.0</td>\n",
       "      <td>0</td>\n",
       "      <td>1</td>\n",
       "      <td>1</td>\n",
       "      <td>0</td>\n",
       "      <td>1</td>\n",
       "    </tr>\n",
       "    <tr>\n",
       "      <th>3</th>\n",
       "      <td>40</td>\n",
       "      <td>0</td>\n",
       "      <td>1</td>\n",
       "      <td>1</td>\n",
       "      <td>1</td>\n",
       "      <td>6</td>\n",
       "      <td>1</td>\n",
       "      <td>151</td>\n",
       "      <td>0</td>\n",
       "      <td>0</td>\n",
       "      <td>1</td>\n",
       "      <td>93.994</td>\n",
       "      <td>-36.4</td>\n",
       "      <td>0.0</td>\n",
       "      <td>0</td>\n",
       "      <td>1</td>\n",
       "      <td>1</td>\n",
       "      <td>1</td>\n",
       "      <td>1</td>\n",
       "    </tr>\n",
       "    <tr>\n",
       "      <th>4</th>\n",
       "      <td>56</td>\n",
       "      <td>7</td>\n",
       "      <td>1</td>\n",
       "      <td>3</td>\n",
       "      <td>1</td>\n",
       "      <td>6</td>\n",
       "      <td>1</td>\n",
       "      <td>307</td>\n",
       "      <td>0</td>\n",
       "      <td>0</td>\n",
       "      <td>1</td>\n",
       "      <td>93.994</td>\n",
       "      <td>-36.4</td>\n",
       "      <td>0.0</td>\n",
       "      <td>0</td>\n",
       "      <td>3</td>\n",
       "      <td>1</td>\n",
       "      <td>0</td>\n",
       "      <td>1</td>\n",
       "    </tr>\n",
       "    <tr>\n",
       "      <th>...</th>\n",
       "      <td>...</td>\n",
       "      <td>...</td>\n",
       "      <td>...</td>\n",
       "      <td>...</td>\n",
       "      <td>...</td>\n",
       "      <td>...</td>\n",
       "      <td>...</td>\n",
       "      <td>...</td>\n",
       "      <td>...</td>\n",
       "      <td>...</td>\n",
       "      <td>...</td>\n",
       "      <td>...</td>\n",
       "      <td>...</td>\n",
       "      <td>...</td>\n",
       "      <td>...</td>\n",
       "      <td>...</td>\n",
       "      <td>...</td>\n",
       "      <td>...</td>\n",
       "      <td>...</td>\n",
       "    </tr>\n",
       "    <tr>\n",
       "      <th>41167</th>\n",
       "      <td>73</td>\n",
       "      <td>5</td>\n",
       "      <td>1</td>\n",
       "      <td>5</td>\n",
       "      <td>0</td>\n",
       "      <td>7</td>\n",
       "      <td>0</td>\n",
       "      <td>334</td>\n",
       "      <td>0</td>\n",
       "      <td>0</td>\n",
       "      <td>1</td>\n",
       "      <td>94.767</td>\n",
       "      <td>-50.8</td>\n",
       "      <td>1.0</td>\n",
       "      <td>0</td>\n",
       "      <td>4</td>\n",
       "      <td>1</td>\n",
       "      <td>2</td>\n",
       "      <td>1</td>\n",
       "    </tr>\n",
       "    <tr>\n",
       "      <th>41168</th>\n",
       "      <td>46</td>\n",
       "      <td>1</td>\n",
       "      <td>1</td>\n",
       "      <td>5</td>\n",
       "      <td>0</td>\n",
       "      <td>7</td>\n",
       "      <td>0</td>\n",
       "      <td>383</td>\n",
       "      <td>0</td>\n",
       "      <td>0</td>\n",
       "      <td>1</td>\n",
       "      <td>94.767</td>\n",
       "      <td>-50.8</td>\n",
       "      <td>0.0</td>\n",
       "      <td>0</td>\n",
       "      <td>2</td>\n",
       "      <td>1</td>\n",
       "      <td>2</td>\n",
       "      <td>1</td>\n",
       "    </tr>\n",
       "    <tr>\n",
       "      <th>41169</th>\n",
       "      <td>56</td>\n",
       "      <td>5</td>\n",
       "      <td>1</td>\n",
       "      <td>6</td>\n",
       "      <td>0</td>\n",
       "      <td>7</td>\n",
       "      <td>0</td>\n",
       "      <td>189</td>\n",
       "      <td>1</td>\n",
       "      <td>0</td>\n",
       "      <td>1</td>\n",
       "      <td>94.767</td>\n",
       "      <td>-50.8</td>\n",
       "      <td>NaN</td>\n",
       "      <td>0</td>\n",
       "      <td>3</td>\n",
       "      <td>1</td>\n",
       "      <td>2</td>\n",
       "      <td>1</td>\n",
       "    </tr>\n",
       "    <tr>\n",
       "      <th>41170</th>\n",
       "      <td>44</td>\n",
       "      <td>9</td>\n",
       "      <td>1</td>\n",
       "      <td>5</td>\n",
       "      <td>0</td>\n",
       "      <td>7</td>\n",
       "      <td>0</td>\n",
       "      <td>442</td>\n",
       "      <td>0</td>\n",
       "      <td>0</td>\n",
       "      <td>1</td>\n",
       "      <td>94.767</td>\n",
       "      <td>-50.8</td>\n",
       "      <td>NaN</td>\n",
       "      <td>0</td>\n",
       "      <td>2</td>\n",
       "      <td>1</td>\n",
       "      <td>2</td>\n",
       "      <td>1</td>\n",
       "    </tr>\n",
       "    <tr>\n",
       "      <th>41171</th>\n",
       "      <td>74</td>\n",
       "      <td>5</td>\n",
       "      <td>1</td>\n",
       "      <td>5</td>\n",
       "      <td>0</td>\n",
       "      <td>7</td>\n",
       "      <td>0</td>\n",
       "      <td>239</td>\n",
       "      <td>2</td>\n",
       "      <td>1</td>\n",
       "      <td>0</td>\n",
       "      <td>94.767</td>\n",
       "      <td>-50.8</td>\n",
       "      <td>NaN</td>\n",
       "      <td>0</td>\n",
       "      <td>4</td>\n",
       "      <td>1</td>\n",
       "      <td>2</td>\n",
       "      <td>0</td>\n",
       "    </tr>\n",
       "  </tbody>\n",
       "</table>\n",
       "<p>41172 rows × 19 columns</p>\n",
       "</div>"
      ],
      "text/plain": [
       "       age  job  marital  education  contact  month  day_of_week  duration  \\\n",
       "0       56    3        1          0        1      6            1       261   \n",
       "1       57    7        1          3        1      6            1       149   \n",
       "2       37    7        1          3        1      6            1       226   \n",
       "3       40    0        1          1        1      6            1       151   \n",
       "4       56    7        1          3        1      6            1       307   \n",
       "...    ...  ...      ...        ...      ...    ...          ...       ...   \n",
       "41167   73    5        1          5        0      7            0       334   \n",
       "41168   46    1        1          5        0      7            0       383   \n",
       "41169   56    5        1          6        0      7            0       189   \n",
       "41170   44    9        1          5        0      7            0       442   \n",
       "41171   74    5        1          5        0      7            0       239   \n",
       "\n",
       "       campaign  previous  poutcome  cons.price.idx  cons.conf.idx  \\\n",
       "0             0         0         1          93.994          -36.4   \n",
       "1             0         0         1          93.994          -36.4   \n",
       "2             0         0         1          93.994          -36.4   \n",
       "3             0         0         1          93.994          -36.4   \n",
       "4             0         0         1          93.994          -36.4   \n",
       "...         ...       ...       ...             ...            ...   \n",
       "41167         0         0         1          94.767          -50.8   \n",
       "41168         0         0         1          94.767          -50.8   \n",
       "41169         1         0         1          94.767          -50.8   \n",
       "41170         0         0         1          94.767          -50.8   \n",
       "41171         2         1         0          94.767          -50.8   \n",
       "\n",
       "       subscribed  campaign_bins  age_range  Income  niv_ed  first_contact  \n",
       "0             0.0              0          3       1       1              1  \n",
       "1             0.0              0          3       1       0              1  \n",
       "2             0.0              0          1       1       0              1  \n",
       "3             0.0              0          1       1       1              1  \n",
       "4             0.0              0          3       1       0              1  \n",
       "...           ...            ...        ...     ...     ...            ...  \n",
       "41167         1.0              0          4       1       2              1  \n",
       "41168         0.0              0          2       1       2              1  \n",
       "41169         NaN              0          3       1       2              1  \n",
       "41170         NaN              0          2       1       2              1  \n",
       "41171         NaN              0          4       1       2              0  \n",
       "\n",
       "[41172 rows x 19 columns]"
      ]
     },
     "execution_count": 433,
     "metadata": {},
     "output_type": "execute_result"
    }
   ],
   "source": [
    "df_encoded"
   ]
  },
  {
   "cell_type": "markdown",
   "metadata": {},
   "source": [
    "## Analisis de variables numericas vs target"
   ]
  },
  {
   "cell_type": "code",
   "execution_count": 434,
   "metadata": {},
   "outputs": [
    {
     "data": {
      "application/vnd.plotly.v1+json": {
       "config": {
        "plotlyServerURL": "https://plot.ly"
       },
       "data": [
        {
         "coloraxis": "coloraxis",
         "hovertemplate": "x: %{x}<br>y: %{y}<br>color: %{z}<extra></extra>",
         "name": "0",
         "type": "heatmap",
         "x": [
          "age",
          "duration",
          "cons.price.idx",
          "cons.conf.idx",
          "subscribed"
         ],
         "xaxis": "x",
         "y": [
          "age",
          "duration",
          "cons.price.idx",
          "cons.conf.idx",
          "subscribed"
         ],
         "yaxis": "y",
         "z": [
          [
           1,
           -0.0007993373239173668,
           0.000959407563821801,
           0.12904662657589303,
           0.03041344866660176
          ],
          [
           -0.0007993373239173668,
           1,
           0.005307146065311044,
           -0.008095984065137238,
           0.40527828246871606
          ],
          [
           0.000959407563821801,
           0.005307146065311044,
           1,
           0.05911366555834394,
           -0.13627773502515136
          ],
          [
           0.12904662657589303,
           -0.008095984065137238,
           0.05911366555834394,
           1,
           0.05494622376169317
          ],
          [
           0.03041344866660176,
           0.40527828246871606,
           -0.13627773502515136,
           0.05494622376169317,
           1
          ]
         ]
        }
       ],
       "layout": {
        "coloraxis": {
         "colorscale": [
          [
           0,
           "#0d0887"
          ],
          [
           0.1111111111111111,
           "#46039f"
          ],
          [
           0.2222222222222222,
           "#7201a8"
          ],
          [
           0.3333333333333333,
           "#9c179e"
          ],
          [
           0.4444444444444444,
           "#bd3786"
          ],
          [
           0.5555555555555556,
           "#d8576b"
          ],
          [
           0.6666666666666666,
           "#ed7953"
          ],
          [
           0.7777777777777778,
           "#fb9f3a"
          ],
          [
           0.8888888888888888,
           "#fdca26"
          ],
          [
           1,
           "#f0f921"
          ]
         ]
        },
        "height": 800,
        "margin": {
         "t": 60
        },
        "template": {
         "data": {
          "bar": [
           {
            "error_x": {
             "color": "#2a3f5f"
            },
            "error_y": {
             "color": "#2a3f5f"
            },
            "marker": {
             "line": {
              "color": "#E5ECF6",
              "width": 0.5
             },
             "pattern": {
              "fillmode": "overlay",
              "size": 10,
              "solidity": 0.2
             }
            },
            "type": "bar"
           }
          ],
          "barpolar": [
           {
            "marker": {
             "line": {
              "color": "#E5ECF6",
              "width": 0.5
             },
             "pattern": {
              "fillmode": "overlay",
              "size": 10,
              "solidity": 0.2
             }
            },
            "type": "barpolar"
           }
          ],
          "carpet": [
           {
            "aaxis": {
             "endlinecolor": "#2a3f5f",
             "gridcolor": "white",
             "linecolor": "white",
             "minorgridcolor": "white",
             "startlinecolor": "#2a3f5f"
            },
            "baxis": {
             "endlinecolor": "#2a3f5f",
             "gridcolor": "white",
             "linecolor": "white",
             "minorgridcolor": "white",
             "startlinecolor": "#2a3f5f"
            },
            "type": "carpet"
           }
          ],
          "choropleth": [
           {
            "colorbar": {
             "outlinewidth": 0,
             "ticks": ""
            },
            "type": "choropleth"
           }
          ],
          "contour": [
           {
            "colorbar": {
             "outlinewidth": 0,
             "ticks": ""
            },
            "colorscale": [
             [
              0,
              "#0d0887"
             ],
             [
              0.1111111111111111,
              "#46039f"
             ],
             [
              0.2222222222222222,
              "#7201a8"
             ],
             [
              0.3333333333333333,
              "#9c179e"
             ],
             [
              0.4444444444444444,
              "#bd3786"
             ],
             [
              0.5555555555555556,
              "#d8576b"
             ],
             [
              0.6666666666666666,
              "#ed7953"
             ],
             [
              0.7777777777777778,
              "#fb9f3a"
             ],
             [
              0.8888888888888888,
              "#fdca26"
             ],
             [
              1,
              "#f0f921"
             ]
            ],
            "type": "contour"
           }
          ],
          "contourcarpet": [
           {
            "colorbar": {
             "outlinewidth": 0,
             "ticks": ""
            },
            "type": "contourcarpet"
           }
          ],
          "heatmap": [
           {
            "colorbar": {
             "outlinewidth": 0,
             "ticks": ""
            },
            "colorscale": [
             [
              0,
              "#0d0887"
             ],
             [
              0.1111111111111111,
              "#46039f"
             ],
             [
              0.2222222222222222,
              "#7201a8"
             ],
             [
              0.3333333333333333,
              "#9c179e"
             ],
             [
              0.4444444444444444,
              "#bd3786"
             ],
             [
              0.5555555555555556,
              "#d8576b"
             ],
             [
              0.6666666666666666,
              "#ed7953"
             ],
             [
              0.7777777777777778,
              "#fb9f3a"
             ],
             [
              0.8888888888888888,
              "#fdca26"
             ],
             [
              1,
              "#f0f921"
             ]
            ],
            "type": "heatmap"
           }
          ],
          "heatmapgl": [
           {
            "colorbar": {
             "outlinewidth": 0,
             "ticks": ""
            },
            "colorscale": [
             [
              0,
              "#0d0887"
             ],
             [
              0.1111111111111111,
              "#46039f"
             ],
             [
              0.2222222222222222,
              "#7201a8"
             ],
             [
              0.3333333333333333,
              "#9c179e"
             ],
             [
              0.4444444444444444,
              "#bd3786"
             ],
             [
              0.5555555555555556,
              "#d8576b"
             ],
             [
              0.6666666666666666,
              "#ed7953"
             ],
             [
              0.7777777777777778,
              "#fb9f3a"
             ],
             [
              0.8888888888888888,
              "#fdca26"
             ],
             [
              1,
              "#f0f921"
             ]
            ],
            "type": "heatmapgl"
           }
          ],
          "histogram": [
           {
            "marker": {
             "pattern": {
              "fillmode": "overlay",
              "size": 10,
              "solidity": 0.2
             }
            },
            "type": "histogram"
           }
          ],
          "histogram2d": [
           {
            "colorbar": {
             "outlinewidth": 0,
             "ticks": ""
            },
            "colorscale": [
             [
              0,
              "#0d0887"
             ],
             [
              0.1111111111111111,
              "#46039f"
             ],
             [
              0.2222222222222222,
              "#7201a8"
             ],
             [
              0.3333333333333333,
              "#9c179e"
             ],
             [
              0.4444444444444444,
              "#bd3786"
             ],
             [
              0.5555555555555556,
              "#d8576b"
             ],
             [
              0.6666666666666666,
              "#ed7953"
             ],
             [
              0.7777777777777778,
              "#fb9f3a"
             ],
             [
              0.8888888888888888,
              "#fdca26"
             ],
             [
              1,
              "#f0f921"
             ]
            ],
            "type": "histogram2d"
           }
          ],
          "histogram2dcontour": [
           {
            "colorbar": {
             "outlinewidth": 0,
             "ticks": ""
            },
            "colorscale": [
             [
              0,
              "#0d0887"
             ],
             [
              0.1111111111111111,
              "#46039f"
             ],
             [
              0.2222222222222222,
              "#7201a8"
             ],
             [
              0.3333333333333333,
              "#9c179e"
             ],
             [
              0.4444444444444444,
              "#bd3786"
             ],
             [
              0.5555555555555556,
              "#d8576b"
             ],
             [
              0.6666666666666666,
              "#ed7953"
             ],
             [
              0.7777777777777778,
              "#fb9f3a"
             ],
             [
              0.8888888888888888,
              "#fdca26"
             ],
             [
              1,
              "#f0f921"
             ]
            ],
            "type": "histogram2dcontour"
           }
          ],
          "mesh3d": [
           {
            "colorbar": {
             "outlinewidth": 0,
             "ticks": ""
            },
            "type": "mesh3d"
           }
          ],
          "parcoords": [
           {
            "line": {
             "colorbar": {
              "outlinewidth": 0,
              "ticks": ""
             }
            },
            "type": "parcoords"
           }
          ],
          "pie": [
           {
            "automargin": true,
            "type": "pie"
           }
          ],
          "scatter": [
           {
            "fillpattern": {
             "fillmode": "overlay",
             "size": 10,
             "solidity": 0.2
            },
            "type": "scatter"
           }
          ],
          "scatter3d": [
           {
            "line": {
             "colorbar": {
              "outlinewidth": 0,
              "ticks": ""
             }
            },
            "marker": {
             "colorbar": {
              "outlinewidth": 0,
              "ticks": ""
             }
            },
            "type": "scatter3d"
           }
          ],
          "scattercarpet": [
           {
            "marker": {
             "colorbar": {
              "outlinewidth": 0,
              "ticks": ""
             }
            },
            "type": "scattercarpet"
           }
          ],
          "scattergeo": [
           {
            "marker": {
             "colorbar": {
              "outlinewidth": 0,
              "ticks": ""
             }
            },
            "type": "scattergeo"
           }
          ],
          "scattergl": [
           {
            "marker": {
             "colorbar": {
              "outlinewidth": 0,
              "ticks": ""
             }
            },
            "type": "scattergl"
           }
          ],
          "scattermapbox": [
           {
            "marker": {
             "colorbar": {
              "outlinewidth": 0,
              "ticks": ""
             }
            },
            "type": "scattermapbox"
           }
          ],
          "scatterpolar": [
           {
            "marker": {
             "colorbar": {
              "outlinewidth": 0,
              "ticks": ""
             }
            },
            "type": "scatterpolar"
           }
          ],
          "scatterpolargl": [
           {
            "marker": {
             "colorbar": {
              "outlinewidth": 0,
              "ticks": ""
             }
            },
            "type": "scatterpolargl"
           }
          ],
          "scatterternary": [
           {
            "marker": {
             "colorbar": {
              "outlinewidth": 0,
              "ticks": ""
             }
            },
            "type": "scatterternary"
           }
          ],
          "surface": [
           {
            "colorbar": {
             "outlinewidth": 0,
             "ticks": ""
            },
            "colorscale": [
             [
              0,
              "#0d0887"
             ],
             [
              0.1111111111111111,
              "#46039f"
             ],
             [
              0.2222222222222222,
              "#7201a8"
             ],
             [
              0.3333333333333333,
              "#9c179e"
             ],
             [
              0.4444444444444444,
              "#bd3786"
             ],
             [
              0.5555555555555556,
              "#d8576b"
             ],
             [
              0.6666666666666666,
              "#ed7953"
             ],
             [
              0.7777777777777778,
              "#fb9f3a"
             ],
             [
              0.8888888888888888,
              "#fdca26"
             ],
             [
              1,
              "#f0f921"
             ]
            ],
            "type": "surface"
           }
          ],
          "table": [
           {
            "cells": {
             "fill": {
              "color": "#EBF0F8"
             },
             "line": {
              "color": "white"
             }
            },
            "header": {
             "fill": {
              "color": "#C8D4E3"
             },
             "line": {
              "color": "white"
             }
            },
            "type": "table"
           }
          ]
         },
         "layout": {
          "annotationdefaults": {
           "arrowcolor": "#2a3f5f",
           "arrowhead": 0,
           "arrowwidth": 1
          },
          "autotypenumbers": "strict",
          "coloraxis": {
           "colorbar": {
            "outlinewidth": 0,
            "ticks": ""
           }
          },
          "colorscale": {
           "diverging": [
            [
             0,
             "#8e0152"
            ],
            [
             0.1,
             "#c51b7d"
            ],
            [
             0.2,
             "#de77ae"
            ],
            [
             0.3,
             "#f1b6da"
            ],
            [
             0.4,
             "#fde0ef"
            ],
            [
             0.5,
             "#f7f7f7"
            ],
            [
             0.6,
             "#e6f5d0"
            ],
            [
             0.7,
             "#b8e186"
            ],
            [
             0.8,
             "#7fbc41"
            ],
            [
             0.9,
             "#4d9221"
            ],
            [
             1,
             "#276419"
            ]
           ],
           "sequential": [
            [
             0,
             "#0d0887"
            ],
            [
             0.1111111111111111,
             "#46039f"
            ],
            [
             0.2222222222222222,
             "#7201a8"
            ],
            [
             0.3333333333333333,
             "#9c179e"
            ],
            [
             0.4444444444444444,
             "#bd3786"
            ],
            [
             0.5555555555555556,
             "#d8576b"
            ],
            [
             0.6666666666666666,
             "#ed7953"
            ],
            [
             0.7777777777777778,
             "#fb9f3a"
            ],
            [
             0.8888888888888888,
             "#fdca26"
            ],
            [
             1,
             "#f0f921"
            ]
           ],
           "sequentialminus": [
            [
             0,
             "#0d0887"
            ],
            [
             0.1111111111111111,
             "#46039f"
            ],
            [
             0.2222222222222222,
             "#7201a8"
            ],
            [
             0.3333333333333333,
             "#9c179e"
            ],
            [
             0.4444444444444444,
             "#bd3786"
            ],
            [
             0.5555555555555556,
             "#d8576b"
            ],
            [
             0.6666666666666666,
             "#ed7953"
            ],
            [
             0.7777777777777778,
             "#fb9f3a"
            ],
            [
             0.8888888888888888,
             "#fdca26"
            ],
            [
             1,
             "#f0f921"
            ]
           ]
          },
          "colorway": [
           "#636efa",
           "#EF553B",
           "#00cc96",
           "#ab63fa",
           "#FFA15A",
           "#19d3f3",
           "#FF6692",
           "#B6E880",
           "#FF97FF",
           "#FECB52"
          ],
          "font": {
           "color": "#2a3f5f"
          },
          "geo": {
           "bgcolor": "white",
           "lakecolor": "white",
           "landcolor": "#E5ECF6",
           "showlakes": true,
           "showland": true,
           "subunitcolor": "white"
          },
          "hoverlabel": {
           "align": "left"
          },
          "hovermode": "closest",
          "mapbox": {
           "style": "light"
          },
          "paper_bgcolor": "white",
          "plot_bgcolor": "#E5ECF6",
          "polar": {
           "angularaxis": {
            "gridcolor": "white",
            "linecolor": "white",
            "ticks": ""
           },
           "bgcolor": "#E5ECF6",
           "radialaxis": {
            "gridcolor": "white",
            "linecolor": "white",
            "ticks": ""
           }
          },
          "scene": {
           "xaxis": {
            "backgroundcolor": "#E5ECF6",
            "gridcolor": "white",
            "gridwidth": 2,
            "linecolor": "white",
            "showbackground": true,
            "ticks": "",
            "zerolinecolor": "white"
           },
           "yaxis": {
            "backgroundcolor": "#E5ECF6",
            "gridcolor": "white",
            "gridwidth": 2,
            "linecolor": "white",
            "showbackground": true,
            "ticks": "",
            "zerolinecolor": "white"
           },
           "zaxis": {
            "backgroundcolor": "#E5ECF6",
            "gridcolor": "white",
            "gridwidth": 2,
            "linecolor": "white",
            "showbackground": true,
            "ticks": "",
            "zerolinecolor": "white"
           }
          },
          "shapedefaults": {
           "line": {
            "color": "#2a3f5f"
           }
          },
          "ternary": {
           "aaxis": {
            "gridcolor": "white",
            "linecolor": "white",
            "ticks": ""
           },
           "baxis": {
            "gridcolor": "white",
            "linecolor": "white",
            "ticks": ""
           },
           "bgcolor": "#E5ECF6",
           "caxis": {
            "gridcolor": "white",
            "linecolor": "white",
            "ticks": ""
           }
          },
          "title": {
           "x": 0.05
          },
          "xaxis": {
           "automargin": true,
           "gridcolor": "white",
           "linecolor": "white",
           "ticks": "",
           "title": {
            "standoff": 15
           },
           "zerolinecolor": "white",
           "zerolinewidth": 2
          },
          "yaxis": {
           "automargin": true,
           "gridcolor": "white",
           "linecolor": "white",
           "ticks": "",
           "title": {
            "standoff": 15
           },
           "zerolinecolor": "white",
           "zerolinewidth": 2
          }
         }
        },
        "width": 800,
        "xaxis": {
         "anchor": "y",
         "constrain": "domain",
         "domain": [
          0,
          1
         ],
         "scaleanchor": "y"
        },
        "yaxis": {
         "anchor": "x",
         "autorange": "reversed",
         "constrain": "domain",
         "domain": [
          0,
          1
         ]
        }
       }
      }
     },
     "metadata": {},
     "output_type": "display_data"
    }
   ],
   "source": [
    "numeric_cols_test=['age','duration','cons.price.idx','cons.conf.idx','subscribed']\n",
    "\n",
    "df_enc_corr = df_encoded[numeric_cols_test].corr()\n",
    "px.imshow(df_enc_corr,  width=800, height=800)"
   ]
  },
  {
   "cell_type": "code",
   "execution_count": 435,
   "metadata": {},
   "outputs": [
    {
     "data": {
      "text/plain": [
       "Index(['age', 'job', 'marital', 'education', 'contact', 'month', 'day_of_week',\n",
       "       'duration', 'campaign', 'previous', 'poutcome', 'cons.price.idx',\n",
       "       'cons.conf.idx', 'subscribed', 'campaign_bins', 'age_range', 'Income',\n",
       "       'niv_ed', 'first_contact'],\n",
       "      dtype='object')"
      ]
     },
     "execution_count": 435,
     "metadata": {},
     "output_type": "execute_result"
    }
   ],
   "source": [
    "df_encoded.columns"
   ]
  },
  {
   "cell_type": "code",
   "execution_count": 436,
   "metadata": {},
   "outputs": [
    {
     "data": {
      "text/plain": [
       "Index(['age', 'job', 'marital', 'education', 'contact', 'month', 'day_of_week',\n",
       "       'duration', 'campaign', 'previous', 'poutcome', 'cons.price.idx',\n",
       "       'cons.conf.idx', 'subscribed', 'campaign_bins', 'age_range', 'Income',\n",
       "       'niv_ed', 'first_contact'],\n",
       "      dtype='object')"
      ]
     },
     "execution_count": 436,
     "metadata": {},
     "output_type": "execute_result"
    }
   ],
   "source": [
    "df.columns"
   ]
  },
  {
   "cell_type": "markdown",
   "metadata": {},
   "source": [
    "## Guardando el dataset final"
   ]
  },
  {
   "cell_type": "code",
   "execution_count": 437,
   "metadata": {},
   "outputs": [],
   "source": [
    "df.to_csv(\"../data/processed/bank_campaign_final.csv\")"
   ]
  },
  {
   "cell_type": "markdown",
   "metadata": {},
   "source": [
    "## Conclusiones:\n",
    "\n",
    "Se han eliminado columnas fuertemente correlacionadas, columnas que no aportan informacion al modelo, y columnas no relevantes deacuerdo a los test estadisticos utilizados y se han añadido columnas derivadas para enriquecer la calidad de los datos con los que alimentaremos los modelos\n",
    "\n",
    "**En el proximo notebook pasaremos a la parte del modelado** \n",
    "\n",
    "\n",
    "## Referencias\n",
    "\n",
    "https://medium.com/nerd-for-tech/class-imbalance-problem-and-ways-to-handle-it-4861a195398a\n",
    "\n",
    "https://medium.com/analytics-vidhya/complete-guide-to-data-cleaning-with-python-8c686104686c\n",
    "\n",
    "https://medium.com/@outside2SDs/an-overview-of-correlation-measures-between-categorical-and-continuous-variables-4c7f85610365\n",
    "\n",
    "https://towardsdatascience.com/guide-to-encoding-categorical-features-using-scikit-learn-for-machine-learning-5048997a5c79\n",
    "\n",
    "\n",
    "Autor : \n",
    "**Nicolas Restrepo Carvajal** \n",
    "\n",
    "https://www.linkedin.com/in/niconomist98/\n",
    "\n",
    "https://github.com/niconomist98\n",
    "\n",
    "\n",
    "\n"
   ]
  },
  {
   "cell_type": "code",
   "execution_count": null,
   "metadata": {},
   "outputs": [],
   "source": []
  }
 ],
 "metadata": {
  "colab": {
   "collapsed_sections": [],
   "provenance": []
  },
  "kernelspec": {
   "display_name": "Python 3.9.13 ('sklearn')",
   "language": "python",
   "name": "python3"
  },
  "language_info": {
   "codemirror_mode": {
    "name": "ipython",
    "version": 3
   },
   "file_extension": ".py",
   "mimetype": "text/x-python",
   "name": "python",
   "nbconvert_exporter": "python",
   "pygments_lexer": "ipython3",
   "version": "3.9.13"
  },
  "vscode": {
   "interpreter": {
    "hash": "f802338f40a43bcc321ffbdf4397ffdaaa5abf0091e3b66539d27af78bb32df0"
   }
  }
 },
 "nbformat": 4,
 "nbformat_minor": 0
}
